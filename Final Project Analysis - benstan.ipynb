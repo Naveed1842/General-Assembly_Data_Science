{
 "cells": [
  {
   "cell_type": "markdown",
   "metadata": {},
   "source": [
    "# Final Project - Predicting Salaries for Baseball Players"
   ]
  },
  {
   "cell_type": "markdown",
   "metadata": {},
   "source": [
    "## Step 1: Initial imports, exploration, and creating feature sets"
   ]
  },
  {
   "cell_type": "code",
   "execution_count": 1,
   "metadata": {
    "collapsed": true
   },
   "outputs": [],
   "source": [
    "import pandas as pd\n",
    "import numpy as np\n",
    "import matplotlib.pyplot as plt\n",
    "%matplotlib inline\n",
    "pd.set_option('display.max_columns', None)\n",
    "from pandas.io import sql\n",
    "import sqlite3\n",
    "from sklearn import neighbors,metrics,cross_validation\n",
    "from sklearn.cross_validation import train_test_split\n",
    "from sklearn.ensemble import RandomForestRegressor\n",
    "from sklearn.cross_validation import cross_val_score\n",
    "from sklearn.ensemble import GradientBoostingRegressor\n",
    "from sklearn.tree import DecisionTreeRegressor\n",
    "from sklearn.decomposition import PCA"
   ]
  },
  {
   "cell_type": "code",
   "execution_count": 2,
   "metadata": {
    "collapsed": false
   },
   "outputs": [],
   "source": [
    "df_batting = pd.read_csv(\"/Users/benstan/Documents/Python/benstan GA Data Science/Projects/baseball_data/batting.csv\")\n",
    "df_pitching = pd.read_csv(\"/Users/benstan/Documents/Python/benstan GA Data Science/Projects/baseball_data/pitching.csv\")\n",
    "df_fielding = pd.read_csv(\"/Users/benstan/Documents/Python/benstan GA Data Science/Projects/baseball_data/fielding.csv\")\n",
    "df_all_star = pd.read_csv(\"/Users/benstan/Documents/Python/benstan GA Data Science/Projects/baseball_data/all_star.csv\")\n",
    "df_salary = pd.read_csv(\"/Users/benstan/Documents/Python/benstan GA Data Science/Projects/baseball_data/salary.csv\")"
   ]
  },
  {
   "cell_type": "code",
   "execution_count": 3,
   "metadata": {
    "collapsed": false
   },
   "outputs": [],
   "source": [
    "df_player = pd.read_csv(\"/Users/benstan/Documents/Python/benstan GA Data Science/Projects/baseball_data/player.csv\")\n",
    "df_player = df_player[['player_id','birth_year']]\n",
    "df_player['age'] = 2015-df_player['birth_year']\n",
    "del df_player['birth_year']\n",
    "df_player.set_index('player_id',inplace=True)"
   ]
  },
  {
   "cell_type": "code",
   "execution_count": 4,
   "metadata": {
    "collapsed": false
   },
   "outputs": [],
   "source": [
    "batting = df_batting[df_batting['year'] == 2014].copy().reset_index()\n",
    "pitching = df_pitching[df_pitching['year'] == 2014].copy().reset_index()\n",
    "fielding = df_fielding[df_fielding['year'] == 2014].copy().reset_index()\n",
    "all_star = df_all_star[df_all_star['year'] == 2014].copy().reset_index()\n",
    "salary = df_salary[df_salary['year'] == 2015].copy().reset_index()"
   ]
  },
  {
   "cell_type": "code",
   "execution_count": 5,
   "metadata": {
    "collapsed": false,
    "scrolled": true
   },
   "outputs": [
    {
     "name": "stdout",
     "output_type": "stream",
     "text": [
      "Batting:\n",
      "(1435, 23)\n",
      "1320\n",
      "Fielding:\n",
      "(2487, 19)\n",
      "1313\n",
      "All star:\n",
      "(81, 9)\n",
      "81\n",
      "Salary:\n",
      "(817, 6)\n",
      "817\n"
     ]
    }
   ],
   "source": [
    "print \"Batting:\"\n",
    "print batting.shape\n",
    "print len(np.unique(batting.player_id))\n",
    "fielding.replace({'pos':{'LF':'OF','RF':'OF','CF':'OF'}},inplace=True)\n",
    "print \"Fielding:\"\n",
    "print fielding.shape\n",
    "print len(np.unique(fielding.player_id))\n",
    "print \"All star:\"\n",
    "print all_star.shape\n",
    "print len(np.unique(all_star.player_id)) # No need for de-duping here\n",
    "print \"Salary:\"\n",
    "print salary.shape\n",
    "print len(np.unique(salary.player_id)) # No need for de-duping here"
   ]
  },
  {
   "cell_type": "code",
   "execution_count": 6,
   "metadata": {
    "collapsed": false
   },
   "outputs": [
    {
     "data": {
      "text/html": [
       "<div>\n",
       "<table border=\"1\" class=\"dataframe\">\n",
       "  <thead>\n",
       "    <tr style=\"text-align: right;\">\n",
       "      <th></th>\n",
       "      <th>was_all_star</th>\n",
       "    </tr>\n",
       "    <tr>\n",
       "      <th>player_id</th>\n",
       "      <th></th>\n",
       "    </tr>\n",
       "  </thead>\n",
       "  <tbody>\n",
       "    <tr>\n",
       "      <th>cruzne02</th>\n",
       "      <td>1</td>\n",
       "    </tr>\n",
       "    <tr>\n",
       "      <th>hernafe02</th>\n",
       "      <td>1</td>\n",
       "    </tr>\n",
       "    <tr>\n",
       "      <th>perezsa02</th>\n",
       "      <td>1</td>\n",
       "    </tr>\n",
       "    <tr>\n",
       "      <th>cabremi01</th>\n",
       "      <td>1</td>\n",
       "    </tr>\n",
       "    <tr>\n",
       "      <th>canoro01</th>\n",
       "      <td>1</td>\n",
       "    </tr>\n",
       "  </tbody>\n",
       "</table>\n",
       "</div>"
      ],
      "text/plain": [
       "           was_all_star\n",
       "player_id              \n",
       "cruzne02              1\n",
       "hernafe02             1\n",
       "perezsa02             1\n",
       "cabremi01             1\n",
       "canoro01              1"
      ]
     },
     "execution_count": 6,
     "metadata": {},
     "output_type": "execute_result"
    }
   ],
   "source": [
    "all_star.set_index('player_id',inplace=True)\n",
    "all_star['was_all_star'] = 1\n",
    "for i in ['league_id','team_id','year','index','game_num','game_id','starting_pos','gp']:\n",
    "    del all_star[i]\n",
    "all_star.head()"
   ]
  },
  {
   "cell_type": "code",
   "execution_count": 7,
   "metadata": {
    "collapsed": false
   },
   "outputs": [
    {
     "data": {
      "text/html": [
       "<div>\n",
       "<table border=\"1\" class=\"dataframe\">\n",
       "  <thead>\n",
       "    <tr style=\"text-align: right;\">\n",
       "      <th></th>\n",
       "      <th>salary</th>\n",
       "    </tr>\n",
       "    <tr>\n",
       "      <th>player_id</th>\n",
       "      <th></th>\n",
       "    </tr>\n",
       "  </thead>\n",
       "  <tbody>\n",
       "    <tr>\n",
       "      <th>ahmedni01</th>\n",
       "      <td>508500</td>\n",
       "    </tr>\n",
       "    <tr>\n",
       "      <th>anderch01</th>\n",
       "      <td>512500</td>\n",
       "    </tr>\n",
       "    <tr>\n",
       "      <th>chafian01</th>\n",
       "      <td>507500</td>\n",
       "    </tr>\n",
       "    <tr>\n",
       "      <th>collmjo01</th>\n",
       "      <td>1400000</td>\n",
       "    </tr>\n",
       "    <tr>\n",
       "      <th>corbipa01</th>\n",
       "      <td>524000</td>\n",
       "    </tr>\n",
       "  </tbody>\n",
       "</table>\n",
       "</div>"
      ],
      "text/plain": [
       "            salary\n",
       "player_id         \n",
       "ahmedni01   508500\n",
       "anderch01   512500\n",
       "chafian01   507500\n",
       "collmjo01  1400000\n",
       "corbipa01   524000"
      ]
     },
     "execution_count": 7,
     "metadata": {},
     "output_type": "execute_result"
    }
   ],
   "source": [
    "salary.set_index('player_id',inplace=True)\n",
    "for i in ['league_id','team_id','year','index']:\n",
    "    del salary[i]\n",
    "salary.head()"
   ]
  },
  {
   "cell_type": "code",
   "execution_count": 8,
   "metadata": {
    "collapsed": false
   },
   "outputs": [],
   "source": [
    "conn = sqlite3.connect('batting.db', detect_types=sqlite3.PARSE_DECLTYPES)\n",
    "batting.to_sql('batting',\n",
    "            con=conn,\n",
    "            if_exists='replace',\n",
    "            index=False)"
   ]
  },
  {
   "cell_type": "code",
   "execution_count": 9,
   "metadata": {
    "collapsed": false
   },
   "outputs": [
    {
     "data": {
      "text/html": [
       "<div>\n",
       "<table border=\"1\" class=\"dataframe\">\n",
       "  <thead>\n",
       "    <tr style=\"text-align: right;\">\n",
       "      <th></th>\n",
       "      <th>player_id</th>\n",
       "      <th>team_id</th>\n",
       "      <th>league_id</th>\n",
       "      <th>g</th>\n",
       "      <th>ab</th>\n",
       "      <th>r</th>\n",
       "      <th>h</th>\n",
       "      <th>double</th>\n",
       "      <th>triple</th>\n",
       "      <th>hr</th>\n",
       "      <th>rbi</th>\n",
       "      <th>sb</th>\n",
       "      <th>cs</th>\n",
       "      <th>bb</th>\n",
       "      <th>so</th>\n",
       "      <th>ibb</th>\n",
       "      <th>hbp</th>\n",
       "      <th>sh</th>\n",
       "      <th>sf</th>\n",
       "      <th>g_idp</th>\n",
       "    </tr>\n",
       "  </thead>\n",
       "  <tbody>\n",
       "    <tr>\n",
       "      <th>0</th>\n",
       "      <td>abadfe01</td>\n",
       "      <td>OAK</td>\n",
       "      <td>AL</td>\n",
       "      <td>69</td>\n",
       "      <td>0</td>\n",
       "      <td>0</td>\n",
       "      <td>0</td>\n",
       "      <td>0</td>\n",
       "      <td>0</td>\n",
       "      <td>0</td>\n",
       "      <td>0</td>\n",
       "      <td>0</td>\n",
       "      <td>0</td>\n",
       "      <td>0</td>\n",
       "      <td>0</td>\n",
       "      <td>0</td>\n",
       "      <td>0</td>\n",
       "      <td>0</td>\n",
       "      <td>0</td>\n",
       "      <td>0</td>\n",
       "    </tr>\n",
       "    <tr>\n",
       "      <th>1</th>\n",
       "      <td>abreubo01</td>\n",
       "      <td>NYN</td>\n",
       "      <td>NL</td>\n",
       "      <td>78</td>\n",
       "      <td>133</td>\n",
       "      <td>12</td>\n",
       "      <td>33</td>\n",
       "      <td>9</td>\n",
       "      <td>0</td>\n",
       "      <td>1</td>\n",
       "      <td>14</td>\n",
       "      <td>1</td>\n",
       "      <td>0</td>\n",
       "      <td>20</td>\n",
       "      <td>21</td>\n",
       "      <td>0</td>\n",
       "      <td>0</td>\n",
       "      <td>0</td>\n",
       "      <td>2</td>\n",
       "      <td>3</td>\n",
       "    </tr>\n",
       "    <tr>\n",
       "      <th>2</th>\n",
       "      <td>abreujo02</td>\n",
       "      <td>CHA</td>\n",
       "      <td>AL</td>\n",
       "      <td>145</td>\n",
       "      <td>556</td>\n",
       "      <td>80</td>\n",
       "      <td>176</td>\n",
       "      <td>35</td>\n",
       "      <td>2</td>\n",
       "      <td>36</td>\n",
       "      <td>107</td>\n",
       "      <td>3</td>\n",
       "      <td>1</td>\n",
       "      <td>51</td>\n",
       "      <td>131</td>\n",
       "      <td>15</td>\n",
       "      <td>11</td>\n",
       "      <td>0</td>\n",
       "      <td>4</td>\n",
       "      <td>14</td>\n",
       "    </tr>\n",
       "    <tr>\n",
       "      <th>3</th>\n",
       "      <td>abreuto01</td>\n",
       "      <td>SFN</td>\n",
       "      <td>NL</td>\n",
       "      <td>3</td>\n",
       "      <td>4</td>\n",
       "      <td>0</td>\n",
       "      <td>0</td>\n",
       "      <td>0</td>\n",
       "      <td>0</td>\n",
       "      <td>0</td>\n",
       "      <td>0</td>\n",
       "      <td>0</td>\n",
       "      <td>0</td>\n",
       "      <td>0</td>\n",
       "      <td>0</td>\n",
       "      <td>0</td>\n",
       "      <td>0</td>\n",
       "      <td>0</td>\n",
       "      <td>0</td>\n",
       "      <td>1</td>\n",
       "    </tr>\n",
       "    <tr>\n",
       "      <th>4</th>\n",
       "      <td>aceveal01</td>\n",
       "      <td>NYA</td>\n",
       "      <td>AL</td>\n",
       "      <td>10</td>\n",
       "      <td>0</td>\n",
       "      <td>0</td>\n",
       "      <td>0</td>\n",
       "      <td>0</td>\n",
       "      <td>0</td>\n",
       "      <td>0</td>\n",
       "      <td>0</td>\n",
       "      <td>0</td>\n",
       "      <td>0</td>\n",
       "      <td>0</td>\n",
       "      <td>0</td>\n",
       "      <td>0</td>\n",
       "      <td>0</td>\n",
       "      <td>0</td>\n",
       "      <td>0</td>\n",
       "      <td>0</td>\n",
       "    </tr>\n",
       "  </tbody>\n",
       "</table>\n",
       "</div>"
      ],
      "text/plain": [
       "   player_id team_id league_id    g   ab   r    h  double  triple  hr  rbi  \\\n",
       "0   abadfe01     OAK        AL   69    0   0    0       0       0   0    0   \n",
       "1  abreubo01     NYN        NL   78  133  12   33       9       0   1   14   \n",
       "2  abreujo02     CHA        AL  145  556  80  176      35       2  36  107   \n",
       "3  abreuto01     SFN        NL    3    4   0    0       0       0   0    0   \n",
       "4  aceveal01     NYA        AL   10    0   0    0       0       0   0    0   \n",
       "\n",
       "   sb  cs  bb   so  ibb  hbp  sh  sf  g_idp  \n",
       "0   0   0   0    0    0    0   0   0      0  \n",
       "1   1   0  20   21    0    0   0   2      3  \n",
       "2   3   1  51  131   15   11   0   4     14  \n",
       "3   0   0   0    0    0    0   0   0      1  \n",
       "4   0   0   0    0    0    0   0   0      0  "
      ]
     },
     "execution_count": 9,
     "metadata": {},
     "output_type": "execute_result"
    }
   ],
   "source": [
    "batting=sql.read_sql(\"\"\"\n",
    "SELECT\n",
    "player_id,\n",
    "MAX(team_id) AS team_id,\n",
    "MAX(league_id) AS league_id,\n",
    "SUM(g) AS g,\n",
    "SUM(ab) AS ab,\n",
    "SUM(r) AS r,\n",
    "SUM(h) AS h,\n",
    "SUM(double) AS double,\n",
    "SUM(triple) AS triple,\n",
    "SUM(hr) AS hr,\n",
    "SUM(rbi) AS rbi,\n",
    "SUM(sb) AS sb,\n",
    "SUM(cs) AS cs,\n",
    "SUM(bb) AS bb,\n",
    "SUM(so) AS so,\n",
    "SUM(ibb) AS ibb,\n",
    "SUM(hbp) AS hbp,\n",
    "SUM(sh) AS sh,\n",
    "SUM(sf) AS sf,\n",
    "SUM(g_idp) AS g_idp\n",
    "\n",
    "FROM\n",
    "batting\n",
    "\n",
    "GROUP BY 1\n",
    "\"\"\", con=conn)\n",
    "batting.head()"
   ]
  },
  {
   "cell_type": "code",
   "execution_count": 10,
   "metadata": {
    "collapsed": true
   },
   "outputs": [],
   "source": [
    "conn = sqlite3.connect('fielding.db', detect_types=sqlite3.PARSE_DECLTYPES)\n",
    "fielding.to_sql('fielding',\n",
    "            con=conn,\n",
    "            if_exists='replace',\n",
    "            index=False)"
   ]
  },
  {
   "cell_type": "code",
   "execution_count": 11,
   "metadata": {
    "collapsed": false
   },
   "outputs": [
    {
     "data": {
      "text/html": [
       "<div>\n",
       "<table border=\"1\" class=\"dataframe\">\n",
       "  <thead>\n",
       "    <tr style=\"text-align: right;\">\n",
       "      <th></th>\n",
       "      <th>player_id</th>\n",
       "      <th>pos</th>\n",
       "      <th>team_id</th>\n",
       "      <th>league_id</th>\n",
       "      <th>g</th>\n",
       "      <th>gs</th>\n",
       "      <th>inn_outs</th>\n",
       "      <th>po</th>\n",
       "      <th>a</th>\n",
       "      <th>e</th>\n",
       "      <th>dp</th>\n",
       "    </tr>\n",
       "  </thead>\n",
       "  <tbody>\n",
       "    <tr>\n",
       "      <th>0</th>\n",
       "      <td>abadfe01</td>\n",
       "      <td>P</td>\n",
       "      <td>OAK</td>\n",
       "      <td>AL</td>\n",
       "      <td>69</td>\n",
       "      <td>None</td>\n",
       "      <td>171</td>\n",
       "      <td>0</td>\n",
       "      <td>8</td>\n",
       "      <td>0</td>\n",
       "      <td>0</td>\n",
       "    </tr>\n",
       "    <tr>\n",
       "      <th>1</th>\n",
       "      <td>abreubo01</td>\n",
       "      <td>OF</td>\n",
       "      <td>NYN</td>\n",
       "      <td>NL</td>\n",
       "      <td>62</td>\n",
       "      <td>None</td>\n",
       "      <td>618</td>\n",
       "      <td>74</td>\n",
       "      <td>0</td>\n",
       "      <td>4</td>\n",
       "      <td>0</td>\n",
       "    </tr>\n",
       "    <tr>\n",
       "      <th>2</th>\n",
       "      <td>abreujo02</td>\n",
       "      <td>1B</td>\n",
       "      <td>CHA</td>\n",
       "      <td>AL</td>\n",
       "      <td>109</td>\n",
       "      <td>None</td>\n",
       "      <td>2871</td>\n",
       "      <td>970</td>\n",
       "      <td>69</td>\n",
       "      <td>6</td>\n",
       "      <td>105</td>\n",
       "    </tr>\n",
       "    <tr>\n",
       "      <th>3</th>\n",
       "      <td>abreuto01</td>\n",
       "      <td>3B</td>\n",
       "      <td>SFN</td>\n",
       "      <td>NL</td>\n",
       "      <td>2</td>\n",
       "      <td>None</td>\n",
       "      <td>21</td>\n",
       "      <td>2</td>\n",
       "      <td>1</td>\n",
       "      <td>0</td>\n",
       "      <td>0</td>\n",
       "    </tr>\n",
       "    <tr>\n",
       "      <th>4</th>\n",
       "      <td>aceveal01</td>\n",
       "      <td>P</td>\n",
       "      <td>NYA</td>\n",
       "      <td>AL</td>\n",
       "      <td>10</td>\n",
       "      <td>None</td>\n",
       "      <td>57</td>\n",
       "      <td>2</td>\n",
       "      <td>1</td>\n",
       "      <td>0</td>\n",
       "      <td>0</td>\n",
       "    </tr>\n",
       "  </tbody>\n",
       "</table>\n",
       "</div>"
      ],
      "text/plain": [
       "   player_id pos team_id league_id    g    gs  inn_outs   po   a  e   dp\n",
       "0   abadfe01   P     OAK        AL   69  None       171    0   8  0    0\n",
       "1  abreubo01  OF     NYN        NL   62  None       618   74   0  4    0\n",
       "2  abreujo02  1B     CHA        AL  109  None      2871  970  69  6  105\n",
       "3  abreuto01  3B     SFN        NL    2  None        21    2   1  0    0\n",
       "4  aceveal01   P     NYA        AL   10  None        57    2   1  0    0"
      ]
     },
     "execution_count": 11,
     "metadata": {},
     "output_type": "execute_result"
    }
   ],
   "source": [
    "fielding=sql.read_sql(\"\"\"\n",
    "SELECT\n",
    "player_id,\n",
    "MAX(pos) AS pos,\n",
    "MAX(team_id) AS team_id,\n",
    "MAX(league_id) AS league_id,\n",
    "SUM(g) AS g,\n",
    "SUM(gs) AS gs,\n",
    "SUM(inn_outs) AS inn_outs,\n",
    "SUM(po) AS po,\n",
    "SUM(a) AS a,\n",
    "SUM(e) AS e,\n",
    "SUM(dp) AS dp\n",
    "\n",
    "FROM\n",
    "fielding\n",
    "\n",
    "GROUP BY 1\n",
    "\"\"\", con=conn)\n",
    "fielding.head()"
   ]
  },
  {
   "cell_type": "code",
   "execution_count": 12,
   "metadata": {
    "collapsed": false
   },
   "outputs": [],
   "source": [
    "fielding.set_index('player_id',inplace=True)\n",
    "del fielding['team_id']\n",
    "del fielding['league_id']\n",
    "del fielding['g']\n",
    "del fielding['gs']\n",
    "pitching.set_index('player_id',inplace=True)\n",
    "batting.set_index('player_id',inplace=True)"
   ]
  },
  {
   "cell_type": "code",
   "execution_count": 13,
   "metadata": {
    "collapsed": false
   },
   "outputs": [],
   "source": [
    "bat1 = pd.merge(batting,fielding,how='left',left_index=True,right_index=True,suffixes=('_bat','_field'))\n",
    "bat2 = pd.merge(bat1,salary,how='left',left_index=True,right_index=True)\n",
    "bat3 = pd.merge(bat2,all_star,how='left',left_index=True,right_index=True)\n",
    "bat4 = pd.merge(bat3,df_player,how='left',left_index=True,right_index=True)"
   ]
  },
  {
   "cell_type": "code",
   "execution_count": 14,
   "metadata": {
    "collapsed": false
   },
   "outputs": [],
   "source": [
    "pos_player_df = bat4[((bat4['salary'].notnull())&(bat4['pos']!='P'))].fillna(0).copy()\n",
    "del pos_player_df['team_id']\n",
    "pos_player_df['in_al'] = pos_player_df['league_id'].map({'AL':1,'NL':0})\n",
    "del pos_player_df['league_id']\n",
    "dummies_pos = pd.get_dummies(pos_player_df['pos'],prefix='pos')\n",
    "pos_player_df = pd.concat([pos_player_df,dummies_pos],axis=1)\n",
    "del pos_player_df['pos']"
   ]
  },
  {
   "cell_type": "code",
   "execution_count": 15,
   "metadata": {
    "collapsed": false
   },
   "outputs": [],
   "source": [
    "pos_player_df['ba'] = pos_player_df['h'] / pos_player_df['ab']\n",
    "pos_player_df['slg'] = ((pos_player_df['h']-(pos_player_df['double']+pos_player_df['triple']+pos_player_df['hr']))+\n",
    "                    (2*pos_player_df['double']+3*pos_player_df['triple']+4*pos_player_df['hr'])) / pos_player_df['ab']\n",
    "pos_player_df['obp'] = (pos_player_df['h']+pos_player_df['bb']+pos_player_df['hbp']) / (pos_player_df['ab']+pos_player_df['bb']+pos_player_df['hbp']+pos_player_df['sh']+pos_player_df['sf'])"
   ]
  },
  {
   "cell_type": "code",
   "execution_count": 16,
   "metadata": {
    "collapsed": false
   },
   "outputs": [
    {
     "data": {
      "text/html": [
       "<div>\n",
       "<table border=\"1\" class=\"dataframe\">\n",
       "  <thead>\n",
       "    <tr style=\"text-align: right;\">\n",
       "      <th></th>\n",
       "      <th>g</th>\n",
       "      <th>ab</th>\n",
       "      <th>r</th>\n",
       "      <th>h</th>\n",
       "      <th>double</th>\n",
       "      <th>triple</th>\n",
       "      <th>hr</th>\n",
       "      <th>rbi</th>\n",
       "      <th>sb</th>\n",
       "      <th>cs</th>\n",
       "      <th>bb</th>\n",
       "      <th>so</th>\n",
       "      <th>ibb</th>\n",
       "      <th>hbp</th>\n",
       "      <th>sh</th>\n",
       "      <th>sf</th>\n",
       "      <th>g_idp</th>\n",
       "      <th>inn_outs</th>\n",
       "      <th>po</th>\n",
       "      <th>a</th>\n",
       "      <th>e</th>\n",
       "      <th>dp</th>\n",
       "      <th>salary</th>\n",
       "      <th>was_all_star</th>\n",
       "      <th>age</th>\n",
       "      <th>in_al</th>\n",
       "      <th>pos_1B</th>\n",
       "      <th>pos_2B</th>\n",
       "      <th>pos_3B</th>\n",
       "      <th>pos_C</th>\n",
       "      <th>pos_OF</th>\n",
       "      <th>pos_SS</th>\n",
       "      <th>ba</th>\n",
       "      <th>slg</th>\n",
       "      <th>obp</th>\n",
       "    </tr>\n",
       "    <tr>\n",
       "      <th>player_id</th>\n",
       "      <th></th>\n",
       "      <th></th>\n",
       "      <th></th>\n",
       "      <th></th>\n",
       "      <th></th>\n",
       "      <th></th>\n",
       "      <th></th>\n",
       "      <th></th>\n",
       "      <th></th>\n",
       "      <th></th>\n",
       "      <th></th>\n",
       "      <th></th>\n",
       "      <th></th>\n",
       "      <th></th>\n",
       "      <th></th>\n",
       "      <th></th>\n",
       "      <th></th>\n",
       "      <th></th>\n",
       "      <th></th>\n",
       "      <th></th>\n",
       "      <th></th>\n",
       "      <th></th>\n",
       "      <th></th>\n",
       "      <th></th>\n",
       "      <th></th>\n",
       "      <th></th>\n",
       "      <th></th>\n",
       "      <th></th>\n",
       "      <th></th>\n",
       "      <th></th>\n",
       "      <th></th>\n",
       "      <th></th>\n",
       "      <th></th>\n",
       "      <th></th>\n",
       "      <th></th>\n",
       "    </tr>\n",
       "  </thead>\n",
       "  <tbody>\n",
       "    <tr>\n",
       "      <th>abreujo02</th>\n",
       "      <td>145</td>\n",
       "      <td>556</td>\n",
       "      <td>80</td>\n",
       "      <td>176</td>\n",
       "      <td>35</td>\n",
       "      <td>2</td>\n",
       "      <td>36</td>\n",
       "      <td>107</td>\n",
       "      <td>3</td>\n",
       "      <td>1</td>\n",
       "      <td>51</td>\n",
       "      <td>131</td>\n",
       "      <td>15</td>\n",
       "      <td>11</td>\n",
       "      <td>0</td>\n",
       "      <td>4</td>\n",
       "      <td>14</td>\n",
       "      <td>2871</td>\n",
       "      <td>970</td>\n",
       "      <td>69</td>\n",
       "      <td>6</td>\n",
       "      <td>105</td>\n",
       "      <td>8666000</td>\n",
       "      <td>1</td>\n",
       "      <td>28</td>\n",
       "      <td>1</td>\n",
       "      <td>1</td>\n",
       "      <td>0</td>\n",
       "      <td>0</td>\n",
       "      <td>0</td>\n",
       "      <td>0</td>\n",
       "      <td>0</td>\n",
       "      <td>0.316547</td>\n",
       "      <td>0.580935</td>\n",
       "      <td>0.382637</td>\n",
       "    </tr>\n",
       "    <tr>\n",
       "      <th>ackledu01</th>\n",
       "      <td>143</td>\n",
       "      <td>502</td>\n",
       "      <td>64</td>\n",
       "      <td>123</td>\n",
       "      <td>27</td>\n",
       "      <td>4</td>\n",
       "      <td>14</td>\n",
       "      <td>65</td>\n",
       "      <td>8</td>\n",
       "      <td>4</td>\n",
       "      <td>32</td>\n",
       "      <td>90</td>\n",
       "      <td>1</td>\n",
       "      <td>3</td>\n",
       "      <td>3</td>\n",
       "      <td>2</td>\n",
       "      <td>10</td>\n",
       "      <td>3390</td>\n",
       "      <td>490</td>\n",
       "      <td>8</td>\n",
       "      <td>4</td>\n",
       "      <td>4</td>\n",
       "      <td>2600000</td>\n",
       "      <td>0</td>\n",
       "      <td>27</td>\n",
       "      <td>1</td>\n",
       "      <td>0</td>\n",
       "      <td>0</td>\n",
       "      <td>0</td>\n",
       "      <td>0</td>\n",
       "      <td>1</td>\n",
       "      <td>0</td>\n",
       "      <td>0.245020</td>\n",
       "      <td>0.398406</td>\n",
       "      <td>0.291513</td>\n",
       "    </tr>\n",
       "    <tr>\n",
       "      <th>adamsma01</th>\n",
       "      <td>142</td>\n",
       "      <td>527</td>\n",
       "      <td>55</td>\n",
       "      <td>152</td>\n",
       "      <td>34</td>\n",
       "      <td>5</td>\n",
       "      <td>15</td>\n",
       "      <td>68</td>\n",
       "      <td>3</td>\n",
       "      <td>2</td>\n",
       "      <td>26</td>\n",
       "      <td>114</td>\n",
       "      <td>5</td>\n",
       "      <td>3</td>\n",
       "      <td>0</td>\n",
       "      <td>7</td>\n",
       "      <td>9</td>\n",
       "      <td>3489</td>\n",
       "      <td>1115</td>\n",
       "      <td>80</td>\n",
       "      <td>9</td>\n",
       "      <td>111</td>\n",
       "      <td>534000</td>\n",
       "      <td>0</td>\n",
       "      <td>27</td>\n",
       "      <td>0</td>\n",
       "      <td>1</td>\n",
       "      <td>0</td>\n",
       "      <td>0</td>\n",
       "      <td>0</td>\n",
       "      <td>0</td>\n",
       "      <td>0</td>\n",
       "      <td>0.288425</td>\n",
       "      <td>0.457306</td>\n",
       "      <td>0.321492</td>\n",
       "    </tr>\n",
       "    <tr>\n",
       "      <th>ahmedni01</th>\n",
       "      <td>25</td>\n",
       "      <td>70</td>\n",
       "      <td>9</td>\n",
       "      <td>14</td>\n",
       "      <td>2</td>\n",
       "      <td>0</td>\n",
       "      <td>1</td>\n",
       "      <td>4</td>\n",
       "      <td>0</td>\n",
       "      <td>1</td>\n",
       "      <td>3</td>\n",
       "      <td>10</td>\n",
       "      <td>0</td>\n",
       "      <td>0</td>\n",
       "      <td>2</td>\n",
       "      <td>0</td>\n",
       "      <td>2</td>\n",
       "      <td>501</td>\n",
       "      <td>27</td>\n",
       "      <td>45</td>\n",
       "      <td>2</td>\n",
       "      <td>13</td>\n",
       "      <td>508500</td>\n",
       "      <td>0</td>\n",
       "      <td>25</td>\n",
       "      <td>0</td>\n",
       "      <td>0</td>\n",
       "      <td>0</td>\n",
       "      <td>0</td>\n",
       "      <td>0</td>\n",
       "      <td>0</td>\n",
       "      <td>1</td>\n",
       "      <td>0.200000</td>\n",
       "      <td>0.271429</td>\n",
       "      <td>0.226667</td>\n",
       "    </tr>\n",
       "    <tr>\n",
       "      <th>alcanar01</th>\n",
       "      <td>70</td>\n",
       "      <td>278</td>\n",
       "      <td>31</td>\n",
       "      <td>57</td>\n",
       "      <td>11</td>\n",
       "      <td>2</td>\n",
       "      <td>10</td>\n",
       "      <td>29</td>\n",
       "      <td>8</td>\n",
       "      <td>5</td>\n",
       "      <td>17</td>\n",
       "      <td>93</td>\n",
       "      <td>0</td>\n",
       "      <td>2</td>\n",
       "      <td>1</td>\n",
       "      <td>2</td>\n",
       "      <td>3</td>\n",
       "      <td>1890</td>\n",
       "      <td>253</td>\n",
       "      <td>69</td>\n",
       "      <td>11</td>\n",
       "      <td>9</td>\n",
       "      <td>510000</td>\n",
       "      <td>0</td>\n",
       "      <td>24</td>\n",
       "      <td>0</td>\n",
       "      <td>0</td>\n",
       "      <td>0</td>\n",
       "      <td>0</td>\n",
       "      <td>0</td>\n",
       "      <td>1</td>\n",
       "      <td>0</td>\n",
       "      <td>0.205036</td>\n",
       "      <td>0.366906</td>\n",
       "      <td>0.253333</td>\n",
       "    </tr>\n",
       "  </tbody>\n",
       "</table>\n",
       "</div>"
      ],
      "text/plain": [
       "             g   ab   r    h  double  triple  hr  rbi  sb  cs  bb   so  ibb  \\\n",
       "player_id                                                                     \n",
       "abreujo02  145  556  80  176      35       2  36  107   3   1  51  131   15   \n",
       "ackledu01  143  502  64  123      27       4  14   65   8   4  32   90    1   \n",
       "adamsma01  142  527  55  152      34       5  15   68   3   2  26  114    5   \n",
       "ahmedni01   25   70   9   14       2       0   1    4   0   1   3   10    0   \n",
       "alcanar01   70  278  31   57      11       2  10   29   8   5  17   93    0   \n",
       "\n",
       "           hbp  sh  sf  g_idp  inn_outs    po   a   e   dp   salary  \\\n",
       "player_id                                                             \n",
       "abreujo02   11   0   4     14      2871   970  69   6  105  8666000   \n",
       "ackledu01    3   3   2     10      3390   490   8   4    4  2600000   \n",
       "adamsma01    3   0   7      9      3489  1115  80   9  111   534000   \n",
       "ahmedni01    0   2   0      2       501    27  45   2   13   508500   \n",
       "alcanar01    2   1   2      3      1890   253  69  11    9   510000   \n",
       "\n",
       "           was_all_star  age  in_al  pos_1B  pos_2B  pos_3B  pos_C  pos_OF  \\\n",
       "player_id                                                                    \n",
       "abreujo02             1   28      1       1       0       0      0       0   \n",
       "ackledu01             0   27      1       0       0       0      0       1   \n",
       "adamsma01             0   27      0       1       0       0      0       0   \n",
       "ahmedni01             0   25      0       0       0       0      0       0   \n",
       "alcanar01             0   24      0       0       0       0      0       1   \n",
       "\n",
       "           pos_SS        ba       slg       obp  \n",
       "player_id                                        \n",
       "abreujo02       0  0.316547  0.580935  0.382637  \n",
       "ackledu01       0  0.245020  0.398406  0.291513  \n",
       "adamsma01       0  0.288425  0.457306  0.321492  \n",
       "ahmedni01       1  0.200000  0.271429  0.226667  \n",
       "alcanar01       0  0.205036  0.366906  0.253333  "
      ]
     },
     "execution_count": 16,
     "metadata": {},
     "output_type": "execute_result"
    }
   ],
   "source": [
    "pos_player_df.head()"
   ]
  },
  {
   "cell_type": "code",
   "execution_count": 17,
   "metadata": {
    "collapsed": false
   },
   "outputs": [
    {
     "data": {
      "text/html": [
       "<div>\n",
       "<table border=\"1\" class=\"dataframe\">\n",
       "  <thead>\n",
       "    <tr style=\"text-align: right;\">\n",
       "      <th></th>\n",
       "      <th>g</th>\n",
       "      <th>ab</th>\n",
       "      <th>r</th>\n",
       "      <th>h</th>\n",
       "      <th>double</th>\n",
       "      <th>triple</th>\n",
       "      <th>hr</th>\n",
       "      <th>rbi</th>\n",
       "      <th>sb</th>\n",
       "      <th>cs</th>\n",
       "      <th>bb</th>\n",
       "      <th>so</th>\n",
       "      <th>ibb</th>\n",
       "      <th>hbp</th>\n",
       "      <th>sh</th>\n",
       "      <th>sf</th>\n",
       "      <th>g_idp</th>\n",
       "      <th>inn_outs</th>\n",
       "      <th>po</th>\n",
       "      <th>a</th>\n",
       "      <th>e</th>\n",
       "      <th>dp</th>\n",
       "      <th>salary</th>\n",
       "      <th>was_all_star</th>\n",
       "      <th>age</th>\n",
       "      <th>in_al</th>\n",
       "      <th>pos_1B</th>\n",
       "      <th>pos_2B</th>\n",
       "      <th>pos_3B</th>\n",
       "      <th>pos_C</th>\n",
       "      <th>pos_OF</th>\n",
       "      <th>pos_SS</th>\n",
       "      <th>ba</th>\n",
       "      <th>slg</th>\n",
       "      <th>obp</th>\n",
       "    </tr>\n",
       "  </thead>\n",
       "  <tbody>\n",
       "    <tr>\n",
       "      <th>count</th>\n",
       "      <td>404.000000</td>\n",
       "      <td>404.000000</td>\n",
       "      <td>404.000000</td>\n",
       "      <td>404.000000</td>\n",
       "      <td>404.000000</td>\n",
       "      <td>404.000000</td>\n",
       "      <td>404.000000</td>\n",
       "      <td>404.000000</td>\n",
       "      <td>404.000000</td>\n",
       "      <td>404.000000</td>\n",
       "      <td>404.000000</td>\n",
       "      <td>404.000000</td>\n",
       "      <td>404.000000</td>\n",
       "      <td>404.000000</td>\n",
       "      <td>404.000000</td>\n",
       "      <td>404.000000</td>\n",
       "      <td>404.000000</td>\n",
       "      <td>404.000000</td>\n",
       "      <td>404.000000</td>\n",
       "      <td>404.000000</td>\n",
       "      <td>404.000000</td>\n",
       "      <td>404.000000</td>\n",
       "      <td>404.000000</td>\n",
       "      <td>404.000000</td>\n",
       "      <td>404.000000</td>\n",
       "      <td>404.000000</td>\n",
       "      <td>404.000000</td>\n",
       "      <td>404.000000</td>\n",
       "      <td>404.000000</td>\n",
       "      <td>404.000000</td>\n",
       "      <td>404.000000</td>\n",
       "      <td>404.000000</td>\n",
       "      <td>404.000000</td>\n",
       "      <td>404.000000</td>\n",
       "      <td>404.000000</td>\n",
       "    </tr>\n",
       "    <tr>\n",
       "      <th>mean</th>\n",
       "      <td>101.155941</td>\n",
       "      <td>341.039604</td>\n",
       "      <td>42.433168</td>\n",
       "      <td>89.039604</td>\n",
       "      <td>17.584158</td>\n",
       "      <td>1.839109</td>\n",
       "      <td>9.173267</td>\n",
       "      <td>40.334158</td>\n",
       "      <td>6.158416</td>\n",
       "      <td>2.279703</td>\n",
       "      <td>29.683168</td>\n",
       "      <td>72.341584</td>\n",
       "      <td>2.232673</td>\n",
       "      <td>3.433168</td>\n",
       "      <td>1.467822</td>\n",
       "      <td>2.693069</td>\n",
       "      <td>7.440594</td>\n",
       "      <td>2231.472772</td>\n",
       "      <td>339.032178</td>\n",
       "      <td>94.299505</td>\n",
       "      <td>6.155941</td>\n",
       "      <td>23.943069</td>\n",
       "      <td>4748007.361386</td>\n",
       "      <td>0.111386</td>\n",
       "      <td>29.487624</td>\n",
       "      <td>0.487624</td>\n",
       "      <td>0.066832</td>\n",
       "      <td>0.051980</td>\n",
       "      <td>0.103960</td>\n",
       "      <td>0.165842</td>\n",
       "      <td>0.410891</td>\n",
       "      <td>0.200495</td>\n",
       "      <td>0.251500</td>\n",
       "      <td>0.384575</td>\n",
       "      <td>0.310598</td>\n",
       "    </tr>\n",
       "    <tr>\n",
       "      <th>std</th>\n",
       "      <td>45.217401</td>\n",
       "      <td>184.327194</td>\n",
       "      <td>26.936153</td>\n",
       "      <td>52.871288</td>\n",
       "      <td>11.328847</td>\n",
       "      <td>2.291717</td>\n",
       "      <td>8.433343</td>\n",
       "      <td>27.423699</td>\n",
       "      <td>9.148331</td>\n",
       "      <td>2.847398</td>\n",
       "      <td>21.727357</td>\n",
       "      <td>41.470994</td>\n",
       "      <td>3.411457</td>\n",
       "      <td>3.534725</td>\n",
       "      <td>2.236945</td>\n",
       "      <td>2.402408</td>\n",
       "      <td>5.870728</td>\n",
       "      <td>1255.150385</td>\n",
       "      <td>292.145289</td>\n",
       "      <td>123.625011</td>\n",
       "      <td>5.006987</td>\n",
       "      <td>31.704971</td>\n",
       "      <td>5780536.586093</td>\n",
       "      <td>0.315000</td>\n",
       "      <td>3.711339</td>\n",
       "      <td>0.500467</td>\n",
       "      <td>0.250040</td>\n",
       "      <td>0.222262</td>\n",
       "      <td>0.305588</td>\n",
       "      <td>0.372400</td>\n",
       "      <td>0.492606</td>\n",
       "      <td>0.400867</td>\n",
       "      <td>0.043023</td>\n",
       "      <td>0.082477</td>\n",
       "      <td>0.047555</td>\n",
       "    </tr>\n",
       "    <tr>\n",
       "      <th>min</th>\n",
       "      <td>2.000000</td>\n",
       "      <td>4.000000</td>\n",
       "      <td>0.000000</td>\n",
       "      <td>0.000000</td>\n",
       "      <td>0.000000</td>\n",
       "      <td>0.000000</td>\n",
       "      <td>0.000000</td>\n",
       "      <td>0.000000</td>\n",
       "      <td>0.000000</td>\n",
       "      <td>0.000000</td>\n",
       "      <td>0.000000</td>\n",
       "      <td>0.000000</td>\n",
       "      <td>0.000000</td>\n",
       "      <td>0.000000</td>\n",
       "      <td>0.000000</td>\n",
       "      <td>0.000000</td>\n",
       "      <td>0.000000</td>\n",
       "      <td>9.000000</td>\n",
       "      <td>0.000000</td>\n",
       "      <td>0.000000</td>\n",
       "      <td>0.000000</td>\n",
       "      <td>0.000000</td>\n",
       "      <td>507500.000000</td>\n",
       "      <td>0.000000</td>\n",
       "      <td>21.000000</td>\n",
       "      <td>0.000000</td>\n",
       "      <td>0.000000</td>\n",
       "      <td>0.000000</td>\n",
       "      <td>0.000000</td>\n",
       "      <td>0.000000</td>\n",
       "      <td>0.000000</td>\n",
       "      <td>0.000000</td>\n",
       "      <td>0.000000</td>\n",
       "      <td>0.000000</td>\n",
       "      <td>0.000000</td>\n",
       "    </tr>\n",
       "    <tr>\n",
       "      <th>25%</th>\n",
       "      <td>66.000000</td>\n",
       "      <td>177.000000</td>\n",
       "      <td>19.000000</td>\n",
       "      <td>43.750000</td>\n",
       "      <td>8.000000</td>\n",
       "      <td>0.000000</td>\n",
       "      <td>2.750000</td>\n",
       "      <td>17.000000</td>\n",
       "      <td>0.000000</td>\n",
       "      <td>0.000000</td>\n",
       "      <td>13.000000</td>\n",
       "      <td>39.000000</td>\n",
       "      <td>0.000000</td>\n",
       "      <td>1.000000</td>\n",
       "      <td>0.000000</td>\n",
       "      <td>1.000000</td>\n",
       "      <td>3.000000</td>\n",
       "      <td>1092.750000</td>\n",
       "      <td>109.750000</td>\n",
       "      <td>10.000000</td>\n",
       "      <td>2.000000</td>\n",
       "      <td>2.000000</td>\n",
       "      <td>525000.000000</td>\n",
       "      <td>0.000000</td>\n",
       "      <td>27.000000</td>\n",
       "      <td>0.000000</td>\n",
       "      <td>0.000000</td>\n",
       "      <td>0.000000</td>\n",
       "      <td>0.000000</td>\n",
       "      <td>0.000000</td>\n",
       "      <td>0.000000</td>\n",
       "      <td>0.000000</td>\n",
       "      <td>0.231176</td>\n",
       "      <td>0.341413</td>\n",
       "      <td>0.287278</td>\n",
       "    </tr>\n",
       "    <tr>\n",
       "      <th>50%</th>\n",
       "      <td>110.000000</td>\n",
       "      <td>358.000000</td>\n",
       "      <td>41.000000</td>\n",
       "      <td>87.500000</td>\n",
       "      <td>16.000000</td>\n",
       "      <td>1.000000</td>\n",
       "      <td>7.000000</td>\n",
       "      <td>38.000000</td>\n",
       "      <td>3.000000</td>\n",
       "      <td>1.000000</td>\n",
       "      <td>25.500000</td>\n",
       "      <td>70.000000</td>\n",
       "      <td>1.000000</td>\n",
       "      <td>3.000000</td>\n",
       "      <td>0.000000</td>\n",
       "      <td>2.000000</td>\n",
       "      <td>6.000000</td>\n",
       "      <td>2322.000000</td>\n",
       "      <td>244.500000</td>\n",
       "      <td>33.000000</td>\n",
       "      <td>5.000000</td>\n",
       "      <td>6.000000</td>\n",
       "      <td>2050000.000000</td>\n",
       "      <td>0.000000</td>\n",
       "      <td>29.000000</td>\n",
       "      <td>0.000000</td>\n",
       "      <td>0.000000</td>\n",
       "      <td>0.000000</td>\n",
       "      <td>0.000000</td>\n",
       "      <td>0.000000</td>\n",
       "      <td>0.000000</td>\n",
       "      <td>0.000000</td>\n",
       "      <td>0.254770</td>\n",
       "      <td>0.384615</td>\n",
       "      <td>0.313302</td>\n",
       "    </tr>\n",
       "    <tr>\n",
       "      <th>75%</th>\n",
       "      <td>141.000000</td>\n",
       "      <td>501.250000</td>\n",
       "      <td>62.000000</td>\n",
       "      <td>131.250000</td>\n",
       "      <td>27.000000</td>\n",
       "      <td>3.000000</td>\n",
       "      <td>13.000000</td>\n",
       "      <td>58.000000</td>\n",
       "      <td>8.000000</td>\n",
       "      <td>3.000000</td>\n",
       "      <td>43.000000</td>\n",
       "      <td>100.250000</td>\n",
       "      <td>3.000000</td>\n",
       "      <td>5.000000</td>\n",
       "      <td>2.000000</td>\n",
       "      <td>4.000000</td>\n",
       "      <td>11.000000</td>\n",
       "      <td>3369.000000</td>\n",
       "      <td>501.000000</td>\n",
       "      <td>126.250000</td>\n",
       "      <td>9.000000</td>\n",
       "      <td>36.000000</td>\n",
       "      <td>6541500.000000</td>\n",
       "      <td>0.000000</td>\n",
       "      <td>32.000000</td>\n",
       "      <td>1.000000</td>\n",
       "      <td>0.000000</td>\n",
       "      <td>0.000000</td>\n",
       "      <td>0.000000</td>\n",
       "      <td>0.000000</td>\n",
       "      <td>1.000000</td>\n",
       "      <td>0.000000</td>\n",
       "      <td>0.278351</td>\n",
       "      <td>0.437625</td>\n",
       "      <td>0.338867</td>\n",
       "    </tr>\n",
       "    <tr>\n",
       "      <th>max</th>\n",
       "      <td>162.000000</td>\n",
       "      <td>684.000000</td>\n",
       "      <td>115.000000</td>\n",
       "      <td>225.000000</td>\n",
       "      <td>53.000000</td>\n",
       "      <td>12.000000</td>\n",
       "      <td>40.000000</td>\n",
       "      <td>116.000000</td>\n",
       "      <td>64.000000</td>\n",
       "      <td>23.000000</td>\n",
       "      <td>113.000000</td>\n",
       "      <td>190.000000</td>\n",
       "      <td>28.000000</td>\n",
       "      <td>20.000000</td>\n",
       "      <td>13.000000</td>\n",
       "      <td>11.000000</td>\n",
       "      <td>31.000000</td>\n",
       "      <td>4347.000000</td>\n",
       "      <td>1318.000000</td>\n",
       "      <td>486.000000</td>\n",
       "      <td>25.000000</td>\n",
       "      <td>130.000000</td>\n",
       "      <td>25000000.000000</td>\n",
       "      <td>1.000000</td>\n",
       "      <td>42.000000</td>\n",
       "      <td>1.000000</td>\n",
       "      <td>1.000000</td>\n",
       "      <td>1.000000</td>\n",
       "      <td>1.000000</td>\n",
       "      <td>1.000000</td>\n",
       "      <td>1.000000</td>\n",
       "      <td>1.000000</td>\n",
       "      <td>0.348837</td>\n",
       "      <td>0.603175</td>\n",
       "      <td>0.432000</td>\n",
       "    </tr>\n",
       "  </tbody>\n",
       "</table>\n",
       "</div>"
      ],
      "text/plain": [
       "                g          ab           r           h      double      triple  \\\n",
       "count  404.000000  404.000000  404.000000  404.000000  404.000000  404.000000   \n",
       "mean   101.155941  341.039604   42.433168   89.039604   17.584158    1.839109   \n",
       "std     45.217401  184.327194   26.936153   52.871288   11.328847    2.291717   \n",
       "min      2.000000    4.000000    0.000000    0.000000    0.000000    0.000000   \n",
       "25%     66.000000  177.000000   19.000000   43.750000    8.000000    0.000000   \n",
       "50%    110.000000  358.000000   41.000000   87.500000   16.000000    1.000000   \n",
       "75%    141.000000  501.250000   62.000000  131.250000   27.000000    3.000000   \n",
       "max    162.000000  684.000000  115.000000  225.000000   53.000000   12.000000   \n",
       "\n",
       "               hr         rbi          sb          cs          bb          so  \\\n",
       "count  404.000000  404.000000  404.000000  404.000000  404.000000  404.000000   \n",
       "mean     9.173267   40.334158    6.158416    2.279703   29.683168   72.341584   \n",
       "std      8.433343   27.423699    9.148331    2.847398   21.727357   41.470994   \n",
       "min      0.000000    0.000000    0.000000    0.000000    0.000000    0.000000   \n",
       "25%      2.750000   17.000000    0.000000    0.000000   13.000000   39.000000   \n",
       "50%      7.000000   38.000000    3.000000    1.000000   25.500000   70.000000   \n",
       "75%     13.000000   58.000000    8.000000    3.000000   43.000000  100.250000   \n",
       "max     40.000000  116.000000   64.000000   23.000000  113.000000  190.000000   \n",
       "\n",
       "              ibb         hbp          sh          sf       g_idp  \\\n",
       "count  404.000000  404.000000  404.000000  404.000000  404.000000   \n",
       "mean     2.232673    3.433168    1.467822    2.693069    7.440594   \n",
       "std      3.411457    3.534725    2.236945    2.402408    5.870728   \n",
       "min      0.000000    0.000000    0.000000    0.000000    0.000000   \n",
       "25%      0.000000    1.000000    0.000000    1.000000    3.000000   \n",
       "50%      1.000000    3.000000    0.000000    2.000000    6.000000   \n",
       "75%      3.000000    5.000000    2.000000    4.000000   11.000000   \n",
       "max     28.000000   20.000000   13.000000   11.000000   31.000000   \n",
       "\n",
       "          inn_outs           po           a           e          dp  \\\n",
       "count   404.000000   404.000000  404.000000  404.000000  404.000000   \n",
       "mean   2231.472772   339.032178   94.299505    6.155941   23.943069   \n",
       "std    1255.150385   292.145289  123.625011    5.006987   31.704971   \n",
       "min       9.000000     0.000000    0.000000    0.000000    0.000000   \n",
       "25%    1092.750000   109.750000   10.000000    2.000000    2.000000   \n",
       "50%    2322.000000   244.500000   33.000000    5.000000    6.000000   \n",
       "75%    3369.000000   501.000000  126.250000    9.000000   36.000000   \n",
       "max    4347.000000  1318.000000  486.000000   25.000000  130.000000   \n",
       "\n",
       "                salary  was_all_star         age       in_al      pos_1B  \\\n",
       "count       404.000000    404.000000  404.000000  404.000000  404.000000   \n",
       "mean    4748007.361386      0.111386   29.487624    0.487624    0.066832   \n",
       "std     5780536.586093      0.315000    3.711339    0.500467    0.250040   \n",
       "min      507500.000000      0.000000   21.000000    0.000000    0.000000   \n",
       "25%      525000.000000      0.000000   27.000000    0.000000    0.000000   \n",
       "50%     2050000.000000      0.000000   29.000000    0.000000    0.000000   \n",
       "75%     6541500.000000      0.000000   32.000000    1.000000    0.000000   \n",
       "max    25000000.000000      1.000000   42.000000    1.000000    1.000000   \n",
       "\n",
       "           pos_2B      pos_3B       pos_C      pos_OF      pos_SS          ba  \\\n",
       "count  404.000000  404.000000  404.000000  404.000000  404.000000  404.000000   \n",
       "mean     0.051980    0.103960    0.165842    0.410891    0.200495    0.251500   \n",
       "std      0.222262    0.305588    0.372400    0.492606    0.400867    0.043023   \n",
       "min      0.000000    0.000000    0.000000    0.000000    0.000000    0.000000   \n",
       "25%      0.000000    0.000000    0.000000    0.000000    0.000000    0.231176   \n",
       "50%      0.000000    0.000000    0.000000    0.000000    0.000000    0.254770   \n",
       "75%      0.000000    0.000000    0.000000    1.000000    0.000000    0.278351   \n",
       "max      1.000000    1.000000    1.000000    1.000000    1.000000    0.348837   \n",
       "\n",
       "              slg         obp  \n",
       "count  404.000000  404.000000  \n",
       "mean     0.384575    0.310598  \n",
       "std      0.082477    0.047555  \n",
       "min      0.000000    0.000000  \n",
       "25%      0.341413    0.287278  \n",
       "50%      0.384615    0.313302  \n",
       "75%      0.437625    0.338867  \n",
       "max      0.603175    0.432000  "
      ]
     },
     "execution_count": 17,
     "metadata": {},
     "output_type": "execute_result"
    }
   ],
   "source": [
    "pos_player_df.describe()"
   ]
  },
  {
   "cell_type": "code",
   "execution_count": 18,
   "metadata": {
    "collapsed": false
   },
   "outputs": [
    {
     "data": {
      "text/plain": [
       "(404, 35)"
      ]
     },
     "execution_count": 18,
     "metadata": {},
     "output_type": "execute_result"
    }
   ],
   "source": [
    "pos_player_df.shape"
   ]
  },
  {
   "cell_type": "code",
   "execution_count": 19,
   "metadata": {
    "collapsed": false
   },
   "outputs": [
    {
     "data": {
      "text/plain": [
       "<matplotlib.text.Text at 0x1138a2490>"
      ]
     },
     "execution_count": 19,
     "metadata": {},
     "output_type": "execute_result"
    },
    {
     "data": {
      "image/png": "[encoded data removed]",
      "text/plain": [
       "<matplotlib.figure.Figure at 0x1131d9450>"
      ]
     },
     "metadata": {},
     "output_type": "display_data"
    }
   ],
   "source": [
    "sal = pos_player_df['salary'].hist()\n",
    "sal.set_xlabel('Salary')\n",
    "sal.set_ylabel('Number of players')\n",
    "sal.set_title('Number of players by salary')"
   ]
  },
  {
   "cell_type": "code",
   "execution_count": 20,
   "metadata": {
    "collapsed": false
   },
   "outputs": [
    {
     "data": {
      "text/plain": [
       "<matplotlib.text.Text at 0x113d62e10>"
      ]
     },
     "execution_count": 20,
     "metadata": {},
     "output_type": "execute_result"
    },
    {
     "data": {
      "image/png": "[encoded data removed]",
      "text/plain": [
       "<matplotlib.figure.Figure at 0x1131d9510>"
      ]
     },
     "metadata": {},
     "output_type": "display_data"
    }
   ],
   "source": [
    "log_sal = np.log(pos_player_df['salary']).hist(bins=50)\n",
    "log_sal.set_xlabel('Log of Salary')\n",
    "log_sal.set_ylabel('Number of players')\n",
    "log_sal.set_title('Number of players by log of salary')"
   ]
  },
  {
   "cell_type": "code",
   "execution_count": 21,
   "metadata": {
    "collapsed": true
   },
   "outputs": [],
   "source": [
    "pos_player_df['salary'] = np.log(pos_player_df['salary'])"
   ]
  },
  {
   "cell_type": "markdown",
   "metadata": {},
   "source": [
    "## Step 2: Analyze data with linear regression"
   ]
  },
  {
   "cell_type": "code",
   "execution_count": 22,
   "metadata": {
    "collapsed": true
   },
   "outputs": [],
   "source": [
    "X = pos_player_df.copy()\n",
    "del X['salary']\n",
    "y = pos_player_df['salary']"
   ]
  },
  {
   "cell_type": "code",
   "execution_count": 23,
   "metadata": {
    "collapsed": false
   },
   "outputs": [
    {
     "data": {
      "text/plain": [
       "(404, 34)"
      ]
     },
     "execution_count": 23,
     "metadata": {},
     "output_type": "execute_result"
    }
   ],
   "source": [
    "X.shape"
   ]
  },
  {
   "cell_type": "code",
   "execution_count": 24,
   "metadata": {
    "collapsed": true
   },
   "outputs": [],
   "source": [
    "def standardize(z):\n",
    "    min_z = z.min()\n",
    "    max_z = z.max()\n",
    "    return (z-min_z)/(max_z-min_z)"
   ]
  },
  {
   "cell_type": "code",
   "execution_count": 25,
   "metadata": {
    "collapsed": false
   },
   "outputs": [],
   "source": [
    "standard_X = standardize(X)"
   ]
  },
  {
   "cell_type": "code",
   "execution_count": 26,
   "metadata": {
    "collapsed": false,
    "scrolled": true
   },
   "outputs": [
    {
     "data": {
      "text/plain": [
       "LinearRegression(copy_X=True, fit_intercept=True, n_jobs=1, normalize=False)"
      ]
     },
     "execution_count": 26,
     "metadata": {},
     "output_type": "execute_result"
    }
   ],
   "source": [
    "from sklearn import linear_model\n",
    "from sklearn.linear_model import LinearRegression\n",
    "linreg = LinearRegression()\n",
    "linreg.fit(X,y)"
   ]
  },
  {
   "cell_type": "code",
   "execution_count": 27,
   "metadata": {
    "collapsed": false
   },
   "outputs": [
    {
     "data": {
      "text/plain": [
       "0.69927423637655317"
      ]
     },
     "execution_count": 27,
     "metadata": {},
     "output_type": "execute_result"
    }
   ],
   "source": [
    "linreg.score(X,y) #High R^2 value"
   ]
  },
  {
   "cell_type": "code",
   "execution_count": 28,
   "metadata": {
    "collapsed": false
   },
   "outputs": [
    {
     "name": "stdout",
     "output_type": "stream",
     "text": [
      "    Log_alphas    MSE_Ridge_CV\n",
      "0          -10  2391016.149966\n",
      "1           -9  2391016.145014\n",
      "2           -8  2391016.095493\n",
      "3           -7  2391015.600290\n",
      "4           -6  2391010.648315\n",
      "5           -5  2390961.134453\n",
      "6           -4  2390466.583925\n",
      "7           -3  2385579.309575\n",
      "8           -2  2342000.249610\n",
      "9           -1  2161996.531261\n",
      "10           0  1697096.482625\n",
      "11           1   715495.283372\n",
      "12           2   522367.577036\n",
      "13           3    45815.387283\n",
      "14           4      670.097810\n",
      "15           5        6.919561\n",
      "16           6        1.525931\n",
      "17           7        1.626799\n",
      "18           8        1.643320\n",
      "19           9        1.645037\n",
      "20          10        1.645209\n"
     ]
    },
    {
     "data": {
      "text/plain": [
       "<matplotlib.axes._subplots.AxesSubplot at 0x114b5ad10>"
      ]
     },
     "execution_count": 28,
     "metadata": {},
     "output_type": "execute_result"
    },
    {
     "data": {
      "image/png": "[encoded data removed]",
      "text/plain": [
       "<matplotlib.figure.Figure at 0x1141b5210>"
      ]
     },
     "metadata": {},
     "output_type": "display_data"
    }
   ],
   "source": [
    "# Use Ridge regression to remove less significant features\n",
    "kf = cross_validation.KFold(len(pos_player_df), n_folds=10, shuffle=True)\n",
    "MSE_Ridge_CV = []\n",
    "alphas = np.logspace(-10,10,21)\n",
    "index = np.arange(-10,11)\n",
    "\n",
    "for a in alphas:\n",
    "    scores = []\n",
    "    for train_index, test_index in kf:\n",
    "        lm = linear_model.Ridge(alpha=a)\n",
    "        lm.fit(standard_X.iloc[train_index],y.iloc[train_index])\n",
    "        mse = metrics.mean_squared_error(y.iloc[test_index],lm.predict(X.iloc[test_index]))\n",
    "        scores.append(mse)\n",
    "    MSE_Ridge_CV.append(np.mean(scores))\n",
    "\n",
    "MSE_Ridge_df = pd.DataFrame({'MSE_Ridge_CV':MSE_Ridge_CV,'Log_alphas':index})\n",
    "print MSE_Ridge_df\n",
    "MSE_Ridge_df.plot(x='Log_alphas',y='MSE_Ridge_CV')"
   ]
  },
  {
   "cell_type": "code",
   "execution_count": 29,
   "metadata": {
    "collapsed": false,
    "scrolled": true
   },
   "outputs": [
    {
     "data": {
      "text/html": [
       "<div>\n",
       "<table border=\"1\" class=\"dataframe\">\n",
       "  <thead>\n",
       "    <tr style=\"text-align: right;\">\n",
       "      <th></th>\n",
       "      <th>coefficient</th>\n",
       "    </tr>\n",
       "  </thead>\n",
       "  <tbody>\n",
       "    <tr>\n",
       "      <th>ab</th>\n",
       "      <td>0.000887</td>\n",
       "    </tr>\n",
       "    <tr>\n",
       "      <th>g</th>\n",
       "      <td>0.000859</td>\n",
       "    </tr>\n",
       "    <tr>\n",
       "      <th>inn_outs</th>\n",
       "      <td>0.000814</td>\n",
       "    </tr>\n",
       "    <tr>\n",
       "      <th>rbi</th>\n",
       "      <td>0.000787</td>\n",
       "    </tr>\n",
       "    <tr>\n",
       "      <th>h</th>\n",
       "      <td>0.000761</td>\n",
       "    </tr>\n",
       "    <tr>\n",
       "      <th>r</th>\n",
       "      <td>0.000730</td>\n",
       "    </tr>\n",
       "    <tr>\n",
       "      <th>double</th>\n",
       "      <td>0.000663</td>\n",
       "    </tr>\n",
       "    <tr>\n",
       "      <th>bb</th>\n",
       "      <td>0.000617</td>\n",
       "    </tr>\n",
       "    <tr>\n",
       "      <th>sf</th>\n",
       "      <td>0.000608</td>\n",
       "    </tr>\n",
       "    <tr>\n",
       "      <th>so</th>\n",
       "      <td>0.000557</td>\n",
       "    </tr>\n",
       "    <tr>\n",
       "      <th>hr</th>\n",
       "      <td>0.000553</td>\n",
       "    </tr>\n",
       "    <tr>\n",
       "      <th>g_idp</th>\n",
       "      <td>0.000531</td>\n",
       "    </tr>\n",
       "    <tr>\n",
       "      <th>age</th>\n",
       "      <td>0.000520</td>\n",
       "    </tr>\n",
       "    <tr>\n",
       "      <th>was_all_star</th>\n",
       "      <td>0.000518</td>\n",
       "    </tr>\n",
       "    <tr>\n",
       "      <th>po</th>\n",
       "      <td>0.000450</td>\n",
       "    </tr>\n",
       "    <tr>\n",
       "      <th>dp</th>\n",
       "      <td>0.000360</td>\n",
       "    </tr>\n",
       "    <tr>\n",
       "      <th>hbp</th>\n",
       "      <td>0.000318</td>\n",
       "    </tr>\n",
       "    <tr>\n",
       "      <th>pos_SS</th>\n",
       "      <td>0.000314</td>\n",
       "    </tr>\n",
       "    <tr>\n",
       "      <th>e</th>\n",
       "      <td>0.000286</td>\n",
       "    </tr>\n",
       "    <tr>\n",
       "      <th>ibb</th>\n",
       "      <td>0.000267</td>\n",
       "    </tr>\n",
       "    <tr>\n",
       "      <th>slg</th>\n",
       "      <td>0.000232</td>\n",
       "    </tr>\n",
       "    <tr>\n",
       "      <th>pos_C</th>\n",
       "      <td>0.000231</td>\n",
       "    </tr>\n",
       "    <tr>\n",
       "      <th>a</th>\n",
       "      <td>0.000229</td>\n",
       "    </tr>\n",
       "    <tr>\n",
       "      <th>obp</th>\n",
       "      <td>0.000224</td>\n",
       "    </tr>\n",
       "    <tr>\n",
       "      <th>pos_1B</th>\n",
       "      <td>0.000223</td>\n",
       "    </tr>\n",
       "    <tr>\n",
       "      <th>ba</th>\n",
       "      <td>0.000179</td>\n",
       "    </tr>\n",
       "    <tr>\n",
       "      <th>pos_OF</th>\n",
       "      <td>0.000179</td>\n",
       "    </tr>\n",
       "    <tr>\n",
       "      <th>triple</th>\n",
       "      <td>0.000151</td>\n",
       "    </tr>\n",
       "    <tr>\n",
       "      <th>sh</th>\n",
       "      <td>0.000142</td>\n",
       "    </tr>\n",
       "    <tr>\n",
       "      <th>sb</th>\n",
       "      <td>0.000136</td>\n",
       "    </tr>\n",
       "    <tr>\n",
       "      <th>cs</th>\n",
       "      <td>0.000113</td>\n",
       "    </tr>\n",
       "    <tr>\n",
       "      <th>pos_3B</th>\n",
       "      <td>0.000102</td>\n",
       "    </tr>\n",
       "    <tr>\n",
       "      <th>in_al</th>\n",
       "      <td>0.000094</td>\n",
       "    </tr>\n",
       "    <tr>\n",
       "      <th>pos_2B</th>\n",
       "      <td>0.000040</td>\n",
       "    </tr>\n",
       "  </tbody>\n",
       "</table>\n",
       "</div>"
      ],
      "text/plain": [
       "              coefficient\n",
       "ab               0.000887\n",
       "g                0.000859\n",
       "inn_outs         0.000814\n",
       "rbi              0.000787\n",
       "h                0.000761\n",
       "r                0.000730\n",
       "double           0.000663\n",
       "bb               0.000617\n",
       "sf               0.000608\n",
       "so               0.000557\n",
       "hr               0.000553\n",
       "g_idp            0.000531\n",
       "age              0.000520\n",
       "was_all_star     0.000518\n",
       "po               0.000450\n",
       "dp               0.000360\n",
       "hbp              0.000318\n",
       "pos_SS           0.000314\n",
       "e                0.000286\n",
       "ibb              0.000267\n",
       "slg              0.000232\n",
       "pos_C            0.000231\n",
       "a                0.000229\n",
       "obp              0.000224\n",
       "pos_1B           0.000223\n",
       "ba               0.000179\n",
       "pos_OF           0.000179\n",
       "triple           0.000151\n",
       "sh               0.000142\n",
       "sb               0.000136\n",
       "cs               0.000113\n",
       "pos_3B           0.000102\n",
       "in_al            0.000094\n",
       "pos_2B           0.000040"
      ]
     },
     "execution_count": 29,
     "metadata": {},
     "output_type": "execute_result"
    }
   ],
   "source": [
    "lm = linear_model.Ridge(alpha=10**(5))\n",
    "lm.fit(standard_X,y)\n",
    "coef_df = pd.DataFrame({'coefficient':abs(lm.coef_)},index=standard_X.columns.values)\n",
    "coef_df.sort_values(by='coefficient',ascending=False)"
   ]
  },
  {
   "cell_type": "code",
   "execution_count": 30,
   "metadata": {
    "collapsed": false
   },
   "outputs": [
    {
     "name": "stdout",
     "output_type": "stream",
     "text": [
      "R^2: 0.679654577034\n",
      "MSE: 0.599954457129\n"
     ]
    }
   ],
   "source": [
    "mod_X = X[['ab','g','inn_outs','rbi','h','r','double','bb','sf','so','hr','g_idp','age','was_all_star']].copy()\n",
    "linreg = LinearRegression()\n",
    "linreg.fit(mod_X,y)\n",
    "print \"R^2:\",linreg.score(mod_X,y) #R^2 remains high!\n",
    "cv_error = cross_val_score(linreg,X,y,cv=10,scoring='mean_squared_error')\n",
    "print \"MSE:\",np.mean(-cv_error)\n",
    "#coef_df = pd.DataFrame({'feature':mod_X.columns.values,'coefficient':linreg.coef_})\n",
    "#coef_df.sort_values(by='coefficient')\n",
    "#metrics.mean_squared_error(y,linreg.predict(mod_X))"
   ]
  },
  {
   "cell_type": "code",
   "execution_count": 31,
   "metadata": {
    "collapsed": false
   },
   "outputs": [
    {
     "name": "stdout",
     "output_type": "stream",
     "text": [
      "                            OLS Regression Results                            \n",
      "==============================================================================\n",
      "Dep. Variable:                      y   R-squared:                       0.673\n",
      "Model:                            OLS   Adj. R-squared:                  0.667\n",
      "Method:                 Least Squares   F-statistic:                     116.2\n",
      "Date:                Mon, 04 Apr 2016   Prob (F-statistic):           6.46e-92\n",
      "Time:                        23:14:55   Log-Likelihood:                -447.03\n",
      "No. Observations:                 404   AIC:                             910.1\n",
      "Df Residuals:                     396   BIC:                             942.1\n",
      "Df Model:                           7                                         \n",
      "Covariance Type:            nonrobust                                         \n",
      "==============================================================================\n",
      "                 coef    std err          t      P>|t|      [95.0% Conf. Int.]\n",
      "------------------------------------------------------------------------------\n",
      "Intercept      8.9537      0.310     28.879      0.000         8.344     9.563\n",
      "mod_X[0]      -0.0122      0.002     -4.881      0.000        -0.017    -0.007\n",
      "mod_X[1]       0.0117      0.002      5.926      0.000         0.008     0.016\n",
      "mod_X[2]       0.0156      0.003      5.466      0.000         0.010     0.021\n",
      "mod_X[3]       0.0422      0.021      1.990      0.047         0.001     0.084\n",
      "mod_X[4]       0.0046      0.002      2.844      0.005         0.001     0.008\n",
      "mod_X[5]       0.0306      0.009      3.346      0.001         0.013     0.049\n",
      "mod_X[6]       0.1597      0.011     14.931      0.000         0.139     0.181\n",
      "==============================================================================\n",
      "Omnibus:                        5.607   Durbin-Watson:                   2.071\n",
      "Prob(Omnibus):                  0.061   Jarque-Bera (JB):                6.460\n",
      "Skew:                           0.156   Prob(JB):                       0.0396\n",
      "Kurtosis:                       3.536   Cond. No.                     1.49e+03\n",
      "==============================================================================\n",
      "\n",
      "Warnings:\n",
      "[1] Standard Errors assume that the covariance matrix of the errors is correctly specified.\n",
      "[2] The condition number is large, 1.49e+03. This might indicate that there are\n",
      "strong multicollinearity or other numerical problems.\n"
     ]
    }
   ],
   "source": [
    "import statsmodels.formula.api as smf\n",
    "# Removed features one by one using p values - Below are all tested versions of the feature set\n",
    "#mod_X = X[['ab','g','inn_outs','rbi','h','r','double','bb','sf','so','hr','g_idp','age','was_all_star']].copy()\n",
    "#mod_X = X[['g','inn_outs','rbi','h','r','bb','sf','so','hr','g_idp','age','was_all_star']].copy()\n",
    "#mod_X = X[['g','inn_outs','rbi','h','bb','sf','so','hr','g_idp','age','was_all_star']].copy()\n",
    "#mod_X = X[['g','rbi','h','bb','sf','so','hr','g_idp','age','was_all_star']].copy()\n",
    "#mod_X = X[['g','rbi','h','bb','sf','so','g_idp','age','was_all_star']].copy()\n",
    "mod_X = X[['g','h','bb','sf','so','g_idp','age']].copy()\n",
    "lm1 = smf.ols(formula='y ~ mod_X', data=X).fit()\n",
    "print(lm1.summary())"
   ]
  },
  {
   "cell_type": "code",
   "execution_count": 32,
   "metadata": {
    "collapsed": false
   },
   "outputs": [
    {
     "name": "stdout",
     "output_type": "stream",
     "text": [
      "R^2: 0.672511333661\n",
      "MSE: 0.599954457129\n"
     ]
    },
    {
     "data": {
      "text/html": [
       "<div>\n",
       "<table border=\"1\" class=\"dataframe\">\n",
       "  <thead>\n",
       "    <tr style=\"text-align: right;\">\n",
       "      <th></th>\n",
       "      <th>coefficient</th>\n",
       "      <th>feature</th>\n",
       "    </tr>\n",
       "  </thead>\n",
       "  <tbody>\n",
       "    <tr>\n",
       "      <th>6</th>\n",
       "      <td>0.159684</td>\n",
       "      <td>age</td>\n",
       "    </tr>\n",
       "    <tr>\n",
       "      <th>3</th>\n",
       "      <td>0.042221</td>\n",
       "      <td>sf</td>\n",
       "    </tr>\n",
       "    <tr>\n",
       "      <th>5</th>\n",
       "      <td>0.030644</td>\n",
       "      <td>g_idp</td>\n",
       "    </tr>\n",
       "    <tr>\n",
       "      <th>2</th>\n",
       "      <td>0.015567</td>\n",
       "      <td>bb</td>\n",
       "    </tr>\n",
       "    <tr>\n",
       "      <th>1</th>\n",
       "      <td>0.011716</td>\n",
       "      <td>h</td>\n",
       "    </tr>\n",
       "    <tr>\n",
       "      <th>4</th>\n",
       "      <td>0.004550</td>\n",
       "      <td>so</td>\n",
       "    </tr>\n",
       "    <tr>\n",
       "      <th>0</th>\n",
       "      <td>-0.012155</td>\n",
       "      <td>g</td>\n",
       "    </tr>\n",
       "  </tbody>\n",
       "</table>\n",
       "</div>"
      ],
      "text/plain": [
       "   coefficient feature\n",
       "6     0.159684     age\n",
       "3     0.042221      sf\n",
       "5     0.030644   g_idp\n",
       "2     0.015567      bb\n",
       "1     0.011716       h\n",
       "4     0.004550      so\n",
       "0    -0.012155       g"
      ]
     },
     "execution_count": 32,
     "metadata": {},
     "output_type": "execute_result"
    }
   ],
   "source": [
    "linreg = LinearRegression()\n",
    "linreg.fit(mod_X,y)\n",
    "print \"R^2:\",linreg.score(mod_X,y) #R^2 remains high!\n",
    "cv_error = cross_val_score(linreg,X,y,cv=10,scoring='mean_squared_error')\n",
    "print \"MSE:\",np.mean(-cv_error)\n",
    "coef_df = pd.DataFrame({'feature':mod_X.columns.values,'coefficient':linreg.coef_})\n",
    "coef_df.sort_values(by='coefficient',ascending=False)"
   ]
  },
  {
   "cell_type": "markdown",
   "metadata": {},
   "source": [
    "Coefficients seem hard to interpret - Check for correlation between features"
   ]
  },
  {
   "cell_type": "code",
   "execution_count": 33,
   "metadata": {
    "collapsed": false
   },
   "outputs": [
    {
     "data": {
      "text/html": [
       "<div>\n",
       "<table border=\"1\" class=\"dataframe\">\n",
       "  <thead>\n",
       "    <tr style=\"text-align: right;\">\n",
       "      <th></th>\n",
       "      <th>g</th>\n",
       "      <th>h</th>\n",
       "      <th>bb</th>\n",
       "      <th>sf</th>\n",
       "      <th>so</th>\n",
       "      <th>g_idp</th>\n",
       "      <th>age</th>\n",
       "    </tr>\n",
       "  </thead>\n",
       "  <tbody>\n",
       "    <tr>\n",
       "      <th>g</th>\n",
       "      <td>1.000000</td>\n",
       "      <td>0.921564</td>\n",
       "      <td>0.763432</td>\n",
       "      <td>0.652022</td>\n",
       "      <td>0.796911</td>\n",
       "      <td>0.677839</td>\n",
       "      <td>0.233346</td>\n",
       "    </tr>\n",
       "    <tr>\n",
       "      <th>h</th>\n",
       "      <td>0.921564</td>\n",
       "      <td>1.000000</td>\n",
       "      <td>0.742203</td>\n",
       "      <td>0.665520</td>\n",
       "      <td>0.723594</td>\n",
       "      <td>0.717852</td>\n",
       "      <td>0.183518</td>\n",
       "    </tr>\n",
       "    <tr>\n",
       "      <th>bb</th>\n",
       "      <td>0.763432</td>\n",
       "      <td>0.742203</td>\n",
       "      <td>1.000000</td>\n",
       "      <td>0.567923</td>\n",
       "      <td>0.728800</td>\n",
       "      <td>0.520270</td>\n",
       "      <td>0.222034</td>\n",
       "    </tr>\n",
       "    <tr>\n",
       "      <th>sf</th>\n",
       "      <td>0.652022</td>\n",
       "      <td>0.665520</td>\n",
       "      <td>0.567923</td>\n",
       "      <td>1.000000</td>\n",
       "      <td>0.533495</td>\n",
       "      <td>0.538302</td>\n",
       "      <td>0.249210</td>\n",
       "    </tr>\n",
       "    <tr>\n",
       "      <th>so</th>\n",
       "      <td>0.796911</td>\n",
       "      <td>0.723594</td>\n",
       "      <td>0.728800</td>\n",
       "      <td>0.533495</td>\n",
       "      <td>1.000000</td>\n",
       "      <td>0.490012</td>\n",
       "      <td>0.079154</td>\n",
       "    </tr>\n",
       "    <tr>\n",
       "      <th>g_idp</th>\n",
       "      <td>0.677839</td>\n",
       "      <td>0.717852</td>\n",
       "      <td>0.520270</td>\n",
       "      <td>0.538302</td>\n",
       "      <td>0.490012</td>\n",
       "      <td>1.000000</td>\n",
       "      <td>0.206272</td>\n",
       "    </tr>\n",
       "    <tr>\n",
       "      <th>age</th>\n",
       "      <td>0.233346</td>\n",
       "      <td>0.183518</td>\n",
       "      <td>0.222034</td>\n",
       "      <td>0.249210</td>\n",
       "      <td>0.079154</td>\n",
       "      <td>0.206272</td>\n",
       "      <td>1.000000</td>\n",
       "    </tr>\n",
       "  </tbody>\n",
       "</table>\n",
       "</div>"
      ],
      "text/plain": [
       "              g         h        bb        sf        so     g_idp       age\n",
       "g      1.000000  0.921564  0.763432  0.652022  0.796911  0.677839  0.233346\n",
       "h      0.921564  1.000000  0.742203  0.665520  0.723594  0.717852  0.183518\n",
       "bb     0.763432  0.742203  1.000000  0.567923  0.728800  0.520270  0.222034\n",
       "sf     0.652022  0.665520  0.567923  1.000000  0.533495  0.538302  0.249210\n",
       "so     0.796911  0.723594  0.728800  0.533495  1.000000  0.490012  0.079154\n",
       "g_idp  0.677839  0.717852  0.520270  0.538302  0.490012  1.000000  0.206272\n",
       "age    0.233346  0.183518  0.222034  0.249210  0.079154  0.206272  1.000000"
      ]
     },
     "execution_count": 33,
     "metadata": {},
     "output_type": "execute_result"
    }
   ],
   "source": [
    "mod_X.corr()"
   ]
  },
  {
   "cell_type": "markdown",
   "metadata": {},
   "source": [
    "All features aside from age highly correlated - Pick age and another feature to make prediction"
   ]
  },
  {
   "cell_type": "code",
   "execution_count": 34,
   "metadata": {
    "collapsed": false
   },
   "outputs": [
    {
     "name": "stdout",
     "output_type": "stream",
     "text": [
      "R^2: 0.585652743617\n",
      "MSE: 0.599954457129\n"
     ]
    },
    {
     "data": {
      "text/html": [
       "<div>\n",
       "<table border=\"1\" class=\"dataframe\">\n",
       "  <thead>\n",
       "    <tr style=\"text-align: right;\">\n",
       "      <th></th>\n",
       "      <th>coefficient</th>\n",
       "      <th>feature</th>\n",
       "    </tr>\n",
       "  </thead>\n",
       "  <tbody>\n",
       "    <tr>\n",
       "      <th>1</th>\n",
       "      <td>0.156773</td>\n",
       "      <td>age</td>\n",
       "    </tr>\n",
       "    <tr>\n",
       "      <th>0</th>\n",
       "      <td>0.030814</td>\n",
       "      <td>bb</td>\n",
       "    </tr>\n",
       "  </tbody>\n",
       "</table>\n",
       "</div>"
      ],
      "text/plain": [
       "   coefficient feature\n",
       "1     0.156773     age\n",
       "0     0.030814      bb"
      ]
     },
     "execution_count": 34,
     "metadata": {},
     "output_type": "execute_result"
    }
   ],
   "source": [
    "mod_X = X[['bb','age']].copy()\n",
    "linreg = LinearRegression()\n",
    "linreg.fit(mod_X,y)\n",
    "print \"R^2:\",linreg.score(mod_X,y) #R^2 remains high!\n",
    "cv_error = cross_val_score(linreg,X,y,cv=10,scoring='mean_squared_error')\n",
    "print \"MSE:\",np.mean(-cv_error)\n",
    "coef_df = pd.DataFrame({'feature':mod_X.columns.values,'coefficient':linreg.coef_})\n",
    "coef_df.sort_values(by='coefficient',ascending=False)"
   ]
  },
  {
   "cell_type": "markdown",
   "metadata": {},
   "source": [
    "R^2 and MSE remain high - Age is strong predictor for salary!"
   ]
  },
  {
   "cell_type": "markdown",
   "metadata": {},
   "source": [
    "## Step 3: Analyze data with decision trees"
   ]
  },
  {
   "cell_type": "code",
   "execution_count": 35,
   "metadata": {
    "collapsed": false
   },
   "outputs": [
    {
     "name": "stdout",
     "output_type": "stream",
     "text": [
      "    cv_scores  depth\n",
      "0    1.122427      1\n",
      "1    0.879346      2\n",
      "2    0.822964      3\n",
      "3    0.866596      4\n",
      "4    0.851300      5\n",
      "5    0.925439      6\n",
      "6    0.982190      7\n",
      "7    0.977132      8\n",
      "8    0.980295      9\n",
      "9    1.016792     10\n",
      "10   1.002372     11\n",
      "11   0.951437     12\n",
      "12   0.996381     13\n",
      "13   0.978475     14\n",
      "14   1.037026     15\n",
      "15   1.019679     16\n",
      "16   1.015475     17\n",
      "17   1.016248     18\n",
      "18   1.003291     19\n"
     ]
    },
    {
     "data": {
      "text/plain": [
       "<matplotlib.axes._subplots.AxesSubplot at 0x114b8e310>"
      ]
     },
     "execution_count": 35,
     "metadata": {},
     "output_type": "execute_result"
    },
    {
     "data": {
      "image/png": "[encoded data removed]",
      "text/plain": [
       "<matplotlib.figure.Figure at 0x11414fa50>"
      ]
     },
     "metadata": {},
     "output_type": "display_data"
    }
   ],
   "source": [
    "depth_range = range(1,20)\n",
    "cv_scores = []\n",
    "for i in depth_range:\n",
    "    treereg = DecisionTreeRegressor(max_depth=i)\n",
    "    cv_error = cross_val_score(treereg,X,y,cv=10,scoring='mean_squared_error')\n",
    "    cv_scores.append(np.mean(np.sqrt(-cv_error)))\n",
    "\n",
    "depth_df = pd.DataFrame({'depth':depth_range,'cv_scores':cv_scores})\n",
    "print depth_df\n",
    "depth_df.plot(x='depth',y='cv_scores')"
   ]
  },
  {
   "cell_type": "markdown",
   "metadata": {},
   "source": [
    "Depth of three performs best"
   ]
  },
  {
   "cell_type": "code",
   "execution_count": 36,
   "metadata": {
    "collapsed": false
   },
   "outputs": [
    {
     "data": {
      "text/plain": [
       "0.69432518396371468"
      ]
     },
     "execution_count": 36,
     "metadata": {},
     "output_type": "execute_result"
    }
   ],
   "source": [
    "treereg = DecisionTreeRegressor(max_depth=3)\n",
    "cv_error = cross_val_score(treereg,X,y,cv=10,scoring='mean_squared_error')\n",
    "np.mean(-cv_error)"
   ]
  },
  {
   "cell_type": "markdown",
   "metadata": {},
   "source": [
    "## Step 3: Analyze data with random forest"
   ]
  },
  {
   "cell_type": "code",
   "execution_count": 37,
   "metadata": {
    "collapsed": false
   },
   "outputs": [
    {
     "name": "stdout",
     "output_type": "stream",
     "text": [
      "   num_features  oob_scores\n",
      "0             1    0.495675\n",
      "1             6    0.621706\n",
      "2            11    0.651153\n",
      "3            16    0.662586\n",
      "4            21    0.659269\n",
      "5            26    0.658016\n"
     ]
    },
    {
     "data": {
      "text/plain": [
       "<matplotlib.axes._subplots.AxesSubplot at 0x1132c3a10>"
      ]
     },
     "execution_count": 37,
     "metadata": {},
     "output_type": "execute_result"
    },
    {
     "data": {
      "image/png": "[encoded data removed]",
      "text/plain": [
       "<matplotlib.figure.Figure at 0x105036dd0>"
      ]
     },
     "metadata": {},
     "output_type": "display_data"
    }
   ],
   "source": [
    "num_features = range(1,30,5)\n",
    "oob_score_RF = []\n",
    "for i in num_features:\n",
    "    rf = RandomForestRegressor(n_estimators=1000,max_features=i,min_samples_leaf=5,oob_score=True)\n",
    "    rf.fit(X,y)\n",
    "    oob_score_RF.append(rf.oob_score_)\n",
    "\n",
    "oob_score_df = pd.DataFrame({'num_features':num_features,'oob_scores':oob_score_RF})\n",
    "print oob_score_df\n",
    "oob_score_df.plot(x='num_features',y='oob_scores')"
   ]
  },
  {
   "cell_type": "code",
   "execution_count": 38,
   "metadata": {
    "collapsed": false
   },
   "outputs": [
    {
     "name": "stdout",
     "output_type": "stream",
     "text": [
      "   num_features  oob_scores\n",
      "0             1    0.494053\n",
      "1             2    0.543158\n",
      "2             3    0.570120\n",
      "3             4    0.590313\n",
      "4             5    0.608871\n",
      "5             6    0.623225\n",
      "6             7    0.629943\n",
      "7             8    0.639492\n",
      "8             9    0.645592\n"
     ]
    },
    {
     "data": {
      "text/plain": [
       "<matplotlib.axes._subplots.AxesSubplot at 0x116dcd650>"
      ]
     },
     "execution_count": 38,
     "metadata": {},
     "output_type": "execute_result"
    },
    {
     "data": {
      "image/png": "[encoded data removed]",
      "text/plain": [
       "<matplotlib.figure.Figure at 0x116ae0f90>"
      ]
     },
     "metadata": {},
     "output_type": "display_data"
    }
   ],
   "source": [
    "# Zoom in further to select best number of features\n",
    "num_features = range(1,10)\n",
    "oob_score_RF = []\n",
    "for i in num_features:\n",
    "    rf = RandomForestRegressor(n_estimators=1000,max_features=i,min_samples_leaf=5,oob_score=True)\n",
    "    rf.fit(X,y)\n",
    "    oob_score_RF.append(rf.oob_score_)\n",
    "\n",
    "oob_score_df = pd.DataFrame({'num_features':num_features,'oob_scores':oob_score_RF})\n",
    "print oob_score_df\n",
    "oob_score_df.plot(x='num_features',y='oob_scores')"
   ]
  },
  {
   "cell_type": "markdown",
   "metadata": {},
   "source": [
    "Six features to use at random per node performs best"
   ]
  },
  {
   "cell_type": "code",
   "execution_count": 39,
   "metadata": {
    "collapsed": false
   },
   "outputs": [
    {
     "name": "stdout",
     "output_type": "stream",
     "text": [
      "   num_trees  oob_scores\n",
      "0        100    0.610252\n",
      "1        500    0.624953\n",
      "2       1000    0.620678\n",
      "3       5000    0.620512\n",
      "4      10000    0.621132\n"
     ]
    },
    {
     "data": {
      "text/plain": [
       "<matplotlib.axes._subplots.AxesSubplot at 0x11f8ff4d0>"
      ]
     },
     "execution_count": 39,
     "metadata": {},
     "output_type": "execute_result"
    },
    {
     "data": {
      "image/png": "[encoded data removed]",
      "text/plain": [
       "<matplotlib.figure.Figure at 0x11414fad0>"
      ]
     },
     "metadata": {},
     "output_type": "display_data"
    }
   ],
   "source": [
    "num_trees = [100,500,1000,5000,10000]\n",
    "oob_score_RF = []\n",
    "for i in num_trees:\n",
    "    rf = RandomForestRegressor(n_estimators=i,max_features=6,min_samples_leaf=5,oob_score=True)\n",
    "    rf.fit(X,y)\n",
    "    oob_score_RF.append(rf.oob_score_)\n",
    "    \n",
    "oob_score_df = pd.DataFrame({'num_trees':num_trees,'oob_scores':oob_score_RF})\n",
    "print oob_score_df\n",
    "oob_score_df.plot(x='num_trees',y='oob_scores')"
   ]
  },
  {
   "cell_type": "markdown",
   "metadata": {},
   "source": [
    "500 or 1000 estimators performs best - Varies based on run"
   ]
  },
  {
   "cell_type": "code",
   "execution_count": 40,
   "metadata": {
    "collapsed": false
   },
   "outputs": [
    {
     "name": "stdout",
     "output_type": "stream",
     "text": [
      "   num_samples  oob_scores\n",
      "0            1    0.634992\n",
      "1            2    0.630685\n",
      "2            3    0.632977\n",
      "3            4    0.628516\n",
      "4            5    0.616884\n",
      "5            6    0.615106\n",
      "6            7    0.614872\n",
      "7            8    0.606488\n",
      "8            9    0.603981\n",
      "9           10    0.600953\n"
     ]
    },
    {
     "data": {
      "text/plain": [
       "<matplotlib.axes._subplots.AxesSubplot at 0x11f9f2710>"
      ]
     },
     "execution_count": 40,
     "metadata": {},
     "output_type": "execute_result"
    },
    {
     "data": {
      "image/png": "[encoded data removed]",
      "text/plain": [
       "<matplotlib.figure.Figure at 0x116ae0b90>"
      ]
     },
     "metadata": {},
     "output_type": "display_data"
    }
   ],
   "source": [
    "num_samples = range(1,11)\n",
    "oob_score_RF = []\n",
    "for i in num_samples:\n",
    "    rf = RandomForestRegressor(n_estimators=1000,max_features=6,min_samples_leaf=i,oob_score=True)\n",
    "    rf.fit(X,y)\n",
    "    oob_score_RF.append(rf.oob_score_)\n",
    "    \n",
    "oob_score_df = pd.DataFrame({'num_samples':num_samples,'oob_scores':oob_score_RF})\n",
    "print oob_score_df\n",
    "oob_score_df.plot(x='num_samples',y='oob_scores')"
   ]
  },
  {
   "cell_type": "markdown",
   "metadata": {},
   "source": [
    "One sample minimum at terminal node performs best"
   ]
  },
  {
   "cell_type": "code",
   "execution_count": 41,
   "metadata": {
    "collapsed": false
   },
   "outputs": [
    {
     "data": {
      "text/plain": [
       "0.60369069152501731"
      ]
     },
     "execution_count": 41,
     "metadata": {},
     "output_type": "execute_result"
    }
   ],
   "source": [
    "RF = RandomForestRegressor(n_estimators = 1000, \n",
    "                       max_features = 6,     \n",
    "                       min_samples_leaf = 1,\n",
    "                       oob_score = True) \n",
    "cv_error = cross_val_score(RF, X, y, cv=10, scoring='mean_squared_error')\n",
    "np.mean(-cv_error)"
   ]
  },
  {
   "cell_type": "code",
   "execution_count": 42,
   "metadata": {
    "collapsed": false
   },
   "outputs": [
    {
     "data": {
      "text/html": [
       "<div>\n",
       "<table border=\"1\" class=\"dataframe\">\n",
       "  <thead>\n",
       "    <tr style=\"text-align: right;\">\n",
       "      <th></th>\n",
       "      <th>feature</th>\n",
       "      <th>importance</th>\n",
       "    </tr>\n",
       "  </thead>\n",
       "  <tbody>\n",
       "    <tr>\n",
       "      <th>23</th>\n",
       "      <td>age</td>\n",
       "      <td>0.147871</td>\n",
       "    </tr>\n",
       "    <tr>\n",
       "      <th>10</th>\n",
       "      <td>bb</td>\n",
       "      <td>0.097865</td>\n",
       "    </tr>\n",
       "    <tr>\n",
       "      <th>7</th>\n",
       "      <td>rbi</td>\n",
       "      <td>0.087521</td>\n",
       "    </tr>\n",
       "    <tr>\n",
       "      <th>1</th>\n",
       "      <td>ab</td>\n",
       "      <td>0.073589</td>\n",
       "    </tr>\n",
       "    <tr>\n",
       "      <th>4</th>\n",
       "      <td>double</td>\n",
       "      <td>0.071643</td>\n",
       "    </tr>\n",
       "    <tr>\n",
       "      <th>3</th>\n",
       "      <td>h</td>\n",
       "      <td>0.069977</td>\n",
       "    </tr>\n",
       "    <tr>\n",
       "      <th>2</th>\n",
       "      <td>r</td>\n",
       "      <td>0.050175</td>\n",
       "    </tr>\n",
       "    <tr>\n",
       "      <th>0</th>\n",
       "      <td>g</td>\n",
       "      <td>0.043082</td>\n",
       "    </tr>\n",
       "    <tr>\n",
       "      <th>16</th>\n",
       "      <td>g_idp</td>\n",
       "      <td>0.029170</td>\n",
       "    </tr>\n",
       "    <tr>\n",
       "      <th>17</th>\n",
       "      <td>inn_outs</td>\n",
       "      <td>0.028636</td>\n",
       "    </tr>\n",
       "  </tbody>\n",
       "</table>\n",
       "</div>"
      ],
      "text/plain": [
       "     feature  importance\n",
       "23       age    0.147871\n",
       "10        bb    0.097865\n",
       "7        rbi    0.087521\n",
       "1         ab    0.073589\n",
       "4     double    0.071643\n",
       "3          h    0.069977\n",
       "2          r    0.050175\n",
       "0          g    0.043082\n",
       "16     g_idp    0.029170\n",
       "17  inn_outs    0.028636"
      ]
     },
     "execution_count": 42,
     "metadata": {},
     "output_type": "execute_result"
    }
   ],
   "source": [
    "RF.fit(X,y)\n",
    "feature_importances_df = pd.DataFrame({'feature':X.columns.values,'importance':RF.feature_importances_})\n",
    "feature_importances_df.sort_values(by='importance',ascending=False)[:10]"
   ]
  },
  {
   "cell_type": "markdown",
   "metadata": {},
   "source": [
    "## Step 4: Analyze data with boosted trees"
   ]
  },
  {
   "cell_type": "code",
   "execution_count": 43,
   "metadata": {
    "collapsed": false
   },
   "outputs": [
    {
     "name": "stdout",
     "output_type": "stream",
     "text": [
      "   CV_Error  Max_Depth\n",
      "0  0.758991          1\n",
      "1  0.788282          2\n",
      "2  0.778196          3\n",
      "3  0.772409          4\n"
     ]
    },
    {
     "data": {
      "text/plain": [
       "<matplotlib.axes._subplots.AxesSubplot at 0x113bc3e50>"
      ]
     },
     "execution_count": 43,
     "metadata": {},
     "output_type": "execute_result"
    },
    {
     "data": {
      "image/png": "[encoded data removed]",
      "text/plain": [
       "<matplotlib.figure.Figure at 0x113bc3390>"
      ]
     },
     "metadata": {},
     "output_type": "display_data"
    }
   ],
   "source": [
    "depth = range(1,5)\n",
    "scores = []\n",
    "for i in depth:\n",
    "    GBR_Tree = GradientBoostingRegressor(learning_rate = 0.01, # This is lambda, a tuning parameter, usually between 0.01 and 0.1\n",
    "                                            n_estimators = 10000, #This is B, a tuning parameter, using large B can cause overfitting\n",
    "                                            max_depth = i, #This is d, another tuning parameter, usually max_depth < 5\n",
    "                                            min_samples_leaf = 5  )  \n",
    "    cv_error = cross_val_score(GBR_Tree,X,y,cv=10,scoring='mean_squared_error')\n",
    "    scores.append(np.mean(np.sqrt(-cv_error)))\n",
    "\n",
    "depth_choice_df = pd.DataFrame({'CV_Error': scores,'Max_Depth': depth})\n",
    "print depth_choice_df\n",
    "depth_choice_df.plot(x ='Max_Depth', y = 'CV_Error')"
   ]
  },
  {
   "cell_type": "markdown",
   "metadata": {},
   "source": [
    "Depth of 1 is best"
   ]
  },
  {
   "cell_type": "code",
   "execution_count": 44,
   "metadata": {
    "collapsed": false
   },
   "outputs": [],
   "source": [
    "NumberOfTrees = [100,1000,5000,10000,20000]\n",
    "learning_rate = [0.01,0.03,0.05,0.07,0.09,.1]\n",
    "tree_col = []\n",
    "rate_col = []\n",
    "scores = []\n",
    "for i in NumberOfTrees:\n",
    "    for j in learning_rate:\n",
    "        GBR_Tree = GradientBoostingRegressor(learning_rate = j, # This is lambda, a tuning parameter, usually between 0.01 and 0.1\n",
    "                                            n_estimators = i, #This is B, a tuning parameter, using large B can cause overfitting\n",
    "                                            max_depth = 1, #This is d, another tuning parameter, usually max_depth < 5\n",
    "                                            min_samples_leaf = 5  )  \n",
    "        cv_error = cross_val_score(GBR_Tree,X,y,cv=10,scoring='mean_squared_error')\n",
    "        tree_col.append(i)\n",
    "        rate_col.append(j)\n",
    "        scores.append(np.mean(np.sqrt(-cv_error)))"
   ]
  },
  {
   "cell_type": "code",
   "execution_count": 45,
   "metadata": {
    "collapsed": false
   },
   "outputs": [
    {
     "name": "stdout",
     "output_type": "stream",
     "text": [
      "    CV_Error  learning_rate  num_trees\n",
      "5   0.738747           0.10        100\n",
      "6   0.739554           0.01       1000\n",
      "4   0.741475           0.09        100\n",
      "7   0.743416           0.03       1000\n",
      "3   0.747099           0.07        100\n",
      "12  0.747443           0.01       5000\n",
      "8   0.748530           0.05       1000\n",
      "9   0.753157           0.07       1000\n",
      "10  0.758357           0.09       1000\n",
      "18  0.758924           0.01      10000\n",
      "11  0.761394           0.10       1000\n",
      "2   0.764762           0.05        100\n",
      "13  0.772775           0.03       5000\n",
      "24  0.786592           0.01      20000\n",
      "14  0.800099           0.05       5000\n",
      "19  0.809671           0.03      10000\n",
      "1   0.820699           0.03        100\n",
      "15  0.820896           0.07       5000\n",
      "16  0.838898           0.09       5000\n",
      "20  0.845828           0.05      10000\n",
      "17  0.848057           0.10       5000\n",
      "25  0.859662           0.03      20000\n",
      "21  0.874231           0.07      10000\n",
      "22  0.895328           0.09      10000\n",
      "26  0.901786           0.05      20000\n",
      "23  0.903564           0.10      10000\n",
      "27  0.932141           0.07      20000\n",
      "28  0.951089           0.09      20000\n",
      "29  0.958722           0.10      20000\n",
      "0   1.018666           0.01        100\n"
     ]
    }
   ],
   "source": [
    "tuning_df = pd.DataFrame({'num_trees': tree_col,'learning_rate':rate_col,'CV_Error': scores})\n",
    "#print tuning_df.sort_values(by=['learning_rate','num_trees'])\n",
    "print tuning_df.sort_values(by='CV_Error')"
   ]
  },
  {
   "cell_type": "markdown",
   "metadata": {},
   "source": [
    "0.1 learning rate and 100 estimator trees appears to minimize the error"
   ]
  },
  {
   "cell_type": "code",
   "execution_count": 46,
   "metadata": {
    "collapsed": false
   },
   "outputs": [
    {
     "name": "stdout",
     "output_type": "stream",
     "text": [
      "0.558620716401\n"
     ]
    }
   ],
   "source": [
    "GBR_Tree = GradientBoostingRegressor(learning_rate = 0.1, # This is lambda, a tuning parameter, usually between 0.01 and 0.1\n",
    "                                     n_estimators = 100, #This is B, a tuning parameter, using large B can cause overfitting\n",
    "                                     max_depth = 1, #This is d, another tuning parameter, usually max_depth < 5\n",
    "                                     min_samples_leaf = 5)\n",
    "scores = cross_val_score(GBR_Tree,X,y,cv=10,scoring='mean_squared_error')\n",
    "print (np.mean(-scores))"
   ]
  },
  {
   "cell_type": "code",
   "execution_count": 47,
   "metadata": {
    "collapsed": false
   },
   "outputs": [
    {
     "data": {
      "text/html": [
       "<div>\n",
       "<table border=\"1\" class=\"dataframe\">\n",
       "  <thead>\n",
       "    <tr style=\"text-align: right;\">\n",
       "      <th></th>\n",
       "      <th>feature</th>\n",
       "      <th>importance</th>\n",
       "    </tr>\n",
       "  </thead>\n",
       "  <tbody>\n",
       "    <tr>\n",
       "      <th>23</th>\n",
       "      <td>age</td>\n",
       "      <td>0.26</td>\n",
       "    </tr>\n",
       "    <tr>\n",
       "      <th>14</th>\n",
       "      <td>sh</td>\n",
       "      <td>0.10</td>\n",
       "    </tr>\n",
       "    <tr>\n",
       "      <th>3</th>\n",
       "      <td>h</td>\n",
       "      <td>0.10</td>\n",
       "    </tr>\n",
       "    <tr>\n",
       "      <th>19</th>\n",
       "      <td>a</td>\n",
       "      <td>0.09</td>\n",
       "    </tr>\n",
       "    <tr>\n",
       "      <th>10</th>\n",
       "      <td>bb</td>\n",
       "      <td>0.09</td>\n",
       "    </tr>\n",
       "    <tr>\n",
       "      <th>7</th>\n",
       "      <td>rbi</td>\n",
       "      <td>0.06</td>\n",
       "    </tr>\n",
       "    <tr>\n",
       "      <th>1</th>\n",
       "      <td>ab</td>\n",
       "      <td>0.06</td>\n",
       "    </tr>\n",
       "    <tr>\n",
       "      <th>16</th>\n",
       "      <td>g_idp</td>\n",
       "      <td>0.06</td>\n",
       "    </tr>\n",
       "    <tr>\n",
       "      <th>18</th>\n",
       "      <td>po</td>\n",
       "      <td>0.05</td>\n",
       "    </tr>\n",
       "    <tr>\n",
       "      <th>11</th>\n",
       "      <td>so</td>\n",
       "      <td>0.03</td>\n",
       "    </tr>\n",
       "  </tbody>\n",
       "</table>\n",
       "</div>"
      ],
      "text/plain": [
       "   feature  importance\n",
       "23     age        0.26\n",
       "14      sh        0.10\n",
       "3        h        0.10\n",
       "19       a        0.09\n",
       "10      bb        0.09\n",
       "7      rbi        0.06\n",
       "1       ab        0.06\n",
       "16   g_idp        0.06\n",
       "18      po        0.05\n",
       "11      so        0.03"
      ]
     },
     "execution_count": 47,
     "metadata": {},
     "output_type": "execute_result"
    }
   ],
   "source": [
    "GBR_Tree.fit(X,y)\n",
    "gbr_feature_importances_df = pd.DataFrame({'feature':X.columns.values,'importance':GBR_Tree.feature_importances_})\n",
    "gbr_feature_importances_df.sort_values(by='importance',ascending=False)[:10]"
   ]
  },
  {
   "cell_type": "markdown",
   "metadata": {},
   "source": [
    "## Step 5: Use alternative method with principal components"
   ]
  },
  {
   "cell_type": "code",
   "execution_count": 48,
   "metadata": {
    "collapsed": true
   },
   "outputs": [],
   "source": [
    "def demean(z):\n",
    "    return z-z.mean()"
   ]
  },
  {
   "cell_type": "code",
   "execution_count": 49,
   "metadata": {
    "collapsed": false
   },
   "outputs": [
    {
     "name": "stdout",
     "output_type": "stream",
     "text": [
      "[ 0.95452404  0.9925678   0.996361    0.99906024  0.99942511  0.99957434\n",
      "  0.99968256  0.99978034  0.99985448  0.99990975  0.99993722  0.99995379\n",
      "  0.99996331  0.99997047  0.99997673  0.99998233  0.9999869   0.99999073\n",
      "  0.99999378  0.99999567  0.99999721  0.99999853  0.99999961  0.99999974\n",
      "  0.99999982  0.99999989  0.99999992  0.99999995  0.99999998  1.          1.\n",
      "  1.          1.          1.        ]\n"
     ]
    },
    {
     "data": {
      "text/plain": [
       "<matplotlib.text.Text at 0x11f930c10>"
      ]
     },
     "execution_count": 49,
     "metadata": {},
     "output_type": "execute_result"
    },
    {
     "data": {
      "image/png": "[encoded data removed]",
      "text/plain": [
       "<matplotlib.figure.Figure at 0x105037850>"
      ]
     },
     "metadata": {},
     "output_type": "display_data"
    }
   ],
   "source": [
    "var_explained_by_comp = PCA().fit(demean(X)).explained_variance_ratio_\n",
    "print np.cumsum(var_explained_by_comp)\n",
    "plt.plot(np.cumsum(var_explained_by_comp))\n",
    "plt.xlabel('number of components')\n",
    "plt.ylabel('Total Cumulative Variance Explained')"
   ]
  },
  {
   "cell_type": "markdown",
   "metadata": {},
   "source": [
    "Two principle components capture over 99% of variance"
   ]
  },
  {
   "cell_type": "code",
   "execution_count": 50,
   "metadata": {
    "collapsed": false
   },
   "outputs": [
    {
     "data": {
      "text/plain": [
       "(404, 4)"
      ]
     },
     "execution_count": 50,
     "metadata": {},
     "output_type": "execute_result"
    }
   ],
   "source": [
    "clf = PCA(4)\n",
    "X_trans = clf.fit_transform(demean(X))\n",
    "X_trans.shape"
   ]
  },
  {
   "cell_type": "code",
   "execution_count": 51,
   "metadata": {
    "collapsed": false
   },
   "outputs": [
    {
     "data": {
      "image/png": "[encoded data removed]",
      "text/plain": [
       "<matplotlib.figure.Figure at 0x11fd6bfd0>"
      ]
     },
     "metadata": {},
     "output_type": "display_data"
    }
   ],
   "source": [
    "plt.scatter(X_trans[:, 0], X_trans[:, 1],c=y, alpha=0.5)\n",
    "plt.colorbar();"
   ]
  },
  {
   "cell_type": "markdown",
   "metadata": {},
   "source": [
    "### Use PCA output with KNN regressor"
   ]
  },
  {
   "cell_type": "code",
   "execution_count": 52,
   "metadata": {
    "collapsed": false
   },
   "outputs": [
    {
     "name": "stdout",
     "output_type": "stream",
     "text": [
      "      error  num_neighbors\n",
      "0  1.398729              1\n",
      "1  1.230990              2\n",
      "2  1.175772              3\n",
      "3  1.133421              4\n",
      "4  1.114415              5\n",
      "5  1.091145              6\n",
      "6  1.086360              7\n",
      "7  1.085125              8\n",
      "8  1.079201              9\n"
     ]
    },
    {
     "data": {
      "text/plain": [
       "<matplotlib.axes._subplots.AxesSubplot at 0x113ba8450>"
      ]
     },
     "execution_count": 52,
     "metadata": {},
     "output_type": "execute_result"
    },
    {
     "data": {
      "image/png": "[encoded data removed]",
      "text/plain": [
       "<matplotlib.figure.Figure at 0x11f9f2210>"
      ]
     },
     "metadata": {},
     "output_type": "display_data"
    }
   ],
   "source": [
    "num_neighbors = range(1,10)\n",
    "errors = []\n",
    "for i in num_neighbors:\n",
    "    knn = neighbors.KNeighborsRegressor(n_neighbors=i,weights='uniform')\n",
    "    knn.fit(X_trans,y)\n",
    "    mse = cross_val_score(knn,X_trans,y,cv=10,scoring='mean_squared_error')\n",
    "    errors.append(np.mean(np.sqrt(-mse)))\n",
    "\n",
    "error_df = pd.DataFrame({'num_neighbors':num_neighbors,'error':errors})\n",
    "print error_df\n",
    "error_df.plot(x='num_neighbors',y='error')"
   ]
  },
  {
   "cell_type": "markdown",
   "metadata": {
    "collapsed": true
   },
   "source": [
    "Seven neighbors leads to best performance"
   ]
  },
  {
   "cell_type": "code",
   "execution_count": 53,
   "metadata": {
    "collapsed": false
   },
   "outputs": [
    {
     "data": {
      "text/plain": [
       "1.1924010004637686"
      ]
     },
     "execution_count": 53,
     "metadata": {},
     "output_type": "execute_result"
    }
   ],
   "source": [
    "knn = neighbors.KNeighborsRegressor(n_neighbors=7,weights='uniform')\n",
    "knn.fit(X_trans,y)\n",
    "mse = cross_val_score(knn,X_trans,y,cv=10,scoring='mean_squared_error')\n",
    "np.mean(-mse)"
   ]
  },
  {
   "cell_type": "markdown",
   "metadata": {
    "collapsed": true
   },
   "source": [
    "### Use PCA output with decision trees"
   ]
  },
  {
   "cell_type": "code",
   "execution_count": 54,
   "metadata": {
    "collapsed": false
   },
   "outputs": [
    {
     "name": "stdout",
     "output_type": "stream",
     "text": [
      "    cv_scores  depth\n",
      "0    1.158185      1\n",
      "1    1.131426      2\n",
      "2    1.109765      3\n",
      "3    1.079380      4\n",
      "4    1.079068      5\n",
      "5    1.136418      6\n",
      "6    1.197975      7\n",
      "7    1.245972      8\n",
      "8    1.290328      9\n",
      "9    1.292185     10\n",
      "10   1.326419     11\n",
      "11   1.322265     12\n",
      "12   1.353150     13\n",
      "13   1.381488     14\n",
      "14   1.374439     15\n",
      "15   1.351294     16\n",
      "16   1.367457     17\n",
      "17   1.370097     18\n",
      "18   1.337175     19\n"
     ]
    },
    {
     "data": {
      "text/plain": [
       "<matplotlib.axes._subplots.AxesSubplot at 0x124e85950>"
      ]
     },
     "execution_count": 54,
     "metadata": {},
     "output_type": "execute_result"
    },
    {
     "data": {
      "image/png": "[encoded data removed]",
      "text/plain": [
       "<matplotlib.figure.Figure at 0x116a99650>"
      ]
     },
     "metadata": {},
     "output_type": "display_data"
    }
   ],
   "source": [
    "depth_range = range(1,20)\n",
    "cv_scores = []\n",
    "for i in depth_range:\n",
    "    treereg = DecisionTreeRegressor(max_depth=i)\n",
    "    cv_error = cross_val_score(treereg,X_trans,y,cv=10,scoring='mean_squared_error')\n",
    "    cv_scores.append(np.mean(np.sqrt(-cv_error)))\n",
    "\n",
    "depth_df = pd.DataFrame({'depth':depth_range,'cv_scores':cv_scores})\n",
    "print depth_df\n",
    "depth_df.plot(x='depth',y='cv_scores')"
   ]
  },
  {
   "cell_type": "code",
   "execution_count": 55,
   "metadata": {
    "collapsed": false
   },
   "outputs": [
    {
     "data": {
      "text/plain": [
       "1.1918969171474063"
      ]
     },
     "execution_count": 55,
     "metadata": {},
     "output_type": "execute_result"
    }
   ],
   "source": [
    "treereg = DecisionTreeRegressor(max_depth=5)\n",
    "mse = cross_val_score(treereg,X_trans,y,cv=10,scoring='mean_squared_error')\n",
    "np.mean(-mse)"
   ]
  },
  {
   "cell_type": "code",
   "execution_count": null,
   "metadata": {
    "collapsed": true
   },
   "outputs": [],
   "source": []
  }
 ],
 "metadata": {
  "kernelspec": {
   "display_name": "Python 2",
   "language": "python",
   "name": "python2"
  },
  "language_info": {
   "codemirror_mode": {
    "name": "ipython",
    "version": 2
   },
   "file_extension": ".py",
   "mimetype": "text/x-python",
   "name": "python",
   "nbconvert_exporter": "python",
   "pygments_lexer": "ipython2",
   "version": "2.7.11"
  }
 },
 "nbformat": 4,
 "nbformat_minor": 0
}
