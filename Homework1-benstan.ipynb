{
 "cells": [
  {
   "cell_type": "code",
   "execution_count": null,
   "metadata": {
    "collapsed": true
   },
   "outputs": [],
   "source": [
    "# 1. How many passengers are in our passenger list? From here forward, we’ll assume our dataset represents the full passenger list for the Titanic.\n",
    "# 2. What is the overall survival rate?\n",
    "# 3. How many male passengers were onboard?\n",
    "# 4. How many female passengers were onboard?\n",
    "# 5. What is the overall survival rate of male passengers?\n",
    "# 6. What is the overall survival rate of female passengers?\n",
    "# 7. What is the average age of all passengers onboard?\n",
    "#     * How did you calculate this average age?\n",
    "#     * Note that some of the passengers do not have an age value. How did you deal with this? What are some other ways of dealing with this?\n",
    "# 8. What is the average age of passengers who survived?\n",
    "# 9. What is the average age of passengers who did not survive?\n",
    "# 10. At this (early) point in our analysis, what might you infer about any patterns\n",
    "# you are seeing?\n",
    "# 11. How many passengers are in each of the three classes of service (e.g. First,\n",
    "# Second, Third?)\n",
    "# 12. What is the survival rate for passengers in each of the three classes of service?\n",
    "# 13. What else might you conclude?\n",
    "# 14. Last, if we were to build a predictive model, which features in the data do you\n",
    "# think we should include in the model and which can we leave out? Why?"
   ]
  },
  {
   "cell_type": "code",
   "execution_count": 2,
   "metadata": {
    "collapsed": true
   },
   "outputs": [],
   "source": [
    "import pandas as pd\n",
    "import numpy as np\n",
    "import matplotlib.pyplot as plt\n",
    "%matplotlib inline"
   ]
  },
  {
   "cell_type": "code",
   "execution_count": 54,
   "metadata": {
    "collapsed": false
   },
   "outputs": [
    {
     "data": {
      "text/html": [
       "<div>\n",
       "<table border=\"1\" class=\"dataframe\">\n",
       "  <thead>\n",
       "    <tr style=\"text-align: right;\">\n",
       "      <th></th>\n",
       "      <th>PassengerId</th>\n",
       "      <th>Survived</th>\n",
       "      <th>Pclass</th>\n",
       "      <th>Name</th>\n",
       "      <th>Sex</th>\n",
       "      <th>Age</th>\n",
       "      <th>SibSp</th>\n",
       "      <th>Parch</th>\n",
       "      <th>Ticket</th>\n",
       "      <th>Fare</th>\n",
       "      <th>Cabin</th>\n",
       "      <th>Embarked</th>\n",
       "    </tr>\n",
       "  </thead>\n",
       "  <tbody>\n",
       "    <tr>\n",
       "      <th>0</th>\n",
       "      <td>1</td>\n",
       "      <td>0</td>\n",
       "      <td>3</td>\n",
       "      <td>Braund, Mr. Owen Harris</td>\n",
       "      <td>male</td>\n",
       "      <td>22</td>\n",
       "      <td>1</td>\n",
       "      <td>0</td>\n",
       "      <td>A/5 21171</td>\n",
       "      <td>7.2500</td>\n",
       "      <td>NaN</td>\n",
       "      <td>S</td>\n",
       "    </tr>\n",
       "    <tr>\n",
       "      <th>1</th>\n",
       "      <td>2</td>\n",
       "      <td>1</td>\n",
       "      <td>1</td>\n",
       "      <td>Cumings, Mrs. John Bradley (Florence Briggs Th...</td>\n",
       "      <td>female</td>\n",
       "      <td>38</td>\n",
       "      <td>1</td>\n",
       "      <td>0</td>\n",
       "      <td>PC 17599</td>\n",
       "      <td>71.2833</td>\n",
       "      <td>C85</td>\n",
       "      <td>C</td>\n",
       "    </tr>\n",
       "    <tr>\n",
       "      <th>2</th>\n",
       "      <td>3</td>\n",
       "      <td>1</td>\n",
       "      <td>3</td>\n",
       "      <td>Heikkinen, Miss. Laina</td>\n",
       "      <td>female</td>\n",
       "      <td>26</td>\n",
       "      <td>0</td>\n",
       "      <td>0</td>\n",
       "      <td>STON/O2. 3101282</td>\n",
       "      <td>7.9250</td>\n",
       "      <td>NaN</td>\n",
       "      <td>S</td>\n",
       "    </tr>\n",
       "    <tr>\n",
       "      <th>3</th>\n",
       "      <td>4</td>\n",
       "      <td>1</td>\n",
       "      <td>1</td>\n",
       "      <td>Futrelle, Mrs. Jacques Heath (Lily May Peel)</td>\n",
       "      <td>female</td>\n",
       "      <td>35</td>\n",
       "      <td>1</td>\n",
       "      <td>0</td>\n",
       "      <td>113803</td>\n",
       "      <td>53.1000</td>\n",
       "      <td>C123</td>\n",
       "      <td>S</td>\n",
       "    </tr>\n",
       "    <tr>\n",
       "      <th>4</th>\n",
       "      <td>5</td>\n",
       "      <td>0</td>\n",
       "      <td>3</td>\n",
       "      <td>Allen, Mr. William Henry</td>\n",
       "      <td>male</td>\n",
       "      <td>35</td>\n",
       "      <td>0</td>\n",
       "      <td>0</td>\n",
       "      <td>373450</td>\n",
       "      <td>8.0500</td>\n",
       "      <td>NaN</td>\n",
       "      <td>S</td>\n",
       "    </tr>\n",
       "  </tbody>\n",
       "</table>\n",
       "</div>"
      ],
      "text/plain": [
       "   PassengerId  Survived  Pclass  \\\n",
       "0            1         0       3   \n",
       "1            2         1       1   \n",
       "2            3         1       3   \n",
       "3            4         1       1   \n",
       "4            5         0       3   \n",
       "\n",
       "                                                Name     Sex  Age  SibSp  \\\n",
       "0                            Braund, Mr. Owen Harris    male   22      1   \n",
       "1  Cumings, Mrs. John Bradley (Florence Briggs Th...  female   38      1   \n",
       "2                             Heikkinen, Miss. Laina  female   26      0   \n",
       "3       Futrelle, Mrs. Jacques Heath (Lily May Peel)  female   35      1   \n",
       "4                           Allen, Mr. William Henry    male   35      0   \n",
       "\n",
       "   Parch            Ticket     Fare Cabin Embarked  \n",
       "0      0         A/5 21171   7.2500   NaN        S  \n",
       "1      0          PC 17599  71.2833   C85        C  \n",
       "2      0  STON/O2. 3101282   7.9250   NaN        S  \n",
       "3      0            113803  53.1000  C123        S  \n",
       "4      0            373450   8.0500   NaN        S  "
      ]
     },
     "execution_count": 54,
     "metadata": {},
     "output_type": "execute_result"
    }
   ],
   "source": [
    "data = pd.read_csv('/Users/benstan/Desktop/GA-DS/SF-DAT-20-MASTER/HW assignments/hw1/titanic.csv')\n",
    "data.head()"
   ]
  },
  {
   "cell_type": "code",
   "execution_count": 8,
   "metadata": {
    "collapsed": false
   },
   "outputs": [
    {
     "data": {
      "text/plain": [
       "891"
      ]
     },
     "execution_count": 8,
     "metadata": {},
     "output_type": "execute_result"
    }
   ],
   "source": [
    "# Problem 1\n",
    "len(data) # 891 passengers"
   ]
  },
  {
   "cell_type": "code",
   "execution_count": 11,
   "metadata": {
    "collapsed": false
   },
   "outputs": [
    {
     "data": {
      "text/plain": [
       "0.3838383838383838"
      ]
     },
     "execution_count": 11,
     "metadata": {},
     "output_type": "execute_result"
    }
   ],
   "source": [
    "# Problem 2\n",
    "float(data[\"Survived\"].sum())/float(len(data)) # 38.4% survival rate"
   ]
  },
  {
   "cell_type": "code",
   "execution_count": 19,
   "metadata": {
    "collapsed": false
   },
   "outputs": [
    {
     "data": {
      "text/plain": [
       "577"
      ]
     },
     "execution_count": 19,
     "metadata": {},
     "output_type": "execute_result"
    }
   ],
   "source": [
    "# Problem 3\n",
    "len(data[data[\"Sex\"]==\"male\"]) # 577 males"
   ]
  },
  {
   "cell_type": "code",
   "execution_count": 20,
   "metadata": {
    "collapsed": false
   },
   "outputs": [
    {
     "data": {
      "text/plain": [
       "314"
      ]
     },
     "execution_count": 20,
     "metadata": {},
     "output_type": "execute_result"
    }
   ],
   "source": [
    "# Problem 4\n",
    "len(data[data[\"Sex\"]==\"female\"]) # 314 females"
   ]
  },
  {
   "cell_type": "code",
   "execution_count": 22,
   "metadata": {
    "collapsed": false
   },
   "outputs": [
    {
     "data": {
      "text/plain": [
       "0.18890814558058924"
      ]
     },
     "execution_count": 22,
     "metadata": {},
     "output_type": "execute_result"
    }
   ],
   "source": [
    "# Problem 5\n",
    "# data[data[\"Sex\"]==\"male\"][\"Survived\"].sum() # 109 survivors\n",
    "float(data[data[\"Sex\"]==\"male\"][\"Survived\"].sum())/float(len(data[data[\"Sex\"]==\"male\"])) # 18.9% survival rate"
   ]
  },
  {
   "cell_type": "code",
   "execution_count": 24,
   "metadata": {
    "collapsed": false
   },
   "outputs": [
    {
     "data": {
      "text/plain": [
       "0.7420382165605095"
      ]
     },
     "execution_count": 24,
     "metadata": {},
     "output_type": "execute_result"
    }
   ],
   "source": [
    "# Problem 6\n",
    "data[data[\"Sex\"]==\"female\"][\"Survived\"].sum() # 233 survivors\n",
    "float(data[data[\"Sex\"]==\"female\"][\"Survived\"].sum())/float(len(data[data[\"Sex\"]==\"female\"])) # 74.2% survival rate"
   ]
  },
  {
   "cell_type": "code",
   "execution_count": 30,
   "metadata": {
    "collapsed": false
   },
   "outputs": [
    {
     "data": {
      "text/plain": [
       "29.69911764705882"
      ]
     },
     "execution_count": 30,
     "metadata": {},
     "output_type": "execute_result"
    }
   ],
   "source": [
    "# Problem 7\n",
    "#data['Age'].sum() # total age of 21205.17\n",
    "#sum(data['Age'].notnull()) # 714 non-null values in 'Age'\n",
    "float(data['Age'].sum())/float(sum(data['Age'].notnull())) # Average age of 29.7\n",
    "\n",
    "# Average computed by adding all ages in column and dividing by number of non-null entries\n",
    "# I dealt with missing values by only dividing by the number of non-null values in the column; an alternative would be to use the mean() function as shown below\n",
    "# data['Age'].mean()"
   ]
  },
  {
   "cell_type": "code",
   "execution_count": 31,
   "metadata": {
    "collapsed": false
   },
   "outputs": [
    {
     "data": {
      "text/plain": [
       "28.343689655172415"
      ]
     },
     "execution_count": 31,
     "metadata": {},
     "output_type": "execute_result"
    }
   ],
   "source": [
    "# Problem 8\n",
    "data[data['Survived']==1]['Age'].mean() # Average survivor was 28.3 years old"
   ]
  },
  {
   "cell_type": "code",
   "execution_count": 32,
   "metadata": {
    "collapsed": false
   },
   "outputs": [
    {
     "data": {
      "text/plain": [
       "30.62617924528302"
      ]
     },
     "execution_count": 32,
     "metadata": {},
     "output_type": "execute_result"
    }
   ],
   "source": [
    "# Problem 9\n",
    "data[data['Survived']==0]['Age'].mean() # Average deceased was 30.6 years old"
   ]
  },
  {
   "cell_type": "code",
   "execution_count": null,
   "metadata": {
    "collapsed": true
   },
   "outputs": [],
   "source": [
    "# Problem 10\n",
    "# I would infer that older riders on the ship passed away at higher rates and that a vast majority of the deceased were men"
   ]
  },
  {
   "cell_type": "code",
   "execution_count": 39,
   "metadata": {
    "collapsed": false
   },
   "outputs": [
    {
     "data": {
      "text/plain": [
       "Pclass\n",
       "1    216\n",
       "2    184\n",
       "3    491\n",
       "Name: PassengerId, dtype: int64"
      ]
     },
     "execution_count": 39,
     "metadata": {},
     "output_type": "execute_result"
    }
   ],
   "source": [
    "# Problem 11\n",
    "data.groupby('Pclass')[\"PassengerId\"].count() # 216 in Pclass 1; 184 in Pclass 2; 491 in Pclass 3\n",
    "\n",
    "# Alternative method yields same results\n",
    "# len(data[data[\"Pclass\"]==1])\n",
    "# len(data[data[\"Pclass\"]==2])\n",
    "# len(data[data[\"Pclass\"]==3])"
   ]
  },
  {
   "cell_type": "code",
   "execution_count": 47,
   "metadata": {
    "collapsed": false
   },
   "outputs": [
    {
     "data": {
      "text/plain": [
       "Pclass\n",
       "1    0.629630\n",
       "2    0.472826\n",
       "3    0.242363\n",
       "dtype: float64"
      ]
     },
     "execution_count": 47,
     "metadata": {},
     "output_type": "execute_result"
    }
   ],
   "source": [
    "# Problem 12\n",
    "\n",
    "#float(sum(data[data[\"Pclass\"]==1][\"Survived\"]))/float(len(data[data[\"Pclass\"]==1])) # 62.9% survival rate in Pclass 1\n",
    "#float(sum(data[data[\"Pclass\"]==2][\"Survived\"]))/float(len(data[data[\"Pclass\"]==2])) # 47.3% survival rate in Pclass 2\n",
    "#float(sum(data[data[\"Pclass\"]==3][\"Survived\"]))/float(len(data[data[\"Pclass\"]==3])) # 24.2% survival rate in Pclass 3\n",
    "\n",
    "# Alternative method yields same results\n",
    "data.groupby('Pclass')[\"Survived\"].sum()/data.groupby('Pclass')[\"PassengerId\"].count()"
   ]
  },
  {
   "cell_type": "code",
   "execution_count": 52,
   "metadata": {
    "collapsed": false
   },
   "outputs": [
    {
     "data": {
      "text/plain": [
       "Pclass\n",
       "1    0.435185\n",
       "2    0.413043\n",
       "3    0.293279\n",
       "Name: PassengerId, dtype: float64"
      ]
     },
     "execution_count": 52,
     "metadata": {},
     "output_type": "execute_result"
    }
   ],
   "source": [
    "# Problem 13\n",
    "# Possible to conclude that the higher classes had better access to rescue resources, which yielded higher survival rates\n",
    "# As further exploration, I looked at at the percentage of each Pclass that were women, which shows the higher Pclasses, which had higher survival rates, \n",
    "# also had a higher composition of women, which partially explains the higher survival rates seen by women\n",
    "data[data['Sex']=='female'].groupby('Pclass')[\"PassengerId\"].count()/data.groupby('Pclass')[\"PassengerId\"].count()"
   ]
  },
  {
   "cell_type": "code",
   "execution_count": 55,
   "metadata": {
    "collapsed": false
   },
   "outputs": [
    {
     "data": {
      "text/plain": [
       "PassengerId      0\n",
       "Survived         0\n",
       "Pclass           0\n",
       "Name             0\n",
       "Sex              0\n",
       "Age            177\n",
       "SibSp            0\n",
       "Parch            0\n",
       "Ticket           0\n",
       "Fare             0\n",
       "Cabin          687\n",
       "Embarked         2\n",
       "dtype: int64"
      ]
     },
     "execution_count": 55,
     "metadata": {},
     "output_type": "execute_result"
    }
   ],
   "source": [
    "# Problem 14\n",
    "# Features to keep: PassengerID, Pclass, Survived, Sex, Age, SibSp, Parch, Embarked\n",
    "# Features to remove: Ticket, Fare, Name, Cabin\n",
    "\n",
    "# I decided to keep these select features because I believe that they provide valuable information and could show trends \n",
    "# within the data. Those that I removed either served no real purpose (e.g. Name, Fare (which can be replaced by Pclass for \n",
    "# determining wealth), and Ticket) and/or have many missing values (e.g. Cabin, see below). I would be interested in investigating trends \n",
    "# regarding survival of those with children/spouses on the ship\n",
    "\n",
    "data.isnull().sum()"
   ]
  },
  {
   "cell_type": "code",
   "execution_count": null,
   "metadata": {
    "collapsed": true
   },
   "outputs": [],
   "source": []
  }
 ],
 "metadata": {
  "kernelspec": {
   "display_name": "Python 2",
   "language": "python",
   "name": "python2"
  },
  "language_info": {
   "codemirror_mode": {
    "name": "ipython",
    "version": 2
   },
   "file_extension": ".py",
   "mimetype": "text/x-python",
   "name": "python",
   "nbconvert_exporter": "python",
   "pygments_lexer": "ipython2",
   "version": "2.7.11"
  }
 },
 "nbformat": 4,
 "nbformat_minor": 0
}
