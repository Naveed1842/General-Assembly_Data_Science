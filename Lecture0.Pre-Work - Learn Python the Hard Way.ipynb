{
 "cells": [
  {
   "cell_type": "code",
   "execution_count": 2,
   "metadata": {
    "collapsed": false
   },
   "outputs": [
    {
     "name": "stdout",
     "output_type": "stream",
     "text": [
      "I have 3 cars in my garage\n"
     ]
    }
   ],
   "source": [
    "# How to print multiple items\n",
    "cars = 3\n",
    "print \"I have\",cars,\"cars in my garage\""
   ]
  },
  {
   "cell_type": "code",
   "execution_count": 4,
   "metadata": {
    "collapsed": false
   },
   "outputs": [
    {
     "name": "stdout",
     "output_type": "stream",
     "text": [
      "Let's talk about Ben Stan\n",
      "Ben Stan is 24 years old\n",
      "He has Brown eyes and Brown hair\n",
      "If I multiply 24 by 2, the answer is 48\n"
     ]
    }
   ],
   "source": [
    "#Using formatters part 1\n",
    "\n",
    "my_name = \"Ben Stan\"\n",
    "my_age = 24\n",
    "my_eyes  = \"Brown\"\n",
    "my_hair = \"Brown\"\n",
    "print \"Let's talk about %s\" % my_name\n",
    "print \"%s is %d years old\" % (my_name, my_age)\n",
    "print \"He has %s eyes and %s hair\" % (my_eyes, my_hair)\n",
    "print \"If I multiply %d by %d, the answer is %d\" % (my_age,2,my_age*2)\n",
    "# d (or i) is signed integer decimal\n",
    "# s is string"
   ]
  },
  {
   "cell_type": "code",
   "execution_count": 5,
   "metadata": {
    "collapsed": false
   },
   "outputs": [
    {
     "name": "stdout",
     "output_type": "stream",
     "text": [
      "There are 10 types of people.\n",
      "Those who know binary and those who don't.\n",
      "I said: 'There are 10 types of people.'.\n",
      "I also said: 'Those who know binary and those who don't.'\n",
      "Isn't that joke so funny?! False\n",
      "this is the left side ofa string with a right side\n",
      "this is the left side of a string with a right side\n"
     ]
    }
   ],
   "source": [
    "#Using formatters part 2\n",
    "x = \"There are %d types of people.\" % 10\n",
    "binary = \"binary\"\n",
    "do_not = \"don't\"\n",
    "y = \"Those who know %s and those who %s.\" % (binary, do_not)\n",
    "\n",
    "print x\n",
    "print y\n",
    "\n",
    "print \"I said: %r.\" % x\n",
    "print \"I also said: '%s'\" % y\n",
    "\n",
    "hilarious = False\n",
    "joke_evaluation = \"Isn't that joke so funny?! %r\" \n",
    "#%r displays raw data while %s and %d display variables\n",
    "print joke_evaluation % hilarious\n",
    "\n",
    "w = 'this is the left side of'\n",
    "e = 'a string with a right side'\n",
    "print w+e\n",
    "print w,e"
   ]
  },
  {
   "cell_type": "code",
   "execution_count": 8,
   "metadata": {
    "collapsed": false
   },
   "outputs": [
    {
     "name": "stdout",
     "output_type": "stream",
     "text": [
      "Cheese Burger\n"
     ]
    }
   ],
   "source": [
    "# Understanding the difference between , and + to concatenate strings\n",
    "\n",
    "end1 = \"C\"\n",
    "end2 = \"h\"\n",
    "end3 = \"e\"\n",
    "end4 = \"e\"\n",
    "end5 = \"s\"\n",
    "end6 = \"e\"\n",
    "end7 = \"B\"\n",
    "end8 = \"u\"\n",
    "end9 = \"r\"\n",
    "end10 = \"g\"\n",
    "end11 = \"e\"\n",
    "end12 = \"r\"\n",
    "\n",
    "# watch that comma at the end.  try removing it to see what happens\n",
    "print end1 + end2 + end3 + end4 + end5 + end6,\n",
    "print end7 + end8 + end9 + end10 + end11 + end12"
   ]
  },
  {
   "cell_type": "code",
   "execution_count": null,
   "metadata": {
    "collapsed": true
   },
   "outputs": [],
   "source": [
    "# Multiple lines strings\n",
    "    #Use \\n within strings to shift to next line e.g. \"June\\nJuly\"\n",
    "    # Use triple quotes (\"\"\") to create multi-line strings\n",
    "    \n",
    "# Escape backslash\n",
    "    # \\ causes a break in a string \n",
    "    # Use \\ to break a string for use in \n",
    "        # tabbing: \\t\n",
    "        # quotes in quotes: \"I'm 6'3/\"\"\n",
    "        # line breaks: \"The is the end \\nmy only friend, the end\""
   ]
  },
  {
   "cell_type": "code",
   "execution_count": 11,
   "metadata": {
    "collapsed": false
   },
   "outputs": [
    {
     "name": "stdout",
     "output_type": "stream",
     "text": [
      "what is your age25\n"
     ]
    }
   ],
   "source": [
    "# Taking input\n",
    "age = raw_input(\"what is your age\")"
   ]
  },
  {
   "cell_type": "code",
   "execution_count": 12,
   "metadata": {
    "collapsed": true
   },
   "outputs": [
    {
     "ename": "ValueError",
     "evalue": "too many values to unpack",
     "output_type": "error",
     "traceback": [
      "\u001b[0;31m---------------------------------------------------------------------------\u001b[0m",
      "\u001b[0;31mValueError\u001b[0m                                Traceback (most recent call last)",
      "\u001b[0;32m<ipython-input-12-6776fd44eb12>\u001b[0m in \u001b[0;36m<module>\u001b[0;34m()\u001b[0m\n\u001b[1;32m      8\u001b[0m \u001b[0;32mfrom\u001b[0m \u001b[0msys\u001b[0m \u001b[0;32mimport\u001b[0m \u001b[0margv\u001b[0m\u001b[0;34m\u001b[0m\u001b[0m\n\u001b[1;32m      9\u001b[0m \u001b[0;34m\u001b[0m\u001b[0m\n\u001b[0;32m---> 10\u001b[0;31m \u001b[0mscript\u001b[0m\u001b[0;34m,\u001b[0m \u001b[0mfilename\u001b[0m \u001b[0;34m=\u001b[0m \u001b[0margv\u001b[0m\u001b[0;34m\u001b[0m\u001b[0m\n\u001b[0m\u001b[1;32m     11\u001b[0m \u001b[0;34m\u001b[0m\u001b[0m\n\u001b[1;32m     12\u001b[0m \u001b[0;32mprint\u001b[0m \u001b[0;34m\"We're going to erase %r.\"\u001b[0m \u001b[0;34m%\u001b[0m \u001b[0mfilename\u001b[0m\u001b[0;34m\u001b[0m\u001b[0m\n",
      "\u001b[0;31mValueError\u001b[0m: too many values to unpack"
     ]
    }
   ],
   "source": [
    "# Manipulating files\n",
    "# close -- Closes the file. Like File->Save.. in your editor.\n",
    "# read -- Reads the contents of the file. You can assign the result to a variable.\n",
    "# readline -- Reads just one line of a text file.\n",
    "# truncate -- Empties the file. Watch out if you care about the file.\n",
    "# write('stuff') -- Writes \"stuff\" to the file.\n",
    "\n",
    "from sys import argv\n",
    "\n",
    "script, filename = argv\n",
    "\n",
    "print \"We're going to erase %r.\" % filename\n",
    "print \"If you don't want that, hit CTRL-C (^C).\"\n",
    "print \"If you do want that, hit RETURN.\"\n",
    "\n",
    "raw_input(\"?\")\n",
    "\n",
    "print \"Opening the file...\"\n",
    "target = open(filename, 'w')\n",
    "\n",
    "print \"Truncating the file.  Goodbye!\"\n",
    "target.truncate()\n",
    "\n",
    "print \"Now I'm going to ask you for three lines.\"\n",
    "\n",
    "line1 = raw_input(\"line 1: \")\n",
    "line2 = raw_input(\"line 2: \")\n",
    "line3 = raw_input(\"line 3: \")\n",
    "\n",
    "print \"I'm going to write these to the file.\"\n",
    "\n",
    "target.write(line1)\n",
    "target.write(\"\\n\")\n",
    "target.write(line2)\n",
    "target.write(\"\\n\")\n",
    "target.write(line3)\n",
    "target.write(\"\\n\")\n",
    "\n",
    "print \"And finally, we close it.\"\n",
    "target.close()"
   ]
  },
  {
   "cell_type": "code",
   "execution_count": 16,
   "metadata": {
    "collapsed": false
   },
   "outputs": [
    {
     "data": {
      "text/plain": [
       "[2010, 2011, 2012, 2013, 2014]"
      ]
     },
     "execution_count": 16,
     "metadata": {},
     "output_type": "execute_result"
    }
   ],
   "source": [
    "range(2010,2015)"
   ]
  },
  {
   "cell_type": "code",
   "execution_count": null,
   "metadata": {
    "collapsed": true
   },
   "outputs": [],
   "source": []
  }
 ],
 "metadata": {
  "kernelspec": {
   "display_name": "Python 2",
   "language": "python",
   "name": "python2"
  },
  "language_info": {
   "codemirror_mode": {
    "name": "ipython",
    "version": 2
   },
   "file_extension": ".py",
   "mimetype": "text/x-python",
   "name": "python",
   "nbconvert_exporter": "python",
   "pygments_lexer": "ipython2",
   "version": "2.7.11"
  }
 },
 "nbformat": 4,
 "nbformat_minor": 0
}
