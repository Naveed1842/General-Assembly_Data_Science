{
 "cells": [
  {
   "cell_type": "markdown",
   "metadata": {},
   "source": [
    "# HW#4 - benstan"
   ]
  },
  {
   "cell_type": "code",
   "execution_count": 1,
   "metadata": {
    "collapsed": true
   },
   "outputs": [],
   "source": [
    "import pandas as pd\n",
    "import numpy as np\n",
    "import matplotlib.pyplot as plt\n",
    "%matplotlib inline"
   ]
  },
  {
   "cell_type": "code",
   "execution_count": 2,
   "metadata": {
    "collapsed": false
   },
   "outputs": [
    {
     "data": {
      "text/plain": [
       "(4601, 58)"
      ]
     },
     "execution_count": 2,
     "metadata": {},
     "output_type": "execute_result"
    }
   ],
   "source": [
    "url = \"https://raw.githubusercontent.com/ga-students/SF-DAT-20/master/Data/spambase.csv\"\n",
    "SpamData = pd.read_csv(url)\n",
    "SpamData.head()\n",
    "SpamData.shape"
   ]
  },
  {
   "cell_type": "code",
   "execution_count": 3,
   "metadata": {
    "collapsed": true
   },
   "outputs": [],
   "source": [
    "X = SpamData.copy()\n",
    "del X['is_spam']\n",
    "y = SpamData['is_spam']"
   ]
  },
  {
   "cell_type": "markdown",
   "metadata": {},
   "source": [
    "#### Earlier in this course, we used logistic regression model and could achieve 8.2% misclassification error. Now, you know a little bit of higher end algorithms like Random Forest and boosting. Go ahead and beat Logistic regression algorithm. The champion, the person who beats CV-error of 8.2% and makes the least amount of error will receive a ONE DOLLAR bill award! "
   ]
  },
  {
   "cell_type": "markdown",
   "metadata": {},
   "source": [
    "In order to be consistent, use the following way to cross-validate your errors:\n",
    "\n",
    "from sklearn import cross_validation\n",
    "\n",
    "kf = cross_validation.KFold(len(SpamData), n_folds = 10, shuffle = True) \n",
    "\n",
    "scores = []\n",
    "\n",
    "for train_index, test_index in kf: ...                                  "
   ]
  },
  {
   "cell_type": "markdown",
   "metadata": {},
   "source": [
    "### Method 1: Random Forest"
   ]
  },
  {
   "cell_type": "code",
   "execution_count": 4,
   "metadata": {
    "collapsed": false
   },
   "outputs": [
    {
     "name": "stdout",
     "output_type": "stream",
     "text": [
      "    num_features  oob_scores\n",
      "0              1    0.924147\n",
      "1              6    0.944143\n",
      "2             11    0.946099\n",
      "3             16    0.944577\n",
      "4             21    0.945012\n",
      "5             26    0.945012\n",
      "6             31    0.943056\n",
      "7             36    0.944360\n",
      "8             41    0.943708\n",
      "9             46    0.944143\n",
      "10            51    0.943925\n",
      "11            56    0.942621\n"
     ]
    },
    {
     "data": {
      "text/plain": [
       "<matplotlib.axes._subplots.AxesSubplot at 0x112eabbd0>"
      ]
     },
     "execution_count": 4,
     "metadata": {},
     "output_type": "execute_result"
    },
    {
     "data": {
      "image/png": "[encoded data removed]",
      "text/plain": [
       "<matplotlib.figure.Figure at 0x112eab310>"
      ]
     },
     "metadata": {},
     "output_type": "display_data"
    }
   ],
   "source": [
    "# Start with random forect classifier; tune for number of features to consideer at each node\n",
    "from sklearn.ensemble import RandomForestClassifier\n",
    "from sklearn.cross_validation import cross_val_score\n",
    "num_features = range(1,58,5)\n",
    "oob_score_RF = []\n",
    "for i in num_features:\n",
    "    rf = RandomForestClassifier(n_estimators=1000,max_features=i,min_samples_leaf=5,oob_score=True)\n",
    "    rf.fit(X,y)\n",
    "    oob_score_RF.append(rf.oob_score_)\n",
    "\n",
    "oob_score_df = pd.DataFrame({'num_features':num_features,'oob_scores':oob_score_RF})\n",
    "print oob_score_df\n",
    "oob_score_df.plot(x='num_features',y='oob_scores')"
   ]
  },
  {
   "cell_type": "code",
   "execution_count": 5,
   "metadata": {
    "collapsed": false
   },
   "outputs": [
    {
     "name": "stdout",
     "output_type": "stream",
     "text": [
      "   num_features  oob_scores\n",
      "0             7    0.943708\n",
      "1             8    0.945012\n",
      "2             9    0.944795\n",
      "3            10    0.944795\n",
      "4            11    0.944143\n",
      "5            12    0.945012\n",
      "6            13    0.944795\n",
      "7            14    0.944360\n",
      "8            15    0.945881\n"
     ]
    },
    {
     "data": {
      "text/plain": [
       "<matplotlib.axes._subplots.AxesSubplot at 0x112e98e10>"
      ]
     },
     "execution_count": 5,
     "metadata": {},
     "output_type": "execute_result"
    },
    {
     "data": {
      "image/png": "[encoded data removed]",
      "text/plain": [
       "<matplotlib.figure.Figure at 0x10d4b0e50>"
      ]
     },
     "metadata": {},
     "output_type": "display_data"
    }
   ],
   "source": [
    "# Zoom in to determine more precise number of features\n",
    "num_features = range(7,16)\n",
    "oob_score_RF = []\n",
    "for i in num_features:\n",
    "    rf = RandomForestClassifier(n_estimators=1000,max_features=i,min_samples_leaf=5,oob_score=True)\n",
    "    rf.fit(X,y)\n",
    "    oob_score_RF.append(rf.oob_score_)\n",
    "\n",
    "oob_score_df = pd.DataFrame({'num_features':num_features,'oob_scores':oob_score_RF})\n",
    "print oob_score_df\n",
    "oob_score_df.plot(x='num_features',y='oob_scores')"
   ]
  },
  {
   "cell_type": "markdown",
   "metadata": {},
   "source": [
    "##### Eight or ten appears to be the best number of features to use"
   ]
  },
  {
   "cell_type": "code",
   "execution_count": 6,
   "metadata": {
    "collapsed": false
   },
   "outputs": [
    {
     "name": "stdout",
     "output_type": "stream",
     "text": [
      "   num_trees  oob_scores\n",
      "0       1000    0.945447\n",
      "1       2000    0.944795\n",
      "2       5000    0.945012\n",
      "3      10000    0.945229\n"
     ]
    }
   ],
   "source": [
    "# Now tune for number of trees to use in random forest\n",
    "num_trees = [1000,2000,5000,10000]\n",
    "oob_score_RF = []\n",
    "for i in num_trees:\n",
    "    rf = RandomForestClassifier(n_estimators=i,max_features=10,min_samples_leaf=5,oob_score=True)\n",
    "    rf.fit(X,y)\n",
    "    oob_score_RF.append(rf.oob_score_)\n",
    "    \n",
    "oob_score_df = pd.DataFrame({'num_trees':num_trees,'oob_scores':oob_score_RF})\n",
    "print oob_score_df"
   ]
  },
  {
   "cell_type": "markdown",
   "metadata": {},
   "source": [
    "#### Minimal difference after 1000 trees"
   ]
  },
  {
   "cell_type": "code",
   "execution_count": 7,
   "metadata": {
    "collapsed": false
   },
   "outputs": [
    {
     "name": "stdout",
     "output_type": "stream",
     "text": [
      "   num_samples  oob_scores\n",
      "0            1    0.952619\n",
      "1            2    0.950880\n",
      "2            3    0.948489\n",
      "3            4    0.945012\n",
      "4            5    0.944795\n",
      "5            6    0.941534\n",
      "6            7    0.941317\n",
      "7            8    0.940882\n",
      "8            9    0.939578\n",
      "9           10    0.939144\n"
     ]
    },
    {
     "data": {
      "text/plain": [
       "<matplotlib.axes._subplots.AxesSubplot at 0x112c134d0>"
      ]
     },
     "execution_count": 7,
     "metadata": {},
     "output_type": "execute_result"
    },
    {
     "data": {
      "image/png": "[encoded data removed]",
      "text/plain": [
       "<matplotlib.figure.Figure at 0x10d4bf150>"
      ]
     },
     "metadata": {},
     "output_type": "display_data"
    }
   ],
   "source": [
    "# Lastly, tune for number of samples to include at terminal nodes in random forest\n",
    "num_samples = range(1,11)\n",
    "oob_score_RF = []\n",
    "for i in num_samples:\n",
    "    rf = RandomForestClassifier(n_estimators=1000,max_features=10,min_samples_leaf=i,oob_score=True)\n",
    "    rf.fit(X,y)\n",
    "    oob_score_RF.append(rf.oob_score_)\n",
    "    \n",
    "oob_score_df = pd.DataFrame({'num_samples':num_samples,'oob_scores':oob_score_RF})\n",
    "print oob_score_df\n",
    "oob_score_df.plot(x='num_samples',y='oob_scores')"
   ]
  },
  {
   "cell_type": "code",
   "execution_count": 8,
   "metadata": {
    "collapsed": false
   },
   "outputs": [
    {
     "name": "stdout",
     "output_type": "stream",
     "text": [
      "Misclassification error: 0.0465132509667\n"
     ]
    }
   ],
   "source": [
    "from sklearn import cross_validation\n",
    "rf = RandomForestClassifier(n_estimators=1000,max_features=10,min_samples_leaf=1,oob_score=True)\n",
    "kf = cross_validation.KFold(len(SpamData),n_folds = 10,shuffle = True) \n",
    "scores = []\n",
    "for train_index, test_index in kf:\n",
    "    rf.fit(X.iloc[train_index],y.iloc[train_index])\n",
    "    scores.append(rf.score(X.iloc[test_index],y.iloc[test_index]))\n",
    "print \"Misclassification error:\",1-np.mean(scores)"
   ]
  },
  {
   "cell_type": "markdown",
   "metadata": {},
   "source": [
    "#### Woohoo! Got 4.7% misclassification error!"
   ]
  },
  {
   "cell_type": "markdown",
   "metadata": {
    "collapsed": true
   },
   "source": [
    "### Method 2: Boosted Trees"
   ]
  },
  {
   "cell_type": "code",
   "execution_count": 9,
   "metadata": {
    "collapsed": false
   },
   "outputs": [
    {
     "name": "stdout",
     "output_type": "stream",
     "text": [
      "   depth    scores\n",
      "0      1  0.915451\n",
      "1      3  0.939580\n",
      "2      5  0.944359\n",
      "3      7  0.947405\n"
     ]
    },
    {
     "data": {
      "text/plain": [
       "<matplotlib.axes._subplots.AxesSubplot at 0x11b3f0a10>"
      ]
     },
     "execution_count": 9,
     "metadata": {},
     "output_type": "execute_result"
    },
    {
     "data": {
      "image/png": "[encoded data removed]",
      "text/plain": [
       "<matplotlib.figure.Figure at 0x112e98e90>"
      ]
     },
     "metadata": {},
     "output_type": "display_data"
    }
   ],
   "source": [
    "# Begin tuning boosted tree; start with depth parameter\n",
    "from sklearn.ensemble import GradientBoostingClassifier\n",
    "depth = [1,3,5,7]\n",
    "scores = []\n",
    "for i in depth:\n",
    "    gbc = GradientBoostingClassifier(learning_rate=0.01,n_estimators=500,max_depth=i,min_samples_leaf=5)\n",
    "    kf = cross_validation.KFold(len(SpamData),n_folds=10,shuffle = True) \n",
    "    cv_scores = []\n",
    "    for train_index, test_index in kf:\n",
    "        gbc.fit(X.iloc[train_index],y.iloc[train_index])\n",
    "        y_hat_test = gbc.predict(X.iloc[test_index])\n",
    "        cv_scores.append(float(sum(y_hat_test == y.iloc[test_index]))/len(y_hat_test))\n",
    "    scores.append(np.mean(cv_scores))\n",
    "\n",
    "depth_choice_df = pd.DataFrame({'depth':depth,'scores':scores})\n",
    "print depth_choice_df\n",
    "depth_choice_df.plot(x='depth',y='scores')"
   ]
  },
  {
   "cell_type": "markdown",
   "metadata": {},
   "source": [
    "#### Depth of three or five appears to be best"
   ]
  },
  {
   "cell_type": "code",
   "execution_count": 10,
   "metadata": {
    "collapsed": false
   },
   "outputs": [
    {
     "name": "stdout",
     "output_type": "stream",
     "text": [
      "   num_trees    scores\n",
      "0        100  0.927845\n",
      "1        500  0.945013\n",
      "2       1000  0.949574\n",
      "3       5000  0.956531\n",
      "4      10000  0.956965\n"
     ]
    },
    {
     "data": {
      "text/plain": [
       "<matplotlib.axes._subplots.AxesSubplot at 0x115783150>"
      ]
     },
     "execution_count": 10,
     "metadata": {},
     "output_type": "execute_result"
    },
    {
     "data": {
      "image/png": "[encoded data removed]",
      "text/plain": [
       "<matplotlib.figure.Figure at 0x10d4d6750>"
      ]
     },
     "metadata": {},
     "output_type": "display_data"
    }
   ],
   "source": [
    "num_trees = [100,500,1000,5000,10000]\n",
    "scores = []\n",
    "for i in num_trees:\n",
    "    gbc = GradientBoostingClassifier(learning_rate=0.01,n_estimators=i,max_depth=5,min_samples_leaf=5)\n",
    "    kf = cross_validation.KFold(len(SpamData),n_folds = 10,shuffle = True) \n",
    "    cv_scores = []\n",
    "    for train_index, test_index in kf:\n",
    "        gbc.fit(X.iloc[train_index],y.iloc[train_index])\n",
    "        y_hat_test = gbc.predict(X.iloc[test_index])\n",
    "        cv_scores.append(float(sum(y_hat_test == y.iloc[test_index]))/len(y_hat_test))\n",
    "    scores.append(np.mean(cv_scores))\n",
    "\n",
    "depth_choice_df = pd.DataFrame({'num_trees':num_trees,'scores':scores})\n",
    "print depth_choice_df\n",
    "depth_choice_df.plot(x='num_trees',y='scores')"
   ]
  },
  {
   "cell_type": "markdown",
   "metadata": {
    "collapsed": true
   },
   "source": [
    "#### Appears to level off after 1000 trees"
   ]
  },
  {
   "cell_type": "code",
   "execution_count": 12,
   "metadata": {
    "collapsed": false
   },
   "outputs": [
    {
     "name": "stdout",
     "output_type": "stream",
     "text": [
      "Misclassification error: 0.0475978496652\n"
     ]
    }
   ],
   "source": [
    "gbc = GradientBoostingClassifier(learning_rate=0.01,n_estimators=1000,max_depth=5,min_samples_leaf=1)\n",
    "kf = cross_validation.KFold(len(SpamData),n_folds=10,shuffle = True) \n",
    "cv_scores = []\n",
    "for train_index, test_index in kf:\n",
    "    gbc.fit(X.iloc[train_index],y.iloc[train_index])\n",
    "    y_hat_test = gbc.predict(X.iloc[test_index])\n",
    "    cv_scores.append(float(sum(y_hat_test == y.iloc[test_index]))/len(y_hat_test))\n",
    "print \"Misclassification error:\",1-np.mean(cv_scores)"
   ]
  },
  {
   "cell_type": "markdown",
   "metadata": {},
   "source": [
    "#### Got 4.7% misclassification error! Either method yields an improvement over logistic regression and approximately the same result."
   ]
  },
  {
   "cell_type": "code",
   "execution_count": null,
   "metadata": {
    "collapsed": true
   },
   "outputs": [],
   "source": []
  }
 ],
 "metadata": {
  "kernelspec": {
   "display_name": "Python 2",
   "language": "python",
   "name": "python2"
  },
  "language_info": {
   "codemirror_mode": {
    "name": "ipython",
    "version": 2
   },
   "file_extension": ".py",
   "mimetype": "text/x-python",
   "name": "python",
   "nbconvert_exporter": "python",
   "pygments_lexer": "ipython2",
   "version": "2.7.11"
  }
 },
 "nbformat": 4,
 "nbformat_minor": 0
}
