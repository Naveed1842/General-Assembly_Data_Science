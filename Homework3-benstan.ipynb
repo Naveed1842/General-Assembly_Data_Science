{
 "cells": [
  {
   "cell_type": "markdown",
   "metadata": {},
   "source": [
    "In this practice code, we are going to use Ozone dataset. Dictionary of this dataset can be found in https://stat.ethz.ch/R-manual/R-devel/library/datasets/html/airquality.html"
   ]
  },
  {
   "cell_type": "code",
   "execution_count": 1,
   "metadata": {
    "collapsed": true
   },
   "outputs": [],
   "source": [
    "import pandas as pd\n",
    "import numpy as np"
   ]
  },
  {
   "cell_type": "code",
   "execution_count": 2,
   "metadata": {
    "collapsed": true
   },
   "outputs": [],
   "source": [
    "url = \"https://raw.githubusercontent.com/ga-students/SF-DAT-20/master/Data/ozone.csv\"\n",
    "OzoneData = pd.read_csv(url)"
   ]
  },
  {
   "cell_type": "markdown",
   "metadata": {},
   "source": [
    "#### Explore the dataset and decide which variables suffer from missing data"
   ]
  },
  {
   "cell_type": "code",
   "execution_count": 3,
   "metadata": {
    "collapsed": false
   },
   "outputs": [
    {
     "name": "stdout",
     "output_type": "stream",
     "text": [
      "153\n",
      "Ozone      37\n",
      "Solar.R     7\n",
      "Wind        0\n",
      "Temp        0\n",
      "Month       0\n",
      "Day         0\n",
      "dtype: int64\n"
     ]
    },
    {
     "data": {
      "text/html": [
       "<div>\n",
       "<table border=\"1\" class=\"dataframe\">\n",
       "  <thead>\n",
       "    <tr style=\"text-align: right;\">\n",
       "      <th></th>\n",
       "      <th>Ozone</th>\n",
       "      <th>Solar.R</th>\n",
       "      <th>Wind</th>\n",
       "      <th>Temp</th>\n",
       "      <th>Month</th>\n",
       "      <th>Day</th>\n",
       "    </tr>\n",
       "  </thead>\n",
       "  <tbody>\n",
       "    <tr>\n",
       "      <th>count</th>\n",
       "      <td>116.000000</td>\n",
       "      <td>146.000000</td>\n",
       "      <td>153.000000</td>\n",
       "      <td>153.000000</td>\n",
       "      <td>153.000000</td>\n",
       "      <td>153.000000</td>\n",
       "    </tr>\n",
       "    <tr>\n",
       "      <th>mean</th>\n",
       "      <td>42.129310</td>\n",
       "      <td>185.931507</td>\n",
       "      <td>9.957516</td>\n",
       "      <td>77.882353</td>\n",
       "      <td>6.993464</td>\n",
       "      <td>15.803922</td>\n",
       "    </tr>\n",
       "    <tr>\n",
       "      <th>std</th>\n",
       "      <td>32.987885</td>\n",
       "      <td>90.058422</td>\n",
       "      <td>3.523001</td>\n",
       "      <td>9.465270</td>\n",
       "      <td>1.416522</td>\n",
       "      <td>8.864520</td>\n",
       "    </tr>\n",
       "    <tr>\n",
       "      <th>min</th>\n",
       "      <td>1.000000</td>\n",
       "      <td>7.000000</td>\n",
       "      <td>1.700000</td>\n",
       "      <td>56.000000</td>\n",
       "      <td>5.000000</td>\n",
       "      <td>1.000000</td>\n",
       "    </tr>\n",
       "    <tr>\n",
       "      <th>25%</th>\n",
       "      <td>18.000000</td>\n",
       "      <td>115.750000</td>\n",
       "      <td>7.400000</td>\n",
       "      <td>72.000000</td>\n",
       "      <td>6.000000</td>\n",
       "      <td>8.000000</td>\n",
       "    </tr>\n",
       "    <tr>\n",
       "      <th>50%</th>\n",
       "      <td>31.500000</td>\n",
       "      <td>205.000000</td>\n",
       "      <td>9.700000</td>\n",
       "      <td>79.000000</td>\n",
       "      <td>7.000000</td>\n",
       "      <td>16.000000</td>\n",
       "    </tr>\n",
       "    <tr>\n",
       "      <th>75%</th>\n",
       "      <td>63.250000</td>\n",
       "      <td>258.750000</td>\n",
       "      <td>11.500000</td>\n",
       "      <td>85.000000</td>\n",
       "      <td>8.000000</td>\n",
       "      <td>23.000000</td>\n",
       "    </tr>\n",
       "    <tr>\n",
       "      <th>max</th>\n",
       "      <td>168.000000</td>\n",
       "      <td>334.000000</td>\n",
       "      <td>20.700000</td>\n",
       "      <td>97.000000</td>\n",
       "      <td>9.000000</td>\n",
       "      <td>31.000000</td>\n",
       "    </tr>\n",
       "  </tbody>\n",
       "</table>\n",
       "</div>"
      ],
      "text/plain": [
       "            Ozone     Solar.R        Wind        Temp       Month         Day\n",
       "count  116.000000  146.000000  153.000000  153.000000  153.000000  153.000000\n",
       "mean    42.129310  185.931507    9.957516   77.882353    6.993464   15.803922\n",
       "std     32.987885   90.058422    3.523001    9.465270    1.416522    8.864520\n",
       "min      1.000000    7.000000    1.700000   56.000000    5.000000    1.000000\n",
       "25%     18.000000  115.750000    7.400000   72.000000    6.000000    8.000000\n",
       "50%     31.500000  205.000000    9.700000   79.000000    7.000000   16.000000\n",
       "75%     63.250000  258.750000   11.500000   85.000000    8.000000   23.000000\n",
       "max    168.000000  334.000000   20.700000   97.000000    9.000000   31.000000"
      ]
     },
     "execution_count": 3,
     "metadata": {},
     "output_type": "execute_result"
    }
   ],
   "source": [
    "print len(OzoneData)\n",
    "print OzoneData.isnull().sum()\n",
    "OzoneData.describe()"
   ]
  },
  {
   "cell_type": "markdown",
   "metadata": {},
   "source": [
    "Answer: Two columns, Ozone and Solar.R, have missing values"
   ]
  },
  {
   "cell_type": "markdown",
   "metadata": {},
   "source": [
    "#### Let's drop rows that have missing values in all the columns you indentified above\n",
    "\n",
    "Hint: in dropna() if you set how = 'all', it will only drop columns that are suffering from missing values at all variables you introduce in subset. If you want to get rid of the row that contains missing values in any of the variables you specify, then you shall set how = 'any'\n",
    "\n",
    "df.dropna(how = 'all',subset = ['Var1','Var2','Var3'],inplace = True)\n",
    "\n",
    "The above code will check if all 3 variables specified in df have missing values, if they all have missing values it will drop that row."
   ]
  },
  {
   "cell_type": "code",
   "execution_count": 4,
   "metadata": {
    "collapsed": false
   },
   "outputs": [],
   "source": [
    "OzoneData.dropna(how='all',subset=['Ozone','Solar.R'],inplace=True)"
   ]
  },
  {
   "cell_type": "code",
   "execution_count": 5,
   "metadata": {
    "collapsed": false
   },
   "outputs": [
    {
     "data": {
      "text/plain": [
       "151"
      ]
     },
     "execution_count": 5,
     "metadata": {},
     "output_type": "execute_result"
    }
   ],
   "source": [
    "len(OzoneData)"
   ]
  },
  {
   "cell_type": "markdown",
   "metadata": {},
   "source": [
    "#### Spoiler! If everything is going according to plan you should have 151 observations remaining. Also, it seemed like the first two variables had missing values. Now please make a copy of your dataframe into a dataframe named OzoneImputeMean. Also, please use mean of the variables to fill in missing values in OzoneImputeMean\n",
    "\n",
    "#### Note: When using dummy variables in a model and considering p-values, either keep or remove all dummy variables (do not partially remove dummy vars)"
   ]
  },
  {
   "cell_type": "code",
   "execution_count": 6,
   "metadata": {
    "collapsed": false
   },
   "outputs": [],
   "source": [
    "OzoneImputeMean = OzoneData.copy()"
   ]
  },
  {
   "cell_type": "code",
   "execution_count": 7,
   "metadata": {
    "collapsed": false
   },
   "outputs": [
    {
     "data": {
      "text/plain": [
       "Ozone       42.129310\n",
       "Solar.R    185.931507\n",
       "Wind         9.941722\n",
       "Temp        78.165563\n",
       "Month        7.019868\n",
       "Day         15.801325\n",
       "dtype: float64"
      ]
     },
     "execution_count": 7,
     "metadata": {},
     "output_type": "execute_result"
    }
   ],
   "source": [
    "OzoneImputeMean.mean()"
   ]
  },
  {
   "cell_type": "code",
   "execution_count": 8,
   "metadata": {
    "collapsed": false,
    "scrolled": true
   },
   "outputs": [
    {
     "data": {
      "text/html": [
       "<div>\n",
       "<table border=\"1\" class=\"dataframe\">\n",
       "  <thead>\n",
       "    <tr style=\"text-align: right;\">\n",
       "      <th></th>\n",
       "      <th>Ozone</th>\n",
       "      <th>Solar.R</th>\n",
       "      <th>Wind</th>\n",
       "      <th>Temp</th>\n",
       "      <th>Month</th>\n",
       "      <th>Day</th>\n",
       "    </tr>\n",
       "  </thead>\n",
       "  <tbody>\n",
       "    <tr>\n",
       "      <th>0</th>\n",
       "      <td>41.00000</td>\n",
       "      <td>190.000000</td>\n",
       "      <td>7.4</td>\n",
       "      <td>67</td>\n",
       "      <td>5</td>\n",
       "      <td>1</td>\n",
       "    </tr>\n",
       "    <tr>\n",
       "      <th>1</th>\n",
       "      <td>36.00000</td>\n",
       "      <td>118.000000</td>\n",
       "      <td>8.0</td>\n",
       "      <td>72</td>\n",
       "      <td>5</td>\n",
       "      <td>2</td>\n",
       "    </tr>\n",
       "    <tr>\n",
       "      <th>2</th>\n",
       "      <td>12.00000</td>\n",
       "      <td>149.000000</td>\n",
       "      <td>12.6</td>\n",
       "      <td>74</td>\n",
       "      <td>5</td>\n",
       "      <td>3</td>\n",
       "    </tr>\n",
       "    <tr>\n",
       "      <th>3</th>\n",
       "      <td>18.00000</td>\n",
       "      <td>313.000000</td>\n",
       "      <td>11.5</td>\n",
       "      <td>62</td>\n",
       "      <td>5</td>\n",
       "      <td>4</td>\n",
       "    </tr>\n",
       "    <tr>\n",
       "      <th>5</th>\n",
       "      <td>28.00000</td>\n",
       "      <td>185.931507</td>\n",
       "      <td>14.9</td>\n",
       "      <td>66</td>\n",
       "      <td>5</td>\n",
       "      <td>6</td>\n",
       "    </tr>\n",
       "    <tr>\n",
       "      <th>6</th>\n",
       "      <td>23.00000</td>\n",
       "      <td>299.000000</td>\n",
       "      <td>8.6</td>\n",
       "      <td>65</td>\n",
       "      <td>5</td>\n",
       "      <td>7</td>\n",
       "    </tr>\n",
       "    <tr>\n",
       "      <th>7</th>\n",
       "      <td>19.00000</td>\n",
       "      <td>99.000000</td>\n",
       "      <td>13.8</td>\n",
       "      <td>59</td>\n",
       "      <td>5</td>\n",
       "      <td>8</td>\n",
       "    </tr>\n",
       "    <tr>\n",
       "      <th>8</th>\n",
       "      <td>8.00000</td>\n",
       "      <td>19.000000</td>\n",
       "      <td>20.1</td>\n",
       "      <td>61</td>\n",
       "      <td>5</td>\n",
       "      <td>9</td>\n",
       "    </tr>\n",
       "    <tr>\n",
       "      <th>9</th>\n",
       "      <td>42.12931</td>\n",
       "      <td>194.000000</td>\n",
       "      <td>8.6</td>\n",
       "      <td>69</td>\n",
       "      <td>5</td>\n",
       "      <td>10</td>\n",
       "    </tr>\n",
       "    <tr>\n",
       "      <th>10</th>\n",
       "      <td>7.00000</td>\n",
       "      <td>185.931507</td>\n",
       "      <td>6.9</td>\n",
       "      <td>74</td>\n",
       "      <td>5</td>\n",
       "      <td>11</td>\n",
       "    </tr>\n",
       "    <tr>\n",
       "      <th>11</th>\n",
       "      <td>16.00000</td>\n",
       "      <td>256.000000</td>\n",
       "      <td>9.7</td>\n",
       "      <td>69</td>\n",
       "      <td>5</td>\n",
       "      <td>12</td>\n",
       "    </tr>\n",
       "    <tr>\n",
       "      <th>12</th>\n",
       "      <td>11.00000</td>\n",
       "      <td>290.000000</td>\n",
       "      <td>9.2</td>\n",
       "      <td>66</td>\n",
       "      <td>5</td>\n",
       "      <td>13</td>\n",
       "    </tr>\n",
       "    <tr>\n",
       "      <th>13</th>\n",
       "      <td>14.00000</td>\n",
       "      <td>274.000000</td>\n",
       "      <td>10.9</td>\n",
       "      <td>68</td>\n",
       "      <td>5</td>\n",
       "      <td>14</td>\n",
       "    </tr>\n",
       "    <tr>\n",
       "      <th>14</th>\n",
       "      <td>18.00000</td>\n",
       "      <td>65.000000</td>\n",
       "      <td>13.2</td>\n",
       "      <td>58</td>\n",
       "      <td>5</td>\n",
       "      <td>15</td>\n",
       "    </tr>\n",
       "    <tr>\n",
       "      <th>15</th>\n",
       "      <td>14.00000</td>\n",
       "      <td>334.000000</td>\n",
       "      <td>11.5</td>\n",
       "      <td>64</td>\n",
       "      <td>5</td>\n",
       "      <td>16</td>\n",
       "    </tr>\n",
       "    <tr>\n",
       "      <th>16</th>\n",
       "      <td>34.00000</td>\n",
       "      <td>307.000000</td>\n",
       "      <td>12.0</td>\n",
       "      <td>66</td>\n",
       "      <td>5</td>\n",
       "      <td>17</td>\n",
       "    </tr>\n",
       "    <tr>\n",
       "      <th>17</th>\n",
       "      <td>6.00000</td>\n",
       "      <td>78.000000</td>\n",
       "      <td>18.4</td>\n",
       "      <td>57</td>\n",
       "      <td>5</td>\n",
       "      <td>18</td>\n",
       "    </tr>\n",
       "    <tr>\n",
       "      <th>18</th>\n",
       "      <td>30.00000</td>\n",
       "      <td>322.000000</td>\n",
       "      <td>11.5</td>\n",
       "      <td>68</td>\n",
       "      <td>5</td>\n",
       "      <td>19</td>\n",
       "    </tr>\n",
       "    <tr>\n",
       "      <th>19</th>\n",
       "      <td>11.00000</td>\n",
       "      <td>44.000000</td>\n",
       "      <td>9.7</td>\n",
       "      <td>62</td>\n",
       "      <td>5</td>\n",
       "      <td>20</td>\n",
       "    </tr>\n",
       "    <tr>\n",
       "      <th>20</th>\n",
       "      <td>1.00000</td>\n",
       "      <td>8.000000</td>\n",
       "      <td>9.7</td>\n",
       "      <td>59</td>\n",
       "      <td>5</td>\n",
       "      <td>21</td>\n",
       "    </tr>\n",
       "    <tr>\n",
       "      <th>21</th>\n",
       "      <td>11.00000</td>\n",
       "      <td>320.000000</td>\n",
       "      <td>16.6</td>\n",
       "      <td>73</td>\n",
       "      <td>5</td>\n",
       "      <td>22</td>\n",
       "    </tr>\n",
       "    <tr>\n",
       "      <th>22</th>\n",
       "      <td>4.00000</td>\n",
       "      <td>25.000000</td>\n",
       "      <td>9.7</td>\n",
       "      <td>61</td>\n",
       "      <td>5</td>\n",
       "      <td>23</td>\n",
       "    </tr>\n",
       "    <tr>\n",
       "      <th>23</th>\n",
       "      <td>32.00000</td>\n",
       "      <td>92.000000</td>\n",
       "      <td>12.0</td>\n",
       "      <td>61</td>\n",
       "      <td>5</td>\n",
       "      <td>24</td>\n",
       "    </tr>\n",
       "    <tr>\n",
       "      <th>24</th>\n",
       "      <td>42.12931</td>\n",
       "      <td>66.000000</td>\n",
       "      <td>16.6</td>\n",
       "      <td>57</td>\n",
       "      <td>5</td>\n",
       "      <td>25</td>\n",
       "    </tr>\n",
       "    <tr>\n",
       "      <th>25</th>\n",
       "      <td>42.12931</td>\n",
       "      <td>266.000000</td>\n",
       "      <td>14.9</td>\n",
       "      <td>58</td>\n",
       "      <td>5</td>\n",
       "      <td>26</td>\n",
       "    </tr>\n",
       "    <tr>\n",
       "      <th>27</th>\n",
       "      <td>23.00000</td>\n",
       "      <td>13.000000</td>\n",
       "      <td>12.0</td>\n",
       "      <td>67</td>\n",
       "      <td>5</td>\n",
       "      <td>28</td>\n",
       "    </tr>\n",
       "    <tr>\n",
       "      <th>28</th>\n",
       "      <td>45.00000</td>\n",
       "      <td>252.000000</td>\n",
       "      <td>14.9</td>\n",
       "      <td>81</td>\n",
       "      <td>5</td>\n",
       "      <td>29</td>\n",
       "    </tr>\n",
       "    <tr>\n",
       "      <th>29</th>\n",
       "      <td>115.00000</td>\n",
       "      <td>223.000000</td>\n",
       "      <td>5.7</td>\n",
       "      <td>79</td>\n",
       "      <td>5</td>\n",
       "      <td>30</td>\n",
       "    </tr>\n",
       "    <tr>\n",
       "      <th>30</th>\n",
       "      <td>37.00000</td>\n",
       "      <td>279.000000</td>\n",
       "      <td>7.4</td>\n",
       "      <td>76</td>\n",
       "      <td>5</td>\n",
       "      <td>31</td>\n",
       "    </tr>\n",
       "    <tr>\n",
       "      <th>31</th>\n",
       "      <td>42.12931</td>\n",
       "      <td>286.000000</td>\n",
       "      <td>8.6</td>\n",
       "      <td>78</td>\n",
       "      <td>6</td>\n",
       "      <td>1</td>\n",
       "    </tr>\n",
       "    <tr>\n",
       "      <th>...</th>\n",
       "      <td>...</td>\n",
       "      <td>...</td>\n",
       "      <td>...</td>\n",
       "      <td>...</td>\n",
       "      <td>...</td>\n",
       "      <td>...</td>\n",
       "    </tr>\n",
       "    <tr>\n",
       "      <th>123</th>\n",
       "      <td>96.00000</td>\n",
       "      <td>167.000000</td>\n",
       "      <td>6.9</td>\n",
       "      <td>91</td>\n",
       "      <td>9</td>\n",
       "      <td>1</td>\n",
       "    </tr>\n",
       "    <tr>\n",
       "      <th>124</th>\n",
       "      <td>78.00000</td>\n",
       "      <td>197.000000</td>\n",
       "      <td>5.1</td>\n",
       "      <td>92</td>\n",
       "      <td>9</td>\n",
       "      <td>2</td>\n",
       "    </tr>\n",
       "    <tr>\n",
       "      <th>125</th>\n",
       "      <td>73.00000</td>\n",
       "      <td>183.000000</td>\n",
       "      <td>2.8</td>\n",
       "      <td>93</td>\n",
       "      <td>9</td>\n",
       "      <td>3</td>\n",
       "    </tr>\n",
       "    <tr>\n",
       "      <th>126</th>\n",
       "      <td>91.00000</td>\n",
       "      <td>189.000000</td>\n",
       "      <td>4.6</td>\n",
       "      <td>93</td>\n",
       "      <td>9</td>\n",
       "      <td>4</td>\n",
       "    </tr>\n",
       "    <tr>\n",
       "      <th>127</th>\n",
       "      <td>47.00000</td>\n",
       "      <td>95.000000</td>\n",
       "      <td>7.4</td>\n",
       "      <td>87</td>\n",
       "      <td>9</td>\n",
       "      <td>5</td>\n",
       "    </tr>\n",
       "    <tr>\n",
       "      <th>128</th>\n",
       "      <td>32.00000</td>\n",
       "      <td>92.000000</td>\n",
       "      <td>15.5</td>\n",
       "      <td>84</td>\n",
       "      <td>9</td>\n",
       "      <td>6</td>\n",
       "    </tr>\n",
       "    <tr>\n",
       "      <th>129</th>\n",
       "      <td>20.00000</td>\n",
       "      <td>252.000000</td>\n",
       "      <td>10.9</td>\n",
       "      <td>80</td>\n",
       "      <td>9</td>\n",
       "      <td>7</td>\n",
       "    </tr>\n",
       "    <tr>\n",
       "      <th>130</th>\n",
       "      <td>23.00000</td>\n",
       "      <td>220.000000</td>\n",
       "      <td>10.3</td>\n",
       "      <td>78</td>\n",
       "      <td>9</td>\n",
       "      <td>8</td>\n",
       "    </tr>\n",
       "    <tr>\n",
       "      <th>131</th>\n",
       "      <td>21.00000</td>\n",
       "      <td>230.000000</td>\n",
       "      <td>10.9</td>\n",
       "      <td>75</td>\n",
       "      <td>9</td>\n",
       "      <td>9</td>\n",
       "    </tr>\n",
       "    <tr>\n",
       "      <th>132</th>\n",
       "      <td>24.00000</td>\n",
       "      <td>259.000000</td>\n",
       "      <td>9.7</td>\n",
       "      <td>73</td>\n",
       "      <td>9</td>\n",
       "      <td>10</td>\n",
       "    </tr>\n",
       "    <tr>\n",
       "      <th>133</th>\n",
       "      <td>44.00000</td>\n",
       "      <td>236.000000</td>\n",
       "      <td>14.9</td>\n",
       "      <td>81</td>\n",
       "      <td>9</td>\n",
       "      <td>11</td>\n",
       "    </tr>\n",
       "    <tr>\n",
       "      <th>134</th>\n",
       "      <td>21.00000</td>\n",
       "      <td>259.000000</td>\n",
       "      <td>15.5</td>\n",
       "      <td>76</td>\n",
       "      <td>9</td>\n",
       "      <td>12</td>\n",
       "    </tr>\n",
       "    <tr>\n",
       "      <th>135</th>\n",
       "      <td>28.00000</td>\n",
       "      <td>238.000000</td>\n",
       "      <td>6.3</td>\n",
       "      <td>77</td>\n",
       "      <td>9</td>\n",
       "      <td>13</td>\n",
       "    </tr>\n",
       "    <tr>\n",
       "      <th>136</th>\n",
       "      <td>9.00000</td>\n",
       "      <td>24.000000</td>\n",
       "      <td>10.9</td>\n",
       "      <td>71</td>\n",
       "      <td>9</td>\n",
       "      <td>14</td>\n",
       "    </tr>\n",
       "    <tr>\n",
       "      <th>137</th>\n",
       "      <td>13.00000</td>\n",
       "      <td>112.000000</td>\n",
       "      <td>11.5</td>\n",
       "      <td>71</td>\n",
       "      <td>9</td>\n",
       "      <td>15</td>\n",
       "    </tr>\n",
       "    <tr>\n",
       "      <th>138</th>\n",
       "      <td>46.00000</td>\n",
       "      <td>237.000000</td>\n",
       "      <td>6.9</td>\n",
       "      <td>78</td>\n",
       "      <td>9</td>\n",
       "      <td>16</td>\n",
       "    </tr>\n",
       "    <tr>\n",
       "      <th>139</th>\n",
       "      <td>18.00000</td>\n",
       "      <td>224.000000</td>\n",
       "      <td>13.8</td>\n",
       "      <td>67</td>\n",
       "      <td>9</td>\n",
       "      <td>17</td>\n",
       "    </tr>\n",
       "    <tr>\n",
       "      <th>140</th>\n",
       "      <td>13.00000</td>\n",
       "      <td>27.000000</td>\n",
       "      <td>10.3</td>\n",
       "      <td>76</td>\n",
       "      <td>9</td>\n",
       "      <td>18</td>\n",
       "    </tr>\n",
       "    <tr>\n",
       "      <th>141</th>\n",
       "      <td>24.00000</td>\n",
       "      <td>238.000000</td>\n",
       "      <td>10.3</td>\n",
       "      <td>68</td>\n",
       "      <td>9</td>\n",
       "      <td>19</td>\n",
       "    </tr>\n",
       "    <tr>\n",
       "      <th>142</th>\n",
       "      <td>16.00000</td>\n",
       "      <td>201.000000</td>\n",
       "      <td>8.0</td>\n",
       "      <td>82</td>\n",
       "      <td>9</td>\n",
       "      <td>20</td>\n",
       "    </tr>\n",
       "    <tr>\n",
       "      <th>143</th>\n",
       "      <td>13.00000</td>\n",
       "      <td>238.000000</td>\n",
       "      <td>12.6</td>\n",
       "      <td>64</td>\n",
       "      <td>9</td>\n",
       "      <td>21</td>\n",
       "    </tr>\n",
       "    <tr>\n",
       "      <th>144</th>\n",
       "      <td>23.00000</td>\n",
       "      <td>14.000000</td>\n",
       "      <td>9.2</td>\n",
       "      <td>71</td>\n",
       "      <td>9</td>\n",
       "      <td>22</td>\n",
       "    </tr>\n",
       "    <tr>\n",
       "      <th>145</th>\n",
       "      <td>36.00000</td>\n",
       "      <td>139.000000</td>\n",
       "      <td>10.3</td>\n",
       "      <td>81</td>\n",
       "      <td>9</td>\n",
       "      <td>23</td>\n",
       "    </tr>\n",
       "    <tr>\n",
       "      <th>146</th>\n",
       "      <td>7.00000</td>\n",
       "      <td>49.000000</td>\n",
       "      <td>10.3</td>\n",
       "      <td>69</td>\n",
       "      <td>9</td>\n",
       "      <td>24</td>\n",
       "    </tr>\n",
       "    <tr>\n",
       "      <th>147</th>\n",
       "      <td>14.00000</td>\n",
       "      <td>20.000000</td>\n",
       "      <td>16.6</td>\n",
       "      <td>63</td>\n",
       "      <td>9</td>\n",
       "      <td>25</td>\n",
       "    </tr>\n",
       "    <tr>\n",
       "      <th>148</th>\n",
       "      <td>30.00000</td>\n",
       "      <td>193.000000</td>\n",
       "      <td>6.9</td>\n",
       "      <td>70</td>\n",
       "      <td>9</td>\n",
       "      <td>26</td>\n",
       "    </tr>\n",
       "    <tr>\n",
       "      <th>149</th>\n",
       "      <td>42.12931</td>\n",
       "      <td>145.000000</td>\n",
       "      <td>13.2</td>\n",
       "      <td>77</td>\n",
       "      <td>9</td>\n",
       "      <td>27</td>\n",
       "    </tr>\n",
       "    <tr>\n",
       "      <th>150</th>\n",
       "      <td>14.00000</td>\n",
       "      <td>191.000000</td>\n",
       "      <td>14.3</td>\n",
       "      <td>75</td>\n",
       "      <td>9</td>\n",
       "      <td>28</td>\n",
       "    </tr>\n",
       "    <tr>\n",
       "      <th>151</th>\n",
       "      <td>18.00000</td>\n",
       "      <td>131.000000</td>\n",
       "      <td>8.0</td>\n",
       "      <td>76</td>\n",
       "      <td>9</td>\n",
       "      <td>29</td>\n",
       "    </tr>\n",
       "    <tr>\n",
       "      <th>152</th>\n",
       "      <td>20.00000</td>\n",
       "      <td>223.000000</td>\n",
       "      <td>11.5</td>\n",
       "      <td>68</td>\n",
       "      <td>9</td>\n",
       "      <td>30</td>\n",
       "    </tr>\n",
       "  </tbody>\n",
       "</table>\n",
       "<p>151 rows × 6 columns</p>\n",
       "</div>"
      ],
      "text/plain": [
       "         Ozone     Solar.R  Wind  Temp  Month  Day\n",
       "0     41.00000  190.000000   7.4    67      5    1\n",
       "1     36.00000  118.000000   8.0    72      5    2\n",
       "2     12.00000  149.000000  12.6    74      5    3\n",
       "3     18.00000  313.000000  11.5    62      5    4\n",
       "5     28.00000  185.931507  14.9    66      5    6\n",
       "6     23.00000  299.000000   8.6    65      5    7\n",
       "7     19.00000   99.000000  13.8    59      5    8\n",
       "8      8.00000   19.000000  20.1    61      5    9\n",
       "9     42.12931  194.000000   8.6    69      5   10\n",
       "10     7.00000  185.931507   6.9    74      5   11\n",
       "11    16.00000  256.000000   9.7    69      5   12\n",
       "12    11.00000  290.000000   9.2    66      5   13\n",
       "13    14.00000  274.000000  10.9    68      5   14\n",
       "14    18.00000   65.000000  13.2    58      5   15\n",
       "15    14.00000  334.000000  11.5    64      5   16\n",
       "16    34.00000  307.000000  12.0    66      5   17\n",
       "17     6.00000   78.000000  18.4    57      5   18\n",
       "18    30.00000  322.000000  11.5    68      5   19\n",
       "19    11.00000   44.000000   9.7    62      5   20\n",
       "20     1.00000    8.000000   9.7    59      5   21\n",
       "21    11.00000  320.000000  16.6    73      5   22\n",
       "22     4.00000   25.000000   9.7    61      5   23\n",
       "23    32.00000   92.000000  12.0    61      5   24\n",
       "24    42.12931   66.000000  16.6    57      5   25\n",
       "25    42.12931  266.000000  14.9    58      5   26\n",
       "27    23.00000   13.000000  12.0    67      5   28\n",
       "28    45.00000  252.000000  14.9    81      5   29\n",
       "29   115.00000  223.000000   5.7    79      5   30\n",
       "30    37.00000  279.000000   7.4    76      5   31\n",
       "31    42.12931  286.000000   8.6    78      6    1\n",
       "..         ...         ...   ...   ...    ...  ...\n",
       "123   96.00000  167.000000   6.9    91      9    1\n",
       "124   78.00000  197.000000   5.1    92      9    2\n",
       "125   73.00000  183.000000   2.8    93      9    3\n",
       "126   91.00000  189.000000   4.6    93      9    4\n",
       "127   47.00000   95.000000   7.4    87      9    5\n",
       "128   32.00000   92.000000  15.5    84      9    6\n",
       "129   20.00000  252.000000  10.9    80      9    7\n",
       "130   23.00000  220.000000  10.3    78      9    8\n",
       "131   21.00000  230.000000  10.9    75      9    9\n",
       "132   24.00000  259.000000   9.7    73      9   10\n",
       "133   44.00000  236.000000  14.9    81      9   11\n",
       "134   21.00000  259.000000  15.5    76      9   12\n",
       "135   28.00000  238.000000   6.3    77      9   13\n",
       "136    9.00000   24.000000  10.9    71      9   14\n",
       "137   13.00000  112.000000  11.5    71      9   15\n",
       "138   46.00000  237.000000   6.9    78      9   16\n",
       "139   18.00000  224.000000  13.8    67      9   17\n",
       "140   13.00000   27.000000  10.3    76      9   18\n",
       "141   24.00000  238.000000  10.3    68      9   19\n",
       "142   16.00000  201.000000   8.0    82      9   20\n",
       "143   13.00000  238.000000  12.6    64      9   21\n",
       "144   23.00000   14.000000   9.2    71      9   22\n",
       "145   36.00000  139.000000  10.3    81      9   23\n",
       "146    7.00000   49.000000  10.3    69      9   24\n",
       "147   14.00000   20.000000  16.6    63      9   25\n",
       "148   30.00000  193.000000   6.9    70      9   26\n",
       "149   42.12931  145.000000  13.2    77      9   27\n",
       "150   14.00000  191.000000  14.3    75      9   28\n",
       "151   18.00000  131.000000   8.0    76      9   29\n",
       "152   20.00000  223.000000  11.5    68      9   30\n",
       "\n",
       "[151 rows x 6 columns]"
      ]
     },
     "execution_count": 8,
     "metadata": {},
     "output_type": "execute_result"
    }
   ],
   "source": [
    "OzoneImputeMean.fillna(OzoneImputeMean.mean(),inplace=True)"
   ]
  },
  {
   "cell_type": "code",
   "execution_count": 9,
   "metadata": {
    "collapsed": false
   },
   "outputs": [
    {
     "name": "stdout",
     "output_type": "stream",
     "text": [
      "Ozone      0\n",
      "Solar.R    0\n",
      "Wind       0\n",
      "Temp       0\n",
      "Month      0\n",
      "Day        0\n",
      "dtype: int64\n"
     ]
    }
   ],
   "source": [
    "#Check if missing values are filled\n",
    "print OzoneImputeMean.isnull().sum()"
   ]
  },
  {
   "cell_type": "markdown",
   "metadata": {},
   "source": [
    "#### Now it's time for imputing using linear regression lines"
   ]
  },
  {
   "cell_type": "code",
   "execution_count": 10,
   "metadata": {
    "collapsed": false
   },
   "outputs": [
    {
     "data": {
      "text/html": [
       "<div>\n",
       "<table border=\"1\" class=\"dataframe\">\n",
       "  <thead>\n",
       "    <tr style=\"text-align: right;\">\n",
       "      <th></th>\n",
       "      <th>Ozone</th>\n",
       "      <th>Solar.R</th>\n",
       "      <th>Wind</th>\n",
       "      <th>Temp</th>\n",
       "      <th>Month</th>\n",
       "      <th>Day</th>\n",
       "      <th>Month_5</th>\n",
       "      <th>Month_6</th>\n",
       "      <th>Month_7</th>\n",
       "      <th>Month_8</th>\n",
       "    </tr>\n",
       "  </thead>\n",
       "  <tbody>\n",
       "    <tr>\n",
       "      <th>0</th>\n",
       "      <td>41</td>\n",
       "      <td>190</td>\n",
       "      <td>7.4</td>\n",
       "      <td>67</td>\n",
       "      <td>5</td>\n",
       "      <td>1</td>\n",
       "      <td>1</td>\n",
       "      <td>0</td>\n",
       "      <td>0</td>\n",
       "      <td>0</td>\n",
       "    </tr>\n",
       "    <tr>\n",
       "      <th>1</th>\n",
       "      <td>36</td>\n",
       "      <td>118</td>\n",
       "      <td>8.0</td>\n",
       "      <td>72</td>\n",
       "      <td>5</td>\n",
       "      <td>2</td>\n",
       "      <td>1</td>\n",
       "      <td>0</td>\n",
       "      <td>0</td>\n",
       "      <td>0</td>\n",
       "    </tr>\n",
       "    <tr>\n",
       "      <th>2</th>\n",
       "      <td>12</td>\n",
       "      <td>149</td>\n",
       "      <td>12.6</td>\n",
       "      <td>74</td>\n",
       "      <td>5</td>\n",
       "      <td>3</td>\n",
       "      <td>1</td>\n",
       "      <td>0</td>\n",
       "      <td>0</td>\n",
       "      <td>0</td>\n",
       "    </tr>\n",
       "    <tr>\n",
       "      <th>3</th>\n",
       "      <td>18</td>\n",
       "      <td>313</td>\n",
       "      <td>11.5</td>\n",
       "      <td>62</td>\n",
       "      <td>5</td>\n",
       "      <td>4</td>\n",
       "      <td>1</td>\n",
       "      <td>0</td>\n",
       "      <td>0</td>\n",
       "      <td>0</td>\n",
       "    </tr>\n",
       "    <tr>\n",
       "      <th>5</th>\n",
       "      <td>28</td>\n",
       "      <td>NaN</td>\n",
       "      <td>14.9</td>\n",
       "      <td>66</td>\n",
       "      <td>5</td>\n",
       "      <td>6</td>\n",
       "      <td>1</td>\n",
       "      <td>0</td>\n",
       "      <td>0</td>\n",
       "      <td>0</td>\n",
       "    </tr>\n",
       "  </tbody>\n",
       "</table>\n",
       "</div>"
      ],
      "text/plain": [
       "   Ozone  Solar.R  Wind  Temp  Month  Day  Month_5  Month_6  Month_7  Month_8\n",
       "0     41      190   7.4    67      5    1        1        0        0        0\n",
       "1     36      118   8.0    72      5    2        1        0        0        0\n",
       "2     12      149  12.6    74      5    3        1        0        0        0\n",
       "3     18      313  11.5    62      5    4        1        0        0        0\n",
       "5     28      NaN  14.9    66      5    6        1        0        0        0"
      ]
     },
     "execution_count": 10,
     "metadata": {},
     "output_type": "execute_result"
    }
   ],
   "source": [
    "#### Before we start let's define dummy variables for variable Month - don't worry about day!\n",
    "MonthDummy = pd.get_dummies(OzoneData.Month, prefix = 'Month')\n",
    "del MonthDummy['Month_9']\n",
    "OzoneData = pd.concat([OzoneData, MonthDummy], axis=1)\n",
    "OzoneData.head()"
   ]
  },
  {
   "cell_type": "code",
   "execution_count": 11,
   "metadata": {
    "collapsed": false
   },
   "outputs": [
    {
     "data": {
      "text/html": [
       "<div>\n",
       "<table border=\"1\" class=\"dataframe\">\n",
       "  <thead>\n",
       "    <tr style=\"text-align: right;\">\n",
       "      <th></th>\n",
       "      <th>Ozone</th>\n",
       "      <th>Solar.R</th>\n",
       "      <th>Wind</th>\n",
       "      <th>Temp</th>\n",
       "      <th>Month</th>\n",
       "      <th>Day</th>\n",
       "      <th>Month_5</th>\n",
       "      <th>Month_6</th>\n",
       "      <th>Month_7</th>\n",
       "      <th>Month_8</th>\n",
       "    </tr>\n",
       "  </thead>\n",
       "  <tbody>\n",
       "    <tr>\n",
       "      <th>Ozone</th>\n",
       "      <td>1.000000</td>\n",
       "      <td>0.348342</td>\n",
       "      <td>-0.601547</td>\n",
       "      <td>0.698360</td>\n",
       "      <td>0.164519</td>\n",
       "      <td>-0.013226</td>\n",
       "      <td>-0.302963</td>\n",
       "      <td>-0.112006</td>\n",
       "      <td>0.277961</td>\n",
       "      <td>0.291808</td>\n",
       "    </tr>\n",
       "    <tr>\n",
       "      <th>Solar.R</th>\n",
       "      <td>0.348342</td>\n",
       "      <td>1.000000</td>\n",
       "      <td>-0.056792</td>\n",
       "      <td>0.275840</td>\n",
       "      <td>-0.075301</td>\n",
       "      <td>-0.150275</td>\n",
       "      <td>-0.024601</td>\n",
       "      <td>0.023998</td>\n",
       "      <td>0.176744</td>\n",
       "      <td>-0.076390</td>\n",
       "    </tr>\n",
       "    <tr>\n",
       "      <th>Wind</th>\n",
       "      <td>-0.601547</td>\n",
       "      <td>-0.056792</td>\n",
       "      <td>1.000000</td>\n",
       "      <td>-0.466032</td>\n",
       "      <td>-0.175317</td>\n",
       "      <td>0.042365</td>\n",
       "      <td>0.237781</td>\n",
       "      <td>0.046054</td>\n",
       "      <td>-0.144638</td>\n",
       "      <td>-0.166105</td>\n",
       "    </tr>\n",
       "    <tr>\n",
       "      <th>Temp</th>\n",
       "      <td>0.698360</td>\n",
       "      <td>0.275840</td>\n",
       "      <td>-0.466032</td>\n",
       "      <td>1.000000</td>\n",
       "      <td>0.397427</td>\n",
       "      <td>-0.136876</td>\n",
       "      <td>-0.637816</td>\n",
       "      <td>0.050753</td>\n",
       "      <td>0.318103</td>\n",
       "      <td>0.321680</td>\n",
       "    </tr>\n",
       "    <tr>\n",
       "      <th>Month</th>\n",
       "      <td>0.164519</td>\n",
       "      <td>-0.075301</td>\n",
       "      <td>-0.175317</td>\n",
       "      <td>0.397427</td>\n",
       "      <td>1.000000</td>\n",
       "      <td>-0.007727</td>\n",
       "      <td>-0.702257</td>\n",
       "      <td>-0.362131</td>\n",
       "      <td>-0.007201</td>\n",
       "      <td>0.355246</td>\n",
       "    </tr>\n",
       "    <tr>\n",
       "      <th>Day</th>\n",
       "      <td>-0.013226</td>\n",
       "      <td>-0.150275</td>\n",
       "      <td>0.042365</td>\n",
       "      <td>-0.136876</td>\n",
       "      <td>-0.007727</td>\n",
       "      <td>1.000000</td>\n",
       "      <td>0.011003</td>\n",
       "      <td>-0.017044</td>\n",
       "      <td>0.011471</td>\n",
       "      <td>0.011471</td>\n",
       "    </tr>\n",
       "    <tr>\n",
       "      <th>Month_5</th>\n",
       "      <td>-0.302963</td>\n",
       "      <td>-0.024601</td>\n",
       "      <td>0.237781</td>\n",
       "      <td>-0.637816</td>\n",
       "      <td>-0.702257</td>\n",
       "      <td>0.011003</td>\n",
       "      <td>1.000000</td>\n",
       "      <td>-0.242766</td>\n",
       "      <td>-0.247805</td>\n",
       "      <td>-0.247805</td>\n",
       "    </tr>\n",
       "    <tr>\n",
       "      <th>Month_6</th>\n",
       "      <td>-0.112006</td>\n",
       "      <td>0.023998</td>\n",
       "      <td>0.046054</td>\n",
       "      <td>0.050753</td>\n",
       "      <td>-0.362131</td>\n",
       "      <td>-0.017044</td>\n",
       "      <td>-0.242766</td>\n",
       "      <td>1.000000</td>\n",
       "      <td>-0.253080</td>\n",
       "      <td>-0.253080</td>\n",
       "    </tr>\n",
       "    <tr>\n",
       "      <th>Month_7</th>\n",
       "      <td>0.277961</td>\n",
       "      <td>0.176744</td>\n",
       "      <td>-0.144638</td>\n",
       "      <td>0.318103</td>\n",
       "      <td>-0.007201</td>\n",
       "      <td>0.011471</td>\n",
       "      <td>-0.247805</td>\n",
       "      <td>-0.253080</td>\n",
       "      <td>1.000000</td>\n",
       "      <td>-0.258333</td>\n",
       "    </tr>\n",
       "    <tr>\n",
       "      <th>Month_8</th>\n",
       "      <td>0.291808</td>\n",
       "      <td>-0.076390</td>\n",
       "      <td>-0.166105</td>\n",
       "      <td>0.321680</td>\n",
       "      <td>0.355246</td>\n",
       "      <td>0.011471</td>\n",
       "      <td>-0.247805</td>\n",
       "      <td>-0.253080</td>\n",
       "      <td>-0.258333</td>\n",
       "      <td>1.000000</td>\n",
       "    </tr>\n",
       "  </tbody>\n",
       "</table>\n",
       "</div>"
      ],
      "text/plain": [
       "            Ozone   Solar.R      Wind      Temp     Month       Day   Month_5  \\\n",
       "Ozone    1.000000  0.348342 -0.601547  0.698360  0.164519 -0.013226 -0.302963   \n",
       "Solar.R  0.348342  1.000000 -0.056792  0.275840 -0.075301 -0.150275 -0.024601   \n",
       "Wind    -0.601547 -0.056792  1.000000 -0.466032 -0.175317  0.042365  0.237781   \n",
       "Temp     0.698360  0.275840 -0.466032  1.000000  0.397427 -0.136876 -0.637816   \n",
       "Month    0.164519 -0.075301 -0.175317  0.397427  1.000000 -0.007727 -0.702257   \n",
       "Day     -0.013226 -0.150275  0.042365 -0.136876 -0.007727  1.000000  0.011003   \n",
       "Month_5 -0.302963 -0.024601  0.237781 -0.637816 -0.702257  0.011003  1.000000   \n",
       "Month_6 -0.112006  0.023998  0.046054  0.050753 -0.362131 -0.017044 -0.242766   \n",
       "Month_7  0.277961  0.176744 -0.144638  0.318103 -0.007201  0.011471 -0.247805   \n",
       "Month_8  0.291808 -0.076390 -0.166105  0.321680  0.355246  0.011471 -0.247805   \n",
       "\n",
       "          Month_6   Month_7   Month_8  \n",
       "Ozone   -0.112006  0.277961  0.291808  \n",
       "Solar.R  0.023998  0.176744 -0.076390  \n",
       "Wind     0.046054 -0.144638 -0.166105  \n",
       "Temp     0.050753  0.318103  0.321680  \n",
       "Month   -0.362131 -0.007201  0.355246  \n",
       "Day     -0.017044  0.011471  0.011471  \n",
       "Month_5 -0.242766 -0.247805 -0.247805  \n",
       "Month_6  1.000000 -0.253080 -0.253080  \n",
       "Month_7 -0.253080  1.000000 -0.258333  \n",
       "Month_8 -0.253080 -0.258333  1.000000  "
      ]
     },
     "execution_count": 11,
     "metadata": {},
     "output_type": "execute_result"
    }
   ],
   "source": [
    "#now let's explore correlation Matrix\n",
    "OzoneData.corr()"
   ]
  },
  {
   "cell_type": "markdown",
   "metadata": {},
   "source": [
    "#### What seems to be the list of best variables that can define Ozone? How about Solar.R?"
   ]
  },
  {
   "cell_type": "markdown",
   "metadata": {},
   "source": [
    "Answer: The variables that best define (are highly correlated with) Ozone are Temp, Wind, and Solar.R. For Solar.R, the variables that best define are Ozone and Temp."
   ]
  },
  {
   "cell_type": "code",
   "execution_count": 12,
   "metadata": {
    "collapsed": false
   },
   "outputs": [],
   "source": [
    "# if in a multi class dummy variable case, you see a few of the dummy variables are not significant but the rest are; \n",
    "# you shall either drop all or keep all. Otherwise, selecting the base dummy will become important\n",
    "from sklearn.linear_model import LinearRegression\n",
    "from sklearn import feature_selection"
   ]
  },
  {
   "cell_type": "code",
   "execution_count": 13,
   "metadata": {
    "collapsed": true
   },
   "outputs": [],
   "source": [
    "# now let's use a regression model to predict Ozone. First drop NaN values in Ozone and save it in OzoneDroppedValues_Ozone\n",
    "OzoneDroppedValues_Ozone = OzoneData.dropna(subset=['Ozone']).copy()"
   ]
  },
  {
   "cell_type": "code",
   "execution_count": 14,
   "metadata": {
    "collapsed": false
   },
   "outputs": [],
   "source": [
    "# then run a regression line on variables of interest and check significancy of your model\n",
    "# use these variables ['Solar.R','Wind','Temp','Month_5','Month_6','Month_7','Month_8'] to predict\n",
    "lm = LinearRegression()\n",
    "X = OzoneDroppedValues_Ozone[['Wind','Temp','Month_5','Month_6','Month_7','Month_8']] #Michael said to not use Solar.R for this prediction\n",
    "y = OzoneDroppedValues_Ozone['Ozone']"
   ]
  },
  {
   "cell_type": "code",
   "execution_count": 15,
   "metadata": {
    "collapsed": false
   },
   "outputs": [
    {
     "data": {
      "text/plain": [
       "LinearRegression(copy_X=True, fit_intercept=True, n_jobs=1, normalize=False)"
      ]
     },
     "execution_count": 15,
     "metadata": {},
     "output_type": "execute_result"
    }
   ],
   "source": [
    "lm.fit(X,y)"
   ]
  },
  {
   "cell_type": "code",
   "execution_count": 16,
   "metadata": {
    "collapsed": false
   },
   "outputs": [
    {
     "name": "stdout",
     "output_type": "stream",
     "text": [
      "[('Wind', 9.271973903938185e-13), ('Temp', 2.9318965924778823e-18), ('Month_5', 0.0009473179683797473), ('Month_6', 0.23128827750319397), ('Month_7', 0.0025187357056135956), ('Month_8', 0.0014814156194754573)]\n"
     ]
    }
   ],
   "source": [
    "from sklearn import feature_selection\n",
    "pvals = feature_selection.f_regression(X,y)[1]\n",
    "print zip(X.columns.values,pvals) \n",
    "#Only Month 6 does not have a significant p-value, but it cannot be dropped because it is a dummy variable"
   ]
  },
  {
   "cell_type": "code",
   "execution_count": 17,
   "metadata": {
    "collapsed": false
   },
   "outputs": [],
   "source": [
    "# Now fill in null values of OzoneData['Ozone'] by predicted values\n",
    "ozone_predictors = OzoneData[['Wind','Temp','Month_5','Month_6','Month_7','Month_8']]\n",
    "OzoneData['ozone_predict'] = lm.predict(ozone_predictors)\n",
    "OzoneData['Ozone'].fillna(OzoneData['ozone_predict'],inplace=True)"
   ]
  },
  {
   "cell_type": "code",
   "execution_count": 18,
   "metadata": {
    "collapsed": false
   },
   "outputs": [
    {
     "data": {
      "text/plain": [
       "Ozone            0\n",
       "Solar.R          5\n",
       "Wind             0\n",
       "Temp             0\n",
       "Month            0\n",
       "Day              0\n",
       "Month_5          0\n",
       "Month_6          0\n",
       "Month_7          0\n",
       "Month_8          0\n",
       "ozone_predict    0\n",
       "dtype: int64"
      ]
     },
     "execution_count": 18,
     "metadata": {},
     "output_type": "execute_result"
    }
   ],
   "source": [
    "OzoneData.isnull().sum() #Verify null values in 'Ozone' were filled"
   ]
  },
  {
   "cell_type": "code",
   "execution_count": 19,
   "metadata": {
    "collapsed": false
   },
   "outputs": [
    {
     "data": {
      "text/plain": [
       "LinearRegression(copy_X=True, fit_intercept=True, n_jobs=1, normalize=False)"
      ]
     },
     "execution_count": 19,
     "metadata": {},
     "output_type": "execute_result"
    }
   ],
   "source": [
    "# Now repeat previous steps for Solar.R variable using ['Ozone','Wind','Temp']\n",
    "OzoneDroppedValues_SolarR = OzoneData.dropna(subset=['Solar.R']).copy()\n",
    "X = OzoneDroppedValues_SolarR[['Ozone','Wind','Temp']]\n",
    "y = OzoneDroppedValues_SolarR['Solar.R']\n",
    "lm.fit(X,y)"
   ]
  },
  {
   "cell_type": "code",
   "execution_count": 20,
   "metadata": {
    "collapsed": false
   },
   "outputs": [
    {
     "name": "stdout",
     "output_type": "stream",
     "text": [
      "[('Ozone', 0.00022176102483944005), ('Wind', 0.4959552068151224), ('Temp', 0.00075177292401030658)]\n"
     ]
    }
   ],
   "source": [
    "# Check p-values of your model - if a variable is not significant, drop it\n",
    "pvals = feature_selection.f_regression(X,y)[1]\n",
    "print zip(X.columns.values,pvals) #Wind is not significant"
   ]
  },
  {
   "cell_type": "code",
   "execution_count": 21,
   "metadata": {
    "collapsed": false
   },
   "outputs": [
    {
     "name": "stdout",
     "output_type": "stream",
     "text": [
      "[('Ozone', 0.00022176102483944005), ('Temp', 0.00075177292401030658)]\n"
     ]
    }
   ],
   "source": [
    "# Drop wind and re-reun regression\n",
    "X = OzoneDroppedValues_SolarR[['Ozone','Temp']]\n",
    "y = OzoneDroppedValues_SolarR['Solar.R']\n",
    "lm.fit(X,y)\n",
    "pvals = feature_selection.f_regression(X,y)[1]\n",
    "print zip(X.columns.values,pvals) #Wind is not significant"
   ]
  },
  {
   "cell_type": "code",
   "execution_count": 22,
   "metadata": {
    "collapsed": true
   },
   "outputs": [],
   "source": [
    "# now fill in null values of OzoneData['Solar.R'] by predicted values\n",
    "solar_predictors = OzoneData[['Ozone','Temp']]\n",
    "OzoneData['solar_predict'] = lm.predict(solar_predictors)"
   ]
  },
  {
   "cell_type": "markdown",
   "metadata": {},
   "source": [
    "#### Now check your filled data - if your predicted values are more than maximum or less than minimum, replace them by max and min"
   ]
  },
  {
   "cell_type": "code",
   "execution_count": 23,
   "metadata": {
    "collapsed": false
   },
   "outputs": [],
   "source": [
    "solar_below_min = OzoneData['solar_predict'] < OzoneData['Solar.R'].min()\n",
    "solar_above_max = OzoneData['solar_predict'] > OzoneData['Solar.R'].max()\n",
    "OzoneData.loc[solar_below_min,'solar_predict'] = OzoneData['Solar.R'].min()\n",
    "OzoneData.loc[solar_above_max,'solar_predict'] = OzoneData['Solar.R'].max()"
   ]
  },
  {
   "cell_type": "markdown",
   "metadata": {},
   "source": [
    "#### Now will fill null values after adding bounds to imputed values"
   ]
  },
  {
   "cell_type": "code",
   "execution_count": 24,
   "metadata": {
    "collapsed": true
   },
   "outputs": [],
   "source": [
    "OzoneData['Solar.R'].fillna(OzoneData['solar_predict'],inplace=True)"
   ]
  },
  {
   "cell_type": "code",
   "execution_count": 25,
   "metadata": {
    "collapsed": false
   },
   "outputs": [
    {
     "data": {
      "text/plain": [
       "Ozone            0\n",
       "Solar.R          0\n",
       "Wind             0\n",
       "Temp             0\n",
       "Month            0\n",
       "Day              0\n",
       "Month_5          0\n",
       "Month_6          0\n",
       "Month_7          0\n",
       "Month_8          0\n",
       "ozone_predict    0\n",
       "solar_predict    0\n",
       "dtype: int64"
      ]
     },
     "execution_count": 25,
     "metadata": {},
     "output_type": "execute_result"
    }
   ],
   "source": [
    "OzoneData.isnull().sum() #Verify null values were filled"
   ]
  },
  {
   "cell_type": "markdown",
   "metadata": {},
   "source": [
    "## Bonus: In original question, replace missing values of Ozone and Solar.R by Single Imputation Regression Line with Error"
   ]
  },
  {
   "cell_type": "code",
   "execution_count": 26,
   "metadata": {
    "collapsed": false
   },
   "outputs": [
    {
     "name": "stdout",
     "output_type": "stream",
     "text": [
      "20.9139543463\n"
     ]
    }
   ],
   "source": [
    "url = \"https://raw.githubusercontent.com/ga-students/SF-DAT-20/master/Data/ozone.csv\"\n",
    "OzoneData = pd.read_csv(url)\n",
    "MonthDummy = pd.get_dummies(OzoneData.Month, prefix = 'Month')\n",
    "del MonthDummy['Month_9']\n",
    "OzoneData = pd.concat([OzoneData, MonthDummy], axis=1)\n",
    "OzoneData.head()\n",
    "OzoneData.dropna(how = 'all', subset = ['Ozone', 'Solar.R'], inplace = True)\n",
    "\n",
    "lm = LinearRegression()\n",
    "\n",
    "# First, impute Ozone\n",
    "OzoneDroppedValues_Ozone = OzoneData.dropna(subset=['Ozone']).copy()\n",
    "X = OzoneDroppedValues_Ozone[['Wind','Temp','Month_5','Month_6','Month_7','Month_8']]\n",
    "y = OzoneDroppedValues_Ozone['Ozone']\n",
    "\n",
    "lm.fit(X,y)\n",
    "y_hat = lm.predict(X)\n",
    "standard_error_ozone = (sum((y-y_hat)**2)/(len(y)-2))**.5\n",
    "print(standard_error_ozone)"
   ]
  },
  {
   "cell_type": "code",
   "execution_count": 27,
   "metadata": {
    "collapsed": true
   },
   "outputs": [],
   "source": [
    "ozone_predictors = OzoneData[['Wind','Temp','Month_5','Month_6','Month_7','Month_8']]\n",
    "OzoneData['ozone_predict'] = lm.predict(ozone_predictors) + np.random.normal(0,standard_error_ozone,len(OzoneData))\n",
    "ozone_below_min = OzoneData['ozone_predict'] < OzoneData['Ozone'].min()\n",
    "ozone_above_max = OzoneData['ozone_predict'] > OzoneData['Ozone'].max()\n",
    "OzoneData.loc[ozone_below_min,'ozone_predict'] = OzoneData['Ozone'].min()\n",
    "OzoneData.loc[ozone_above_max,'ozone_predict'] = OzoneData['Ozone'].max()"
   ]
  },
  {
   "cell_type": "code",
   "execution_count": 28,
   "metadata": {
    "collapsed": true
   },
   "outputs": [],
   "source": [
    "OzoneData['Ozone'].fillna(OzoneData['ozone_predict'],inplace=True)"
   ]
  },
  {
   "cell_type": "code",
   "execution_count": 29,
   "metadata": {
    "collapsed": false
   },
   "outputs": [
    {
     "name": "stdout",
     "output_type": "stream",
     "text": [
      "86.0935501861\n"
     ]
    }
   ],
   "source": [
    "OzoneDroppedValues_SolarR = OzoneData.dropna(subset=['Solar.R']).copy()\n",
    "X = OzoneDroppedValues_SolarR[['Ozone','Temp']]\n",
    "y = OzoneDroppedValues_SolarR['Solar.R']\n",
    "lm.fit(X,y)\n",
    "y_hat = lm.predict(X)\n",
    "standard_error_solar = (sum((y-y_hat)**2)/(len(y)-2))**.5\n",
    "print(standard_error_solar)"
   ]
  },
  {
   "cell_type": "code",
   "execution_count": 30,
   "metadata": {
    "collapsed": true
   },
   "outputs": [],
   "source": [
    "solar_predictors = OzoneData[['Ozone','Temp']]\n",
    "OzoneData['solar_predict'] = lm.predict(solar_predictors) + np.random.normal(0,standard_error_solar,len(OzoneData))\n",
    "solar_below_min = OzoneData['solar_predict'] < OzoneData['Solar.R'].min()\n",
    "solar_above_max = OzoneData['solar_predict'] > OzoneData['Solar.R'].max()\n",
    "OzoneData.loc[solar_below_min,'solar_predict'] = OzoneData['Solar.R'].min()\n",
    "OzoneData.loc[solar_above_max,'solar_predict'] = OzoneData['Solar.R'].max()"
   ]
  },
  {
   "cell_type": "code",
   "execution_count": 31,
   "metadata": {
    "collapsed": true
   },
   "outputs": [],
   "source": [
    "OzoneData['Solar.R'].fillna(OzoneData['solar_predict'],inplace=True)"
   ]
  },
  {
   "cell_type": "code",
   "execution_count": 32,
   "metadata": {
    "collapsed": false
   },
   "outputs": [
    {
     "data": {
      "text/plain": [
       "Ozone            0\n",
       "Solar.R          0\n",
       "Wind             0\n",
       "Temp             0\n",
       "Month            0\n",
       "Day              0\n",
       "Month_5          0\n",
       "Month_6          0\n",
       "Month_7          0\n",
       "Month_8          0\n",
       "ozone_predict    0\n",
       "solar_predict    0\n",
       "dtype: int64"
      ]
     },
     "execution_count": 32,
     "metadata": {},
     "output_type": "execute_result"
    }
   ],
   "source": [
    "OzoneData.isnull().sum() #Verify null values were filled"
   ]
  },
  {
   "cell_type": "code",
   "execution_count": null,
   "metadata": {
    "collapsed": true
   },
   "outputs": [],
   "source": []
  }
 ],
 "metadata": {
  "kernelspec": {
   "display_name": "Python 2",
   "language": "python",
   "name": "python2"
  },
  "language_info": {
   "codemirror_mode": {
    "name": "ipython",
    "version": 2
   },
   "file_extension": ".py",
   "mimetype": "text/x-python",
   "name": "python",
   "nbconvert_exporter": "python",
   "pygments_lexer": "ipython2",
   "version": "2.7.11"
  }
 },
 "nbformat": 4,
 "nbformat_minor": 0
}
