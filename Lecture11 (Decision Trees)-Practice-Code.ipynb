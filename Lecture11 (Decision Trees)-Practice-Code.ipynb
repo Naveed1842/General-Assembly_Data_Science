{
 "cells": [
  {
   "cell_type": "code",
   "execution_count": 8,
   "metadata": {
    "collapsed": true
   },
   "outputs": [],
   "source": [
    "import pandas as pd\n",
    "import numpy as np\n",
    "import matplotlib.pyplot as plt\n",
    "%matplotlib inline"
   ]
  },
  {
   "cell_type": "code",
   "execution_count": 2,
   "metadata": {
    "collapsed": true
   },
   "outputs": [],
   "source": [
    "url = \"https://raw.githubusercontent.com/ga-students/SF-DAT-20/master/Data/Tobacco.csv\"\n",
    "TobaccoData = pd.read_csv(url)"
   ]
  },
  {
   "cell_type": "code",
   "execution_count": 3,
   "metadata": {
    "collapsed": false
   },
   "outputs": [
    {
     "data": {
      "text/html": [
       "<div>\n",
       "<table border=\"1\" class=\"dataframe\">\n",
       "  <thead>\n",
       "    <tr style=\"text-align: right;\">\n",
       "      <th></th>\n",
       "      <th>Unnamed: 0</th>\n",
       "      <th>occupation</th>\n",
       "      <th>region</th>\n",
       "      <th>nkids</th>\n",
       "      <th>nkids2</th>\n",
       "      <th>nadults</th>\n",
       "      <th>lnx</th>\n",
       "      <th>stobacco</th>\n",
       "      <th>salcohol</th>\n",
       "      <th>age</th>\n",
       "    </tr>\n",
       "  </thead>\n",
       "  <tbody>\n",
       "    <tr>\n",
       "      <th>0</th>\n",
       "      <td>1</td>\n",
       "      <td>bluecol</td>\n",
       "      <td>flanders</td>\n",
       "      <td>1</td>\n",
       "      <td>0</td>\n",
       "      <td>2</td>\n",
       "      <td>14.19054</td>\n",
       "      <td>0</td>\n",
       "      <td>0.000000</td>\n",
       "      <td>2</td>\n",
       "    </tr>\n",
       "    <tr>\n",
       "      <th>1</th>\n",
       "      <td>2</td>\n",
       "      <td>inactself</td>\n",
       "      <td>flanders</td>\n",
       "      <td>0</td>\n",
       "      <td>0</td>\n",
       "      <td>3</td>\n",
       "      <td>13.90857</td>\n",
       "      <td>0</td>\n",
       "      <td>0.002285</td>\n",
       "      <td>3</td>\n",
       "    </tr>\n",
       "    <tr>\n",
       "      <th>2</th>\n",
       "      <td>3</td>\n",
       "      <td>whitecol</td>\n",
       "      <td>flanders</td>\n",
       "      <td>0</td>\n",
       "      <td>0</td>\n",
       "      <td>1</td>\n",
       "      <td>13.97461</td>\n",
       "      <td>0</td>\n",
       "      <td>0.012875</td>\n",
       "      <td>2</td>\n",
       "    </tr>\n",
       "    <tr>\n",
       "      <th>3</th>\n",
       "      <td>4</td>\n",
       "      <td>bluecol</td>\n",
       "      <td>flanders</td>\n",
       "      <td>1</td>\n",
       "      <td>0</td>\n",
       "      <td>2</td>\n",
       "      <td>13.76281</td>\n",
       "      <td>0</td>\n",
       "      <td>0.005907</td>\n",
       "      <td>2</td>\n",
       "    </tr>\n",
       "    <tr>\n",
       "      <th>4</th>\n",
       "      <td>5</td>\n",
       "      <td>inactself</td>\n",
       "      <td>flanders</td>\n",
       "      <td>2</td>\n",
       "      <td>0</td>\n",
       "      <td>1</td>\n",
       "      <td>13.80800</td>\n",
       "      <td>0</td>\n",
       "      <td>0.021981</td>\n",
       "      <td>2</td>\n",
       "    </tr>\n",
       "  </tbody>\n",
       "</table>\n",
       "</div>"
      ],
      "text/plain": [
       "   Unnamed: 0 occupation    region  nkids  nkids2  nadults       lnx  \\\n",
       "0           1    bluecol  flanders      1       0        2  14.19054   \n",
       "1           2  inactself  flanders      0       0        3  13.90857   \n",
       "2           3   whitecol  flanders      0       0        1  13.97461   \n",
       "3           4    bluecol  flanders      1       0        2  13.76281   \n",
       "4           5  inactself  flanders      2       0        1  13.80800   \n",
       "\n",
       "   stobacco  salcohol  age  \n",
       "0         0  0.000000    2  \n",
       "1         0  0.002285    3  \n",
       "2         0  0.012875    2  \n",
       "3         0  0.005907    2  \n",
       "4         0  0.021981    2  "
      ]
     },
     "execution_count": 3,
     "metadata": {},
     "output_type": "execute_result"
    }
   ],
   "source": [
    "TobaccoData.head()"
   ]
  },
  {
   "cell_type": "code",
   "execution_count": 4,
   "metadata": {
    "collapsed": false
   },
   "outputs": [
    {
     "data": {
      "text/html": [
       "<div>\n",
       "<table border=\"1\" class=\"dataframe\">\n",
       "  <thead>\n",
       "    <tr style=\"text-align: right;\">\n",
       "      <th></th>\n",
       "      <th>occupation</th>\n",
       "      <th>region</th>\n",
       "      <th>nkids</th>\n",
       "      <th>nkids2</th>\n",
       "      <th>nadults</th>\n",
       "      <th>lnx</th>\n",
       "      <th>stobacco</th>\n",
       "      <th>salcohol</th>\n",
       "      <th>age</th>\n",
       "    </tr>\n",
       "  </thead>\n",
       "  <tbody>\n",
       "    <tr>\n",
       "      <th>0</th>\n",
       "      <td>bluecol</td>\n",
       "      <td>flanders</td>\n",
       "      <td>1</td>\n",
       "      <td>0</td>\n",
       "      <td>2</td>\n",
       "      <td>14.19054</td>\n",
       "      <td>0</td>\n",
       "      <td>0.000000</td>\n",
       "      <td>2</td>\n",
       "    </tr>\n",
       "    <tr>\n",
       "      <th>1</th>\n",
       "      <td>inactself</td>\n",
       "      <td>flanders</td>\n",
       "      <td>0</td>\n",
       "      <td>0</td>\n",
       "      <td>3</td>\n",
       "      <td>13.90857</td>\n",
       "      <td>0</td>\n",
       "      <td>0.002285</td>\n",
       "      <td>3</td>\n",
       "    </tr>\n",
       "    <tr>\n",
       "      <th>2</th>\n",
       "      <td>whitecol</td>\n",
       "      <td>flanders</td>\n",
       "      <td>0</td>\n",
       "      <td>0</td>\n",
       "      <td>1</td>\n",
       "      <td>13.97461</td>\n",
       "      <td>0</td>\n",
       "      <td>0.012875</td>\n",
       "      <td>2</td>\n",
       "    </tr>\n",
       "    <tr>\n",
       "      <th>3</th>\n",
       "      <td>bluecol</td>\n",
       "      <td>flanders</td>\n",
       "      <td>1</td>\n",
       "      <td>0</td>\n",
       "      <td>2</td>\n",
       "      <td>13.76281</td>\n",
       "      <td>0</td>\n",
       "      <td>0.005907</td>\n",
       "      <td>2</td>\n",
       "    </tr>\n",
       "    <tr>\n",
       "      <th>4</th>\n",
       "      <td>inactself</td>\n",
       "      <td>flanders</td>\n",
       "      <td>2</td>\n",
       "      <td>0</td>\n",
       "      <td>1</td>\n",
       "      <td>13.80800</td>\n",
       "      <td>0</td>\n",
       "      <td>0.021981</td>\n",
       "      <td>2</td>\n",
       "    </tr>\n",
       "  </tbody>\n",
       "</table>\n",
       "</div>"
      ],
      "text/plain": [
       "  occupation    region  nkids  nkids2  nadults       lnx  stobacco  salcohol  \\\n",
       "0    bluecol  flanders      1       0        2  14.19054         0  0.000000   \n",
       "1  inactself  flanders      0       0        3  13.90857         0  0.002285   \n",
       "2   whitecol  flanders      0       0        1  13.97461         0  0.012875   \n",
       "3    bluecol  flanders      1       0        2  13.76281         0  0.005907   \n",
       "4  inactself  flanders      2       0        1  13.80800         0  0.021981   \n",
       "\n",
       "   age  \n",
       "0    2  \n",
       "1    3  \n",
       "2    2  \n",
       "3    2  \n",
       "4    2  "
      ]
     },
     "execution_count": 4,
     "metadata": {},
     "output_type": "execute_result"
    }
   ],
   "source": [
    "del TobaccoData['Unnamed: 0']\n",
    "TobaccoData.head()"
   ]
  },
  {
   "cell_type": "markdown",
   "metadata": {},
   "source": [
    "Here is the data dictionary of this dataset:\n",
    "https://vincentarelbundock.github.io/Rdatasets/doc/Ecdat/Tobacco.html"
   ]
  },
  {
   "cell_type": "code",
   "execution_count": 5,
   "metadata": {
    "collapsed": false
   },
   "outputs": [
    {
     "data": {
      "text/html": [
       "<div>\n",
       "<table border=\"1\" class=\"dataframe\">\n",
       "  <thead>\n",
       "    <tr style=\"text-align: right;\">\n",
       "      <th></th>\n",
       "      <th>nkids</th>\n",
       "      <th>nkids2</th>\n",
       "      <th>nadults</th>\n",
       "      <th>lnx</th>\n",
       "      <th>stobacco</th>\n",
       "      <th>salcohol</th>\n",
       "      <th>region_brussels</th>\n",
       "      <th>region_walloon</th>\n",
       "      <th>occupation_bluecol</th>\n",
       "      <th>occupation_whitecol</th>\n",
       "      <th>age_1</th>\n",
       "      <th>age_2</th>\n",
       "      <th>age_3</th>\n",
       "      <th>age_4</th>\n",
       "    </tr>\n",
       "  </thead>\n",
       "  <tbody>\n",
       "    <tr>\n",
       "      <th>0</th>\n",
       "      <td>1</td>\n",
       "      <td>0</td>\n",
       "      <td>2</td>\n",
       "      <td>14.19054</td>\n",
       "      <td>0</td>\n",
       "      <td>0.000000</td>\n",
       "      <td>0</td>\n",
       "      <td>0</td>\n",
       "      <td>1</td>\n",
       "      <td>0</td>\n",
       "      <td>0</td>\n",
       "      <td>1</td>\n",
       "      <td>0</td>\n",
       "      <td>0</td>\n",
       "    </tr>\n",
       "    <tr>\n",
       "      <th>1</th>\n",
       "      <td>0</td>\n",
       "      <td>0</td>\n",
       "      <td>3</td>\n",
       "      <td>13.90857</td>\n",
       "      <td>0</td>\n",
       "      <td>0.002285</td>\n",
       "      <td>0</td>\n",
       "      <td>0</td>\n",
       "      <td>0</td>\n",
       "      <td>0</td>\n",
       "      <td>0</td>\n",
       "      <td>0</td>\n",
       "      <td>1</td>\n",
       "      <td>0</td>\n",
       "    </tr>\n",
       "    <tr>\n",
       "      <th>2</th>\n",
       "      <td>0</td>\n",
       "      <td>0</td>\n",
       "      <td>1</td>\n",
       "      <td>13.97461</td>\n",
       "      <td>0</td>\n",
       "      <td>0.012875</td>\n",
       "      <td>0</td>\n",
       "      <td>0</td>\n",
       "      <td>0</td>\n",
       "      <td>1</td>\n",
       "      <td>0</td>\n",
       "      <td>1</td>\n",
       "      <td>0</td>\n",
       "      <td>0</td>\n",
       "    </tr>\n",
       "    <tr>\n",
       "      <th>3</th>\n",
       "      <td>1</td>\n",
       "      <td>0</td>\n",
       "      <td>2</td>\n",
       "      <td>13.76281</td>\n",
       "      <td>0</td>\n",
       "      <td>0.005907</td>\n",
       "      <td>0</td>\n",
       "      <td>0</td>\n",
       "      <td>1</td>\n",
       "      <td>0</td>\n",
       "      <td>0</td>\n",
       "      <td>1</td>\n",
       "      <td>0</td>\n",
       "      <td>0</td>\n",
       "    </tr>\n",
       "    <tr>\n",
       "      <th>4</th>\n",
       "      <td>2</td>\n",
       "      <td>0</td>\n",
       "      <td>1</td>\n",
       "      <td>13.80800</td>\n",
       "      <td>0</td>\n",
       "      <td>0.021981</td>\n",
       "      <td>0</td>\n",
       "      <td>0</td>\n",
       "      <td>0</td>\n",
       "      <td>0</td>\n",
       "      <td>0</td>\n",
       "      <td>1</td>\n",
       "      <td>0</td>\n",
       "      <td>0</td>\n",
       "    </tr>\n",
       "  </tbody>\n",
       "</table>\n",
       "</div>"
      ],
      "text/plain": [
       "   nkids  nkids2  nadults       lnx  stobacco  salcohol  region_brussels  \\\n",
       "0      1       0        2  14.19054         0  0.000000                0   \n",
       "1      0       0        3  13.90857         0  0.002285                0   \n",
       "2      0       0        1  13.97461         0  0.012875                0   \n",
       "3      1       0        2  13.76281         0  0.005907                0   \n",
       "4      2       0        1  13.80800         0  0.021981                0   \n",
       "\n",
       "   region_walloon  occupation_bluecol  occupation_whitecol  age_1  age_2  \\\n",
       "0               0                   1                    0      0      1   \n",
       "1               0                   0                    0      0      0   \n",
       "2               0                   0                    1      0      1   \n",
       "3               0                   1                    0      0      1   \n",
       "4               0                   0                    0      0      1   \n",
       "\n",
       "   age_3  age_4  \n",
       "0      0      0  \n",
       "1      1      0  \n",
       "2      0      0  \n",
       "3      0      0  \n",
       "4      0      0  "
      ]
     },
     "execution_count": 5,
     "metadata": {},
     "output_type": "execute_result"
    }
   ],
   "source": [
    "region_dummy  = pd.get_dummies(TobaccoData['region'], prefix = 'region')\n",
    "del region_dummy['region_flanders']\n",
    "\n",
    "occupation_dummy = pd.get_dummies(TobaccoData['occupation'], prefix = 'occupation')\n",
    "del occupation_dummy['occupation_inactself']\n",
    "\n",
    "age_dummy = pd.get_dummies(TobaccoData['age'], prefix = 'age')\n",
    "del age_dummy['age_0']\n",
    "\n",
    "TobaccoData = pd.concat([TobaccoData,region_dummy ,occupation_dummy, age_dummy], axis=1)\n",
    "for i in ['occupation','region','age']:\n",
    "    del TobaccoData[i]\n",
    "TobaccoData.head()"
   ]
  },
  {
   "cell_type": "markdown",
   "metadata": {},
   "source": [
    "#### We would like to use a Decision Tree Regression model to detect the most important variables that affect expenditure on tobacco. Please follow necessary steps to develop your Regression Tree, tune it via Cross-Validation and lastly state the most important variables you found with the corresponding MSE of your best model. Your output is stobacco"
   ]
  },
  {
   "cell_type": "code",
   "execution_count": 31,
   "metadata": {
    "collapsed": false
   },
   "outputs": [],
   "source": [
    "X = TobaccoData.copy()\n",
    "del X['lnx']\n",
    "y = TobaccoData['lnx'].copy()"
   ]
  },
  {
   "cell_type": "code",
   "execution_count": 12,
   "metadata": {
    "collapsed": false
   },
   "outputs": [
    {
     "name": "stdout",
     "output_type": "stream",
     "text": [
      "    cv_scores  depth\n",
      "0    0.406893      1\n",
      "1    0.388836      2\n",
      "2    0.383778      3\n",
      "3    0.376797      4\n",
      "4    0.376835      5\n",
      "5    0.376509      6\n",
      "6    0.384326      7\n",
      "7    0.395072      8\n",
      "8    0.412172      9\n",
      "9    0.429053     10\n",
      "10   0.441848     11\n",
      "11   0.450185     12\n",
      "12   0.465356     13\n",
      "13   0.473151     14\n",
      "14   0.476620     15\n",
      "15   0.484640     16\n",
      "16   0.491759     17\n",
      "17   0.491663     18\n",
      "18   0.493877     19\n",
      "19   0.499231     20\n",
      "20   0.501428     21\n",
      "21   0.503454     22\n",
      "22   0.502482     23\n",
      "23   0.501855     24\n",
      "24   0.502145     25\n",
      "25   0.501285     26\n",
      "26   0.507252     27\n",
      "27   0.507992     28\n",
      "28   0.508645     29\n",
      "29   0.507530     30\n",
      "30   0.505012     31\n",
      "31   0.503838     32\n",
      "32   0.504669     33\n",
      "33   0.503176     34\n",
      "34   0.507164     35\n",
      "35   0.506826     36\n",
      "36   0.508024     37\n",
      "37   0.504367     38\n",
      "38   0.506785     39\n",
      "39   0.507592     40\n",
      "40   0.508031     41\n",
      "41   0.508025     42\n",
      "42   0.505858     43\n",
      "43   0.506888     44\n",
      "44   0.504958     45\n",
      "45   0.506630     46\n",
      "46   0.504327     47\n",
      "47   0.507187     48\n",
      "48   0.508636     49\n"
     ]
    },
    {
     "data": {
      "text/plain": [
       "<matplotlib.axes._subplots.AxesSubplot at 0x115250590>"
      ]
     },
     "execution_count": 12,
     "metadata": {},
     "output_type": "execute_result"
    },
    {
     "data": {
      "image/png": "[encoded data removed]",
      "text/plain": [
       "<matplotlib.figure.Figure at 0x1146b15d0>"
      ]
     },
     "metadata": {},
     "output_type": "display_data"
    }
   ],
   "source": [
    "from sklearn.cross_validation import cross_val_score\n",
    "from sklearn.tree import DecisionTreeRegressor\n",
    "\n",
    "depth_range = range(1,50)\n",
    "cv_scores = []\n",
    "for i in depth_range:\n",
    "    treereg = DecisionTreeRegressor(max_depth=i)\n",
    "    cv_error = cross_val_score(treereg,X,y,cv=10,scoring='mean_squared_error')\n",
    "    cv_scores.append(np.mean(np.sqrt(-cv_error)))\n",
    "\n",
    "depth_df = pd.DataFrame({'depth':depth_range,'cv_scores':cv_scores})\n",
    "print depth_df\n",
    "depth_df.plot(x='depth',y='cv_scores')"
   ]
  },
  {
   "cell_type": "markdown",
   "metadata": {
    "collapsed": false
   },
   "source": [
    "Depth of 4 appears to be ideal"
   ]
  },
  {
   "cell_type": "code",
   "execution_count": 15,
   "metadata": {
    "collapsed": false
   },
   "outputs": [
    {
     "data": {
      "text/plain": [
       "DecisionTreeRegressor(criterion='mse', max_depth=4, max_features=None,\n",
       "           max_leaf_nodes=None, min_samples_leaf=1, min_samples_split=2,\n",
       "           min_weight_fraction_leaf=0.0, presort=False, random_state=None,\n",
       "           splitter='best')"
      ]
     },
     "execution_count": 15,
     "metadata": {},
     "output_type": "execute_result"
    }
   ],
   "source": [
    "from sklearn.cross_validation import train_test_split\n",
    "from sklearn.metrics import mean_squared_error\n",
    "\n",
    "X_train, X_test, y_train, y_test = train_test_split(X,y,test_size=0.25)\n",
    "treereg = DecisionTreeRegressor(max_depth=4)\n",
    "treereg.fit(X_train,y_train)"
   ]
  },
  {
   "cell_type": "code",
   "execution_count": 16,
   "metadata": {
    "collapsed": false
   },
   "outputs": [
    {
     "data": {
      "text/plain": [
       "0.38989138659914091"
      ]
     },
     "execution_count": 16,
     "metadata": {},
     "output_type": "execute_result"
    }
   ],
   "source": [
    "predictions = treereg.predict(X_test)\n",
    "np.sqrt(mean_squared_error(y_test,predictions))"
   ]
  },
  {
   "cell_type": "code",
   "execution_count": 17,
   "metadata": {
    "collapsed": false
   },
   "outputs": [
    {
     "data": {
      "text/plain": [
       "[('nkids', 0.019632664289550381),\n",
       " ('nkids2', 0.0),\n",
       " ('nadults', 0.66619613097891872),\n",
       " ('stobacco', 0.0724969334715172),\n",
       " ('salcohol', 0.039688082673349258),\n",
       " ('region_brussels', 0.0),\n",
       " ('region_walloon', 0.0),\n",
       " ('occupation_bluecol', 0.0),\n",
       " ('occupation_whitecol', 0.17230697177692419),\n",
       " ('age_1', 0.0),\n",
       " ('age_2', 0.0),\n",
       " ('age_3', 0.0),\n",
       " ('age_4', 0.029679216809740155)]"
      ]
     },
     "execution_count": 17,
     "metadata": {},
     "output_type": "execute_result"
    }
   ],
   "source": [
    "zip(X.columns.values,treereg.feature_importances_)\n"
   ]
  },
  {
   "cell_type": "markdown",
   "metadata": {},
   "source": [
    "Explain your findings: nadults and occupation_whitecol are the most used features in the tree, while many features, including nkids2, region_brussels, region_walloon, occupation_bluecol, age_1, age_2, age_3"
   ]
  },
  {
   "cell_type": "markdown",
   "metadata": {},
   "source": [
    "#### Now, let's treat stobacco as a dummy variable to distinguish between those who smoke and who do not. We then need to use decision tree classifier to identify the most important features that may affect probability of smoking."
   ]
  },
  {
   "cell_type": "code",
   "execution_count": 18,
   "metadata": {
    "collapsed": false
   },
   "outputs": [
    {
     "data": {
      "text/html": [
       "<div>\n",
       "<table border=\"1\" class=\"dataframe\">\n",
       "  <thead>\n",
       "    <tr style=\"text-align: right;\">\n",
       "      <th></th>\n",
       "      <th>nkids</th>\n",
       "      <th>nkids2</th>\n",
       "      <th>nadults</th>\n",
       "      <th>lnx</th>\n",
       "      <th>salcohol</th>\n",
       "      <th>region_brussels</th>\n",
       "      <th>region_walloon</th>\n",
       "      <th>occupation_bluecol</th>\n",
       "      <th>occupation_whitecol</th>\n",
       "      <th>age_1</th>\n",
       "      <th>age_2</th>\n",
       "      <th>age_3</th>\n",
       "      <th>age_4</th>\n",
       "      <th>smoke</th>\n",
       "    </tr>\n",
       "  </thead>\n",
       "  <tbody>\n",
       "    <tr>\n",
       "      <th>0</th>\n",
       "      <td>1</td>\n",
       "      <td>0</td>\n",
       "      <td>2</td>\n",
       "      <td>14.19054</td>\n",
       "      <td>0.000000</td>\n",
       "      <td>0</td>\n",
       "      <td>0</td>\n",
       "      <td>1</td>\n",
       "      <td>0</td>\n",
       "      <td>0</td>\n",
       "      <td>1</td>\n",
       "      <td>0</td>\n",
       "      <td>0</td>\n",
       "      <td>0</td>\n",
       "    </tr>\n",
       "    <tr>\n",
       "      <th>1</th>\n",
       "      <td>0</td>\n",
       "      <td>0</td>\n",
       "      <td>3</td>\n",
       "      <td>13.90857</td>\n",
       "      <td>0.002285</td>\n",
       "      <td>0</td>\n",
       "      <td>0</td>\n",
       "      <td>0</td>\n",
       "      <td>0</td>\n",
       "      <td>0</td>\n",
       "      <td>0</td>\n",
       "      <td>1</td>\n",
       "      <td>0</td>\n",
       "      <td>0</td>\n",
       "    </tr>\n",
       "    <tr>\n",
       "      <th>2</th>\n",
       "      <td>0</td>\n",
       "      <td>0</td>\n",
       "      <td>1</td>\n",
       "      <td>13.97461</td>\n",
       "      <td>0.012875</td>\n",
       "      <td>0</td>\n",
       "      <td>0</td>\n",
       "      <td>0</td>\n",
       "      <td>1</td>\n",
       "      <td>0</td>\n",
       "      <td>1</td>\n",
       "      <td>0</td>\n",
       "      <td>0</td>\n",
       "      <td>0</td>\n",
       "    </tr>\n",
       "    <tr>\n",
       "      <th>3</th>\n",
       "      <td>1</td>\n",
       "      <td>0</td>\n",
       "      <td>2</td>\n",
       "      <td>13.76281</td>\n",
       "      <td>0.005907</td>\n",
       "      <td>0</td>\n",
       "      <td>0</td>\n",
       "      <td>1</td>\n",
       "      <td>0</td>\n",
       "      <td>0</td>\n",
       "      <td>1</td>\n",
       "      <td>0</td>\n",
       "      <td>0</td>\n",
       "      <td>0</td>\n",
       "    </tr>\n",
       "    <tr>\n",
       "      <th>4</th>\n",
       "      <td>2</td>\n",
       "      <td>0</td>\n",
       "      <td>1</td>\n",
       "      <td>13.80800</td>\n",
       "      <td>0.021981</td>\n",
       "      <td>0</td>\n",
       "      <td>0</td>\n",
       "      <td>0</td>\n",
       "      <td>0</td>\n",
       "      <td>0</td>\n",
       "      <td>1</td>\n",
       "      <td>0</td>\n",
       "      <td>0</td>\n",
       "      <td>0</td>\n",
       "    </tr>\n",
       "  </tbody>\n",
       "</table>\n",
       "</div>"
      ],
      "text/plain": [
       "   nkids  nkids2  nadults       lnx  salcohol  region_brussels  \\\n",
       "0      1       0        2  14.19054  0.000000                0   \n",
       "1      0       0        3  13.90857  0.002285                0   \n",
       "2      0       0        1  13.97461  0.012875                0   \n",
       "3      1       0        2  13.76281  0.005907                0   \n",
       "4      2       0        1  13.80800  0.021981                0   \n",
       "\n",
       "   region_walloon  occupation_bluecol  occupation_whitecol  age_1  age_2  \\\n",
       "0               0                   1                    0      0      1   \n",
       "1               0                   0                    0      0      0   \n",
       "2               0                   0                    1      0      1   \n",
       "3               0                   1                    0      0      1   \n",
       "4               0                   0                    0      0      1   \n",
       "\n",
       "   age_3  age_4 smoke  \n",
       "0      0      0     0  \n",
       "1      1      0     0  \n",
       "2      0      0     0  \n",
       "3      0      0     0  \n",
       "4      0      0     0  "
      ]
     },
     "execution_count": 18,
     "metadata": {},
     "output_type": "execute_result"
    }
   ],
   "source": [
    "TobaccoData['smoke'] = '1'\n",
    "mask_cat0 = (TobaccoData['stobacco'] == 0)   \n",
    "\n",
    "TobaccoData.loc[mask_cat0,'smoke'] = '0'\n",
    "del TobaccoData['stobacco']\n",
    "TobaccoData.head()"
   ]
  },
  {
   "cell_type": "code",
   "execution_count": 19,
   "metadata": {
    "collapsed": true
   },
   "outputs": [],
   "source": [
    "X = TobaccoData.copy()\n",
    "del X['smoke']\n",
    "y = TobaccoData['smoke'].copy()"
   ]
  },
  {
   "cell_type": "code",
   "execution_count": 23,
   "metadata": {
    "collapsed": false
   },
   "outputs": [
    {
     "name": "stdout",
     "output_type": "stream",
     "text": [
      "    cv_scores  depth\n",
      "0    0.619679      1\n",
      "1    0.610452      2\n",
      "2    0.617120      3\n",
      "3    0.605744      4\n",
      "4    0.602431      5\n",
      "5    0.608298      6\n",
      "6    0.598029      7\n",
      "7    0.597284      8\n",
      "8    0.589211      9\n",
      "9    0.580362     10\n",
      "10   0.573415     11\n",
      "11   0.576724     12\n",
      "12   0.580751     13\n",
      "13   0.577460     14\n",
      "14   0.577091     15\n",
      "15   0.575982     16\n",
      "16   0.572692     17\n",
      "17   0.565706     18\n",
      "18   0.566453     19\n",
      "19   0.565720     20\n",
      "20   0.566076     21\n",
      "21   0.566448     22\n",
      "22   0.562028     23\n",
      "23   0.565341     24\n",
      "24   0.565707     25\n",
      "25   0.566825     26\n",
      "26   0.568282     27\n",
      "27   0.565342     28\n",
      "28   0.563509     29\n",
      "29   0.565714     30\n",
      "30   0.566814     31\n",
      "31   0.566084     32\n",
      "32   0.567920     33\n",
      "33   0.567176     34\n",
      "34   0.567172     35\n",
      "35   0.564251     36\n",
      "36   0.564242     37\n",
      "37   0.564246     38\n",
      "38   0.567911     39\n",
      "39   0.566454     40\n",
      "40   0.565714     41\n",
      "41   0.566804     42\n",
      "42   0.563509     43\n",
      "43   0.564235     44\n",
      "44   0.563874     45\n",
      "45   0.567553     46\n",
      "46   0.564251     47\n",
      "47   0.565350     48\n",
      "48   0.567911     49\n"
     ]
    },
    {
     "data": {
      "text/plain": [
       "<matplotlib.axes._subplots.AxesSubplot at 0x115bfbe90>"
      ]
     },
     "execution_count": 23,
     "metadata": {},
     "output_type": "execute_result"
    },
    {
     "data": {
      "image/png": "[encoded data removed]",
      "text/plain": [
       "<matplotlib.figure.Figure at 0x115c63490>"
      ]
     },
     "metadata": {},
     "output_type": "display_data"
    }
   ],
   "source": [
    "from sklearn.tree import DecisionTreeClassifier\n",
    "\n",
    "depth_range = range(1,50)\n",
    "cv_scores = []\n",
    "for i in depth_range:\n",
    "    treereg = DecisionTreeClassifier(max_depth=i,min_samples_leaf=5)\n",
    "    cv_score = cross_val_score(treereg,X,y,cv=10)\n",
    "    cv_scores.append(np.mean(cv_score))\n",
    "    \n",
    "depth_df = pd.DataFrame({'depth':depth_range,'cv_scores':cv_scores})\n",
    "print depth_df\n",
    "depth_df.plot(x='depth',y='cv_scores')"
   ]
  },
  {
   "cell_type": "markdown",
   "metadata": {
    "collapsed": false
   },
   "source": [
    "Depth of 1 appears to be ideal for this tree"
   ]
  },
  {
   "cell_type": "code",
   "execution_count": 25,
   "metadata": {
    "collapsed": false
   },
   "outputs": [
    {
     "data": {
      "text/plain": [
       "DecisionTreeClassifier(class_weight=None, criterion='gini', max_depth=1,\n",
       "            max_features=None, max_leaf_nodes=None, min_samples_leaf=5,\n",
       "            min_samples_split=2, min_weight_fraction_leaf=0.0,\n",
       "            presort=False, random_state=None, splitter='best')"
      ]
     },
     "execution_count": 25,
     "metadata": {},
     "output_type": "execute_result"
    }
   ],
   "source": [
    "treereg = DecisionTreeClassifier(max_depth=1,min_samples_leaf=5)\n",
    "treereg.fit(X,y)"
   ]
  },
  {
   "cell_type": "code",
   "execution_count": 27,
   "metadata": {
    "collapsed": false
   },
   "outputs": [
    {
     "data": {
      "text/plain": [
       "[('nkids', 0.0),\n",
       " ('nkids2', 0.0),\n",
       " ('nadults', 0.0),\n",
       " ('lnx', 0.0),\n",
       " ('salcohol', 0.0),\n",
       " ('region_brussels', 0.0),\n",
       " ('region_walloon', 0.0),\n",
       " ('occupation_bluecol', 0.0),\n",
       " ('occupation_whitecol', 0.0),\n",
       " ('age_1', 0.0),\n",
       " ('age_2', 0.0),\n",
       " ('age_3', 0.0),\n",
       " ('age_4', 1.0)]"
      ]
     },
     "execution_count": 27,
     "metadata": {},
     "output_type": "execute_result"
    }
   ],
   "source": [
    "zip(X.columns.values,treereg.feature_importances_)"
   ]
  },
  {
   "cell_type": "markdown",
   "metadata": {},
   "source": [
    "The only feature that is used in this tree is age_4"
   ]
  }
 ],
 "metadata": {
  "kernelspec": {
   "display_name": "Python 2",
   "language": "python",
   "name": "python2"
  },
  "language_info": {
   "codemirror_mode": {
    "name": "ipython",
    "version": 2
   },
   "file_extension": ".py",
   "mimetype": "text/x-python",
   "name": "python",
   "nbconvert_exporter": "python",
   "pygments_lexer": "ipython2",
   "version": "2.7.11"
  }
 },
 "nbformat": 4,
 "nbformat_minor": 0
}
