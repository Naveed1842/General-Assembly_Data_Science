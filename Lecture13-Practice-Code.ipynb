{
 "cells": [
  {
   "cell_type": "code",
   "execution_count": 1,
   "metadata": {
    "collapsed": true
   },
   "outputs": [],
   "source": [
    "import numpy as np\n",
    "import matplotlib.pyplot as plt\n",
    "import pandas as pd\n",
    "%matplotlib notebook\n",
    "from sklearn.cross_validation import train_test_split\n",
    "# Each is a different implemntation of a text transform tool: Bag of Words & Tfidf\n",
    "from sklearn.feature_extraction.text import CountVectorizer,TfidfVectorizer"
   ]
  },
  {
   "cell_type": "markdown",
   "metadata": {},
   "source": [
    "#### Read yelp_labelled data and split it using \\n and \\t"
   ]
  },
  {
   "cell_type": "code",
   "execution_count": 7,
   "metadata": {
    "collapsed": true
   },
   "outputs": [],
   "source": [
    "rows = []\n",
    "with open('/Users/benstan/Desktop/GA-DS/SF-DAT-20-MASTER/Data/yelp_labelled.txt') as f:\n",
    "    for i,line in enumerate(f.readlines()):\n",
    "        row = (line.split('\\n')[0]).split('\\t')\n",
    "        if row[1] == '':\n",
    "            row[1] = np.nan\n",
    "        else:\n",
    "            row[1] = int(row[1])\n",
    "        rows.append(row)"
   ]
  },
  {
   "cell_type": "markdown",
   "metadata": {},
   "source": [
    "#### Put your yelp data into a dataframe and drop na values."
   ]
  },
  {
   "cell_type": "code",
   "execution_count": 8,
   "metadata": {
    "collapsed": false
   },
   "outputs": [
    {
     "data": {
      "text/html": [
       "<div>\n",
       "<table border=\"1\" class=\"dataframe\">\n",
       "  <thead>\n",
       "    <tr style=\"text-align: right;\">\n",
       "      <th></th>\n",
       "      <th>reviews</th>\n",
       "      <th>sentiment</th>\n",
       "    </tr>\n",
       "  </thead>\n",
       "  <tbody>\n",
       "    <tr>\n",
       "      <th>0</th>\n",
       "      <td>Wow... Loved this place.</td>\n",
       "      <td>1</td>\n",
       "    </tr>\n",
       "    <tr>\n",
       "      <th>1</th>\n",
       "      <td>I learned that if an electric slicer is used t...</td>\n",
       "      <td>NaN</td>\n",
       "    </tr>\n",
       "    <tr>\n",
       "      <th>2</th>\n",
       "      <td>But they don't clean the chiles?</td>\n",
       "      <td>NaN</td>\n",
       "    </tr>\n",
       "    <tr>\n",
       "      <th>3</th>\n",
       "      <td>Crust is not good.</td>\n",
       "      <td>0</td>\n",
       "    </tr>\n",
       "    <tr>\n",
       "      <th>4</th>\n",
       "      <td>Not tasty and the texture was just nasty.</td>\n",
       "      <td>0</td>\n",
       "    </tr>\n",
       "  </tbody>\n",
       "</table>\n",
       "</div>"
      ],
      "text/plain": [
       "                                             reviews  sentiment\n",
       "0                           Wow... Loved this place.          1\n",
       "1  I learned that if an electric slicer is used t...        NaN\n",
       "2                   But they don't clean the chiles?        NaN\n",
       "3                                 Crust is not good.          0\n",
       "4          Not tasty and the texture was just nasty.          0"
      ]
     },
     "execution_count": 8,
     "metadata": {},
     "output_type": "execute_result"
    }
   ],
   "source": [
    "yelp_data = pd.DataFrame(rows,columns=['reviews','sentiment'])\n",
    "yelp_data.head()"
   ]
  },
  {
   "cell_type": "code",
   "execution_count": 9,
   "metadata": {
    "collapsed": false
   },
   "outputs": [],
   "source": [
    "yelp_data.dropna(inplace=True)"
   ]
  },
  {
   "cell_type": "markdown",
   "metadata": {},
   "source": [
    "#### Using Pipeline, RandomForestClasifier, and GridSearchCV, play with min_df and max_df on your yelp data. Split your data to test and training. You can use either of CountVetorizer or TfidfVectorizer"
   ]
  },
  {
   "cell_type": "code",
   "execution_count": 10,
   "metadata": {
    "collapsed": true
   },
   "outputs": [],
   "source": [
    "count_vect = CountVectorizer(stop_words='english')\n",
    "bag_words = count_vect.fit_transform(yelp_data['reviews'])"
   ]
  },
  {
   "cell_type": "code",
   "execution_count": 21,
   "metadata": {
    "collapsed": false
   },
   "outputs": [],
   "source": [
    "from sklearn.ensemble import RandomForestClassifier\n",
    "from sklearn.cross_validation import cross_val_score\n",
    "from sklearn.cross_validation import train_test_split\n",
    "\n",
    "X = bag_words\n",
    "y = yelp_data['sentiment']\n",
    "\n",
    "X_train, X_test, y_train, y_test = train_test_split(yelp_data['reviews'],yelp_data['sentiment'],test_size=0.25)"
   ]
  },
  {
   "cell_type": "code",
   "execution_count": 22,
   "metadata": {
    "collapsed": false
   },
   "outputs": [],
   "source": [
    "from sklearn.pipeline import Pipeline\n",
    "from sklearn.grid_search import GridSearchCV\n",
    "\n",
    "text_clf = Pipeline([('vect', CountVectorizer()),\n",
    "                     ('clf', RandomForestClassifier())])"
   ]
  },
  {
   "cell_type": "code",
   "execution_count": 23,
   "metadata": {
    "collapsed": false
   },
   "outputs": [],
   "source": [
    "params = {'vect__min_df':[1,2,3],\n",
    "         'vect__max_df':[5,10,100,200,500,1000],\n",
    "         'clf__n_estimators':[100,500,1000,5000]}\n",
    "\n",
    "gs_clf = GridSearchCV(text_clf,params)"
   ]
  },
  {
   "cell_type": "code",
   "execution_count": 24,
   "metadata": {
    "collapsed": false
   },
   "outputs": [],
   "source": [
    "fit_grid = gs_clf.fit(X_train,y_train)"
   ]
  },
  {
   "cell_type": "code",
   "execution_count": 25,
   "metadata": {
    "collapsed": false
   },
   "outputs": [
    {
     "data": {
      "text/plain": [
       "{'clf__n_estimators': 1000, 'vect__max_df': 100, 'vect__min_df': 1}"
      ]
     },
     "execution_count": 25,
     "metadata": {},
     "output_type": "execute_result"
    }
   ],
   "source": [
    "fit_grid.best_params_"
   ]
  },
  {
   "cell_type": "markdown",
   "metadata": {},
   "source": [
    "#### How much test error do you get based on the optimizer you found above?"
   ]
  },
  {
   "cell_type": "code",
   "execution_count": 26,
   "metadata": {
    "collapsed": false
   },
   "outputs": [
    {
     "data": {
      "text/plain": [
       "0.78400000000000003"
      ]
     },
     "execution_count": 26,
     "metadata": {},
     "output_type": "execute_result"
    }
   ],
   "source": [
    "fit_grid.score(X_test,y_test)"
   ]
  },
  {
   "cell_type": "markdown",
   "metadata": {},
   "source": [
    "#### Look over few X_test instances and compare the category predicted for the observation and the actual review sentence. "
   ]
  },
  {
   "cell_type": "code",
   "execution_count": 31,
   "metadata": {
    "collapsed": false
   },
   "outputs": [
    {
     "name": "stdout",
     "output_type": "stream",
     "text": [
      "the potatoes were great and so was the biscuit. 1.0\n",
      "This place is amazing! 1.0\n",
      "Definitely worth venturing off the strip for the pork belly, will return next time I'm in Vegas. 1.0\n",
      "My breakfast was perpared great, with a beautiful presentation of 3 giant slices of Toast, lightly dusted with powdered sugar. 1.0\n"
     ]
    }
   ],
   "source": [
    "for i in range(4):\n",
    "    print X_test.values[i], fit_grid.predict(X_test)[i]"
   ]
  },
  {
   "cell_type": "markdown",
   "metadata": {},
   "source": [
    "## Bonus Quetions: Can you find the test instances that are correctly classified and those that are misclassified?"
   ]
  },
  {
   "cell_type": "code",
   "execution_count": 33,
   "metadata": {
    "collapsed": false
   },
   "outputs": [
    {
     "data": {
      "text/plain": [
       "1916    High-quality chicken on the chicken Caesar salad.\n",
       "2396    I don't have very many words to say about this...\n",
       "2354    Their frozen margaritas are WAY too sugary for...\n",
       "3513                                The food wasn't good.\n",
       "2362    So in a nutshell: 1) The restaraunt smells lik...\n",
       "181     The scallop dish is quite appalling for value ...\n",
       "505                 I dressed up to be treated so rudely!\n",
       "659     Much better than the other AYCE sushi place I ...\n",
       "3627    It really is impressive that the place hasn't ...\n",
       "1384    The one down note is the ventilation could use...\n",
       "2003    Very convenient, since we were staying at the ...\n",
       "2859    Now the burgers aren't as good, the pizza whic...\n",
       "624     If it were possible to give them zero stars, t...\n",
       "2080    Prices are very reasonable, flavors are spot o...\n",
       "436           Restaurant is always full but never a wait.\n",
       "2294    I got to enjoy the seafood salad, with a fabul...\n",
       "2916    If you stay in Vegas you must get breakfast he...\n",
       "120     He came running after us when he realized my h...\n",
       "361     The waiter wasn't helpful or friendly and rare...\n",
       "381     My fiancé and I came in the middle of the day ...\n",
       "1238                                       No complaints!\n",
       "607     The folks at Otto always make us feel so welco...\n",
       "1927    Tried to go here for lunch and it was a madhouse.\n",
       "2235          Overall, I like there food and the service.\n",
       "2416    When I received my Pita it was huge it did hav...\n",
       "725                              Plus, it's only 8 bucks.\n",
       "2607    I do love sushi, but I found Kabuki to be over...\n",
       "1165    Today was my first taste of a Buldogis Gourmet...\n",
       "2325    The chicken dishes are OK, the beef is like sh...\n",
       "3137                            This place lacked style!!\n",
       "2697    I ate there twice on my last visit, and especi...\n",
       "2220          A FLY was in my apple juice.. A FLY!!!!!!!!\n",
       "1717                                AN HOUR... seriously?\n",
       "2826    My boyfriend and i sat at the bar and had a co...\n",
       "1051                     They dropped more than the ball.\n",
       "1598               This place is two thumbs up....way up.\n",
       "3202    The tables outside are also dirty a lot of the...\n",
       "488     Not a weekly haunt, but definitely a place to ...\n",
       "2000                    It was just not a fun experience.\n",
       "1787    OMG I felt like I had never eaten Thai food un...\n",
       "1660    My boyfriend and I came here for the first tim...\n",
       "684     We had 7 at our table and the service was pret...\n",
       "512     Love this place, hits the spot when I want som...\n",
       "2464    Why are these sad little vegetables so overcoo...\n",
       "580                                        Won't go back.\n",
       "2059    I gave it 5 stars then, and I'm giving it 5 st...\n",
       "1166                                Left very frustrated.\n",
       "620                                   Very very fun chef.\n",
       "1755    As for the service: I'm a fan, because it's qu...\n",
       "1636    The yellowtail carpaccio was melt in your mout...\n",
       "518        What I really like there is the crepe station.\n",
       "1439    It was attached to a gas station, and that is ...\n",
       "786     Things that went wrong: - They burned the saga...\n",
       "3542                 Overpriced for what you are getting.\n",
       "Name: reviews, dtype: object"
      ]
     },
     "execution_count": 33,
     "metadata": {},
     "output_type": "execute_result"
    }
   ],
   "source": [
    "#Misclassified instances\n",
    "X_test[fit_grid.predict(X_test) != y_test]\n"
   ]
  },
  {
   "cell_type": "code",
   "execution_count": 34,
   "metadata": {
    "collapsed": false
   },
   "outputs": [
    {
     "data": {
      "text/plain": [
       "2731      the potatoes were great and so was the biscuit.\n",
       "788                                This place is amazing!\n",
       "330     Definitely worth venturing off the strip for t...\n",
       "1776    My breakfast was perpared great, with a beauti...\n",
       "3                                      Crust is not good.\n",
       "1743    I swung in to give them a try but was deeply d...\n",
       "3721    Then, as if I hadn't wasted enough of my life ...\n",
       "2405    The staff is super nice and very quick even wi...\n",
       "1632    I had the opportunity today to sample your ama...\n",
       "2451                      And service was super friendly.\n",
       "1970    Great place to relax and have an awesome burge...\n",
       "562                            The WORST EXPERIENCE EVER.\n",
       "1644                Just spicy enough.. Perfect actually.\n",
       "3621    Shrimp- When I unwrapped it (I live only 1/2 a...\n",
       "2907    My boyfriend tried the Mediterranean Chicken S...\n",
       "3301    She was quite disappointed although some blame...\n",
       "372     The menu is always changing, food quality is g...\n",
       "2216    One nice thing was that they added gratuity on...\n",
       "2230    The food was barely lukewarm, so it must have ...\n",
       "1071                                     I won't be back.\n",
       "758     I liked the patio and the service was outstand...\n",
       "439                                           DELICIOUS!!\n",
       "2147    Our server was very nice and attentive as were...\n",
       "2107                           It was absolutely amazing.\n",
       "24                                     Would not go back.\n",
       "2840                           There was hardly any meat.\n",
       "491     The burger had absolutely no flavor - the meat...\n",
       "1779                         The kids play area is NASTY!\n",
       "92                                         Service sucks.\n",
       "3299    If someone orders two tacos don't' you think i...\n",
       "                              ...                        \n",
       "1483        Cant say enough good things about this place.\n",
       "1092       I will come back here every time I'm in Vegas.\n",
       "658                  Seriously flavorful delights, folks.\n",
       "1760                           Boy was that sucker dry!!.\n",
       "4               Not tasty and the texture was just nasty.\n",
       "2190    We ordered some old classics and some new dish...\n",
       "1549         Anyway, I do not think i will go back there.\n",
       "3249              The real disappointment was our waiter.\n",
       "536     I'm not really sure how Joey's was voted best ...\n",
       "389       This is a great restaurant at the Mandalay Bay.\n",
       "2816    I started this review with two stars, but I'm ...\n",
       "3710    Overall I was not impressed and would not go b...\n",
       "1041          The staff are great, the ambiance is great.\n",
       "1119    I have been here several times in the past, an...\n",
       "50                 Waitress was a little slow in service.\n",
       "2165    I mean really, how do you get so famous for yo...\n",
       "2006    The owners are super friendly and the staff is...\n",
       "3220                                 Con: spotty service.\n",
       "3483    I don't know what the big deal is about this p...\n",
       "1214    Our server was very nice, and even though he l...\n",
       "165     We got the food and apparently they have never...\n",
       "2871         The service was terrible, food was mediocre.\n",
       "12         Now I am getting angry and I want my damn pho.\n",
       "416     I came back today since they relocated and sti...\n",
       "2322    The place was not clean and the food oh so stale!\n",
       "1704                                         A good time!\n",
       "749                                  You can't beat that.\n",
       "1430              The selection of food was not the best.\n",
       "2340    * Both the Hot & Sour & the Egg Flower Soups w...\n",
       "493     I also decided not to send it back because our...\n",
       "Name: reviews, dtype: object"
      ]
     },
     "execution_count": 34,
     "metadata": {},
     "output_type": "execute_result"
    }
   ],
   "source": [
    "#Correctly Classified instances\n",
    "X_test[fit_grid.predict(X_test) == y_test]\n",
    "\n"
   ]
  },
  {
   "cell_type": "code",
   "execution_count": null,
   "metadata": {
    "collapsed": true
   },
   "outputs": [],
   "source": []
  }
 ],
 "metadata": {
  "kernelspec": {
   "display_name": "Python 2",
   "language": "python",
   "name": "python2"
  },
  "language_info": {
   "codemirror_mode": {
    "name": "ipython",
    "version": 2
   },
   "file_extension": ".py",
   "mimetype": "text/x-python",
   "name": "python",
   "nbconvert_exporter": "python",
   "pygments_lexer": "ipython2",
   "version": "2.7.11"
  }
 },
 "nbformat": 4,
 "nbformat_minor": 0
}
