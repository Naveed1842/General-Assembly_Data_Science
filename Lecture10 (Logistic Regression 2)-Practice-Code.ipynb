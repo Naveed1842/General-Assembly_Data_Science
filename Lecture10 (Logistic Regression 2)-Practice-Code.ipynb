{
 "cells": [
  {
   "cell_type": "code",
   "execution_count": 1,
   "metadata": {
    "collapsed": true
   },
   "outputs": [],
   "source": [
    "import pandas as pd\n",
    "import numpy as np\n",
    "from sklearn.linear_model import LogisticRegression\n",
    "from sklearn.cross_validation import cross_val_score\n",
    "from sklearn.metrics import confusion_matrix\n",
    "from sklearn.metrics import roc_curve, auc,roc_auc_score\n",
    "import matplotlib.pyplot as plt\n",
    "%matplotlib inline"
   ]
  },
  {
   "cell_type": "code",
   "execution_count": 2,
   "metadata": {
    "collapsed": true
   },
   "outputs": [],
   "source": [
    "url = \"https://raw.githubusercontent.com/ga-students/SF-DAT-20/master/Data/myopia.csv\"\n",
    "MyopiaData = pd.read_csv(url)"
   ]
  },
  {
   "cell_type": "code",
   "execution_count": 3,
   "metadata": {
    "collapsed": false
   },
   "outputs": [
    {
     "data": {
      "text/html": [
       "<div>\n",
       "<table border=\"1\" class=\"dataframe\">\n",
       "  <thead>\n",
       "    <tr style=\"text-align: right;\">\n",
       "      <th></th>\n",
       "      <th>ID</th>\n",
       "      <th>STUDYYEAR</th>\n",
       "      <th>MYOPIC</th>\n",
       "      <th>AGE</th>\n",
       "      <th>GENDER</th>\n",
       "      <th>SPHEQ</th>\n",
       "      <th>AL</th>\n",
       "      <th>ACD</th>\n",
       "      <th>LT</th>\n",
       "      <th>VCD</th>\n",
       "      <th>SPORTHR</th>\n",
       "      <th>READHR</th>\n",
       "      <th>COMPHR</th>\n",
       "      <th>STUDYHR</th>\n",
       "      <th>TVHR</th>\n",
       "      <th>DIOPTERHR</th>\n",
       "      <th>MOMMY</th>\n",
       "      <th>DADMY</th>\n",
       "    </tr>\n",
       "  </thead>\n",
       "  <tbody>\n",
       "    <tr>\n",
       "      <th>0</th>\n",
       "      <td>1</td>\n",
       "      <td>1992</td>\n",
       "      <td>1</td>\n",
       "      <td>6</td>\n",
       "      <td>1</td>\n",
       "      <td>-0.052</td>\n",
       "      <td>21.89</td>\n",
       "      <td>3.690</td>\n",
       "      <td>3.498</td>\n",
       "      <td>14.70</td>\n",
       "      <td>45</td>\n",
       "      <td>8</td>\n",
       "      <td>0</td>\n",
       "      <td>0</td>\n",
       "      <td>10</td>\n",
       "      <td>34</td>\n",
       "      <td>1</td>\n",
       "      <td>1</td>\n",
       "    </tr>\n",
       "    <tr>\n",
       "      <th>1</th>\n",
       "      <td>2</td>\n",
       "      <td>1995</td>\n",
       "      <td>0</td>\n",
       "      <td>6</td>\n",
       "      <td>1</td>\n",
       "      <td>0.608</td>\n",
       "      <td>22.38</td>\n",
       "      <td>3.702</td>\n",
       "      <td>3.392</td>\n",
       "      <td>15.29</td>\n",
       "      <td>4</td>\n",
       "      <td>0</td>\n",
       "      <td>1</td>\n",
       "      <td>1</td>\n",
       "      <td>7</td>\n",
       "      <td>12</td>\n",
       "      <td>1</td>\n",
       "      <td>1</td>\n",
       "    </tr>\n",
       "    <tr>\n",
       "      <th>2</th>\n",
       "      <td>3</td>\n",
       "      <td>1991</td>\n",
       "      <td>0</td>\n",
       "      <td>6</td>\n",
       "      <td>1</td>\n",
       "      <td>1.179</td>\n",
       "      <td>22.49</td>\n",
       "      <td>3.462</td>\n",
       "      <td>3.514</td>\n",
       "      <td>15.52</td>\n",
       "      <td>14</td>\n",
       "      <td>0</td>\n",
       "      <td>2</td>\n",
       "      <td>0</td>\n",
       "      <td>10</td>\n",
       "      <td>14</td>\n",
       "      <td>0</td>\n",
       "      <td>0</td>\n",
       "    </tr>\n",
       "    <tr>\n",
       "      <th>3</th>\n",
       "      <td>4</td>\n",
       "      <td>1990</td>\n",
       "      <td>1</td>\n",
       "      <td>6</td>\n",
       "      <td>1</td>\n",
       "      <td>0.525</td>\n",
       "      <td>22.20</td>\n",
       "      <td>3.862</td>\n",
       "      <td>3.612</td>\n",
       "      <td>14.73</td>\n",
       "      <td>18</td>\n",
       "      <td>11</td>\n",
       "      <td>0</td>\n",
       "      <td>0</td>\n",
       "      <td>4</td>\n",
       "      <td>37</td>\n",
       "      <td>0</td>\n",
       "      <td>1</td>\n",
       "    </tr>\n",
       "    <tr>\n",
       "      <th>4</th>\n",
       "      <td>5</td>\n",
       "      <td>1995</td>\n",
       "      <td>0</td>\n",
       "      <td>5</td>\n",
       "      <td>0</td>\n",
       "      <td>0.697</td>\n",
       "      <td>23.29</td>\n",
       "      <td>3.676</td>\n",
       "      <td>3.454</td>\n",
       "      <td>16.16</td>\n",
       "      <td>14</td>\n",
       "      <td>0</td>\n",
       "      <td>0</td>\n",
       "      <td>0</td>\n",
       "      <td>4</td>\n",
       "      <td>4</td>\n",
       "      <td>1</td>\n",
       "      <td>0</td>\n",
       "    </tr>\n",
       "  </tbody>\n",
       "</table>\n",
       "</div>"
      ],
      "text/plain": [
       "   ID  STUDYYEAR  MYOPIC  AGE  GENDER  SPHEQ     AL    ACD     LT    VCD  \\\n",
       "0   1       1992       1    6       1 -0.052  21.89  3.690  3.498  14.70   \n",
       "1   2       1995       0    6       1  0.608  22.38  3.702  3.392  15.29   \n",
       "2   3       1991       0    6       1  1.179  22.49  3.462  3.514  15.52   \n",
       "3   4       1990       1    6       1  0.525  22.20  3.862  3.612  14.73   \n",
       "4   5       1995       0    5       0  0.697  23.29  3.676  3.454  16.16   \n",
       "\n",
       "   SPORTHR  READHR  COMPHR  STUDYHR  TVHR  DIOPTERHR  MOMMY  DADMY  \n",
       "0       45       8       0        0    10         34      1      1  \n",
       "1        4       0       1        1     7         12      1      1  \n",
       "2       14       0       2        0    10         14      0      0  \n",
       "3       18      11       0        0     4         37      0      1  \n",
       "4       14       0       0        0     4          4      1      0  "
      ]
     },
     "execution_count": 3,
     "metadata": {},
     "output_type": "execute_result"
    }
   ],
   "source": [
    "MyopiaData.head()"
   ]
  },
  {
   "cell_type": "markdown",
   "metadata": {},
   "source": [
    "Here is our dataset dictionary: https://www.umass.edu/statdata/statdata/data/myopia.pdf"
   ]
  },
  {
   "cell_type": "markdown",
   "metadata": {},
   "source": [
    "#### We are interested in finding out what contributes to Myopia the most. My grandmother always told me not to watch TV, play with computer since it will affect my eyes. (She was strangely fine with studying!). It sounds like Drs share the same point of view with my grandmother \" http://www.allaboutvision.com/conditions/myopia.htm \"\n",
    "\n",
    "#### We are Data Scientists and don't trust our grandmothers or DRs unless we find the same result! Now, let's go and explore Myopia!\n",
    "\n",
    "\n"
   ]
  },
  {
   "cell_type": "code",
   "execution_count": 4,
   "metadata": {
    "collapsed": true
   },
   "outputs": [],
   "source": [
    "# Year of study and id should not affect anything so we disregard them in this study. \n",
    "# we consider two types of inputs - first all general inputs - i.e. physical and external inputs\n",
    "# second only external inputs\n",
    "X1 = MyopiaData[['SPHEQ','AL','ACD','LT','VCD','AGE','GENDER','SPORTHR','READHR','COMPHR','STUDYHR','TVHR','DIOPTERHR','MOMMY','DADMY']]\n",
    "X2 = MyopiaData[['AGE','GENDER','SPORTHR','READHR','COMPHR','STUDYHR','TVHR','DIOPTERHR','MOMMY','DADMY']]\n",
    "y = MyopiaData['MYOPIC']\n"
   ]
  },
  {
   "cell_type": "markdown",
   "metadata": {},
   "source": [
    "Run your regression line on X1 and interpret your MOMMY AND DADMY coefficients."
   ]
  },
  {
   "cell_type": "code",
   "execution_count": 5,
   "metadata": {
    "collapsed": false
   },
   "outputs": [
    {
     "data": {
      "text/plain": [
       "LogisticRegression(C=1.0, class_weight=None, dual=False, fit_intercept=True,\n",
       "          intercept_scaling=1, max_iter=100, multi_class='ovr', n_jobs=1,\n",
       "          penalty='l2', random_state=None, solver='liblinear', tol=0.0001,\n",
       "          verbose=0, warm_start=False)"
      ]
     },
     "execution_count": 5,
     "metadata": {},
     "output_type": "execute_result"
    }
   ],
   "source": [
    "lm = LogisticRegression()\n",
    "lm.fit(X1,y)"
   ]
  },
  {
   "cell_type": "code",
   "execution_count": 6,
   "metadata": {
    "collapsed": false
   },
   "outputs": [
    {
     "data": {
      "text/plain": [
       "[('SPHEQ', -3.3942542632369896),\n",
       " ('AL', 0.11608687897257743),\n",
       " ('ACD', 0.77257188653390674),\n",
       " ('LT', -0.31202015836839203),\n",
       " ('VCD', -0.32603700949954018),\n",
       " ('AGE', 0.0037903377945019867),\n",
       " ('GENDER', 0.53625125528914097),\n",
       " ('SPORTHR', -0.047395193208825327),\n",
       " ('READHR', 0.097641797508110625),\n",
       " ('COMPHR', 0.05015847699789077),\n",
       " ('STUDYHR', -0.13224776658632248),\n",
       " ('TVHR', -0.0043863599263253691),\n",
       " ('DIOPTERHR', -0.0078873131668882289),\n",
       " ('MOMMY', 0.63899595306244383),\n",
       " ('DADMY', 0.72678879287330134)]"
      ]
     },
     "execution_count": 6,
     "metadata": {},
     "output_type": "execute_result"
    }
   ],
   "source": [
    "zip(X1.columns.values,lm.coef_[0])"
   ]
  },
  {
   "cell_type": "markdown",
   "metadata": {},
   "source": [
    "Interpretation: Variables SPHEQ, AL, ACD, LT, VCD, AGE, and GENDER all decrease the odds of Myopia while SPORTHR, READHR, COMPHR, STUDYHR, TVHR, DIOPTERHR, MOMMY, and DADMY all increase the odds"
   ]
  },
  {
   "cell_type": "markdown",
   "metadata": {},
   "source": [
    "#### Use confusion matrix and estimate False negative rate and False positive rate"
   ]
  },
  {
   "cell_type": "code",
   "execution_count": 7,
   "metadata": {
    "collapsed": false
   },
   "outputs": [
    {
     "name": "stdout",
     "output_type": "stream",
     "text": [
      "Predicted    0   1  All\n",
      "True                   \n",
      "0          524  13  537\n",
      "1           53  28   81\n",
      "All        577  41  618\n"
     ]
    }
   ],
   "source": [
    "#print confusion_matrix(lm.predict(X1),y)\n",
    "print pd.crosstab(y, lm.predict(X1), rownames=['True'], colnames=['Predicted'], margins=True)"
   ]
  },
  {
   "cell_type": "markdown",
   "metadata": {
    "collapsed": false
   },
   "source": [
    "False negative rate: FN/P = 53/81 = 65.4%\n",
    "False positive rate: FP/N = 13/537 = 2.4%"
   ]
  },
  {
   "cell_type": "markdown",
   "metadata": {},
   "source": [
    "#### Use 10-fold cross-validation to measure accuracy of your predictions"
   ]
  },
  {
   "cell_type": "code",
   "execution_count": 8,
   "metadata": {
    "collapsed": false
   },
   "outputs": [
    {
     "data": {
      "text/plain": [
       "0.88674716493330974"
      ]
     },
     "execution_count": 8,
     "metadata": {},
     "output_type": "execute_result"
    }
   ],
   "source": [
    "cross_val_score(lm,X1,y,cv=10).mean() #The accuracy is 88.7%"
   ]
  },
  {
   "cell_type": "markdown",
   "metadata": {},
   "source": [
    "#### In your dataset, what percentage of cases are myopic?"
   ]
  },
  {
   "cell_type": "code",
   "execution_count": 9,
   "metadata": {
    "collapsed": false
   },
   "outputs": [
    {
     "name": "stdout",
     "output_type": "stream",
     "text": [
      "0.131067961165\n"
     ]
    }
   ],
   "source": [
    "print float(MyopiaData['MYOPIC'].sum())/float(len(MyopiaData))"
   ]
  },
  {
   "cell_type": "markdown",
   "metadata": {},
   "source": [
    "#### Based on the result you found above, is your prediction precision good or bad?"
   ]
  },
  {
   "cell_type": "markdown",
   "metadata": {},
   "source": [
    "Answer: Because the model correctly predicts myopia 88.7% of the time and the condition is only prevalent in 13% of the population, this model is not precise, as it is only slightly better than predicting no myopia for all subjects"
   ]
  },
  {
   "cell_type": "markdown",
   "metadata": {},
   "source": [
    "#### Imagine you would like to decrease your False negative rate. What can you do in order to make it less than 2%? "
   ]
  },
  {
   "cell_type": "markdown",
   "metadata": {},
   "source": [
    "Answer: Lower the threshold for predicting Myopia. Under 2% would mean that <= 1 false negative exists in the "
   ]
  },
  {
   "cell_type": "code",
   "execution_count": 10,
   "metadata": {
    "collapsed": true
   },
   "outputs": [],
   "source": [
    "def PredictThreshold(Predictprob,Threshhold):\n",
    "    y_predict = 0\n",
    "    if (Predictprob >= Threshhold):\n",
    "        y_predict = 1\n",
    "    return y_predict"
   ]
  },
  {
   "cell_type": "code",
   "execution_count": 11,
   "metadata": {
    "collapsed": true
   },
   "outputs": [],
   "source": [
    "y_hat_prob = lm.predict_proba(X1).T[1]\n",
    "threshold = 0.02\n",
    "y_hat_new_thresh = []\n",
    "for i in y_hat_prob:\n",
    "    y_hat_new_thresh.append(PredictThreshold(i,threshold))"
   ]
  },
  {
   "cell_type": "code",
   "execution_count": 12,
   "metadata": {
    "collapsed": false
   },
   "outputs": [
    {
     "data": {
      "text/html": [
       "<div>\n",
       "<table border=\"1\" class=\"dataframe\">\n",
       "  <thead>\n",
       "    <tr style=\"text-align: right;\">\n",
       "      <th>Predicted</th>\n",
       "      <th>0</th>\n",
       "      <th>1</th>\n",
       "      <th>All</th>\n",
       "    </tr>\n",
       "    <tr>\n",
       "      <th>True</th>\n",
       "      <th></th>\n",
       "      <th></th>\n",
       "      <th></th>\n",
       "    </tr>\n",
       "  </thead>\n",
       "  <tbody>\n",
       "    <tr>\n",
       "      <th>0</th>\n",
       "      <td>180</td>\n",
       "      <td>357</td>\n",
       "      <td>537</td>\n",
       "    </tr>\n",
       "    <tr>\n",
       "      <th>1</th>\n",
       "      <td>1</td>\n",
       "      <td>80</td>\n",
       "      <td>81</td>\n",
       "    </tr>\n",
       "    <tr>\n",
       "      <th>All</th>\n",
       "      <td>181</td>\n",
       "      <td>437</td>\n",
       "      <td>618</td>\n",
       "    </tr>\n",
       "  </tbody>\n",
       "</table>\n",
       "</div>"
      ],
      "text/plain": [
       "Predicted    0    1  All\n",
       "True                    \n",
       "0          180  357  537\n",
       "1            1   80   81\n",
       "All        181  437  618"
      ]
     },
     "execution_count": 12,
     "metadata": {},
     "output_type": "execute_result"
    }
   ],
   "source": [
    "pd.crosstab(y, np.array(y_hat_new_thresh), rownames=['True'], colnames=['Predicted'], margins=True)"
   ]
  },
  {
   "cell_type": "markdown",
   "metadata": {},
   "source": [
    "#### Now let's run a logistic regression line on X2 and see if we can confirm our Grandmothers' claims!"
   ]
  },
  {
   "cell_type": "code",
   "execution_count": 13,
   "metadata": {
    "collapsed": false
   },
   "outputs": [
    {
     "name": "stdout",
     "output_type": "stream",
     "text": [
      "Predicted    0  All\n",
      "True               \n",
      "0          537  537\n",
      "1           81   81\n",
      "All        618  618\n"
     ]
    },
    {
     "data": {
      "text/plain": [
       "[('AGE', -0.14479550366267491),\n",
       " ('GENDER', 0.2454163226450089),\n",
       " ('SPORTHR', -0.04711948829944048),\n",
       " ('READHR', 0.068796635148855645),\n",
       " ('COMPHR', 0.0093704732839794101),\n",
       " ('STUDYHR', -0.071573634555331),\n",
       " ('TVHR', -0.0036419364035920406),\n",
       " ('DIOPTERHR', 0.0067680119445780096),\n",
       " ('MOMMY', 0.72829062308455994),\n",
       " ('DADMY', 0.83081272891196278)]"
      ]
     },
     "execution_count": 13,
     "metadata": {},
     "output_type": "execute_result"
    }
   ],
   "source": [
    "lm = LogisticRegression()\n",
    "lm.fit(X2,y)\n",
    "print pd.crosstab(y, lm.predict(X2), rownames=['True'], colnames=['Predicted'], margins=True)\n",
    "zip(X2.columns.values,lm.coef_[0])"
   ]
  },
  {
   "cell_type": "markdown",
   "metadata": {},
   "source": [
    "Interpret your results specifically on StudyHr, TVH, COMPHR, and Gender: \n",
    "\n",
    "STUDYHR and TVHR have negative coefficients, meaning that more time spent studying and watching TV decrease the odds of Myopia. Meanwhile COMPHR and GENDER have positive coefficients, meaning that looking at the computer and being a female increase the odds of Myopia."
   ]
  },
  {
   "cell_type": "markdown",
   "metadata": {},
   "source": [
    "#### Now it's time for regularization and choosing the best predictors:"
   ]
  },
  {
   "cell_type": "code",
   "execution_count": 14,
   "metadata": {
    "collapsed": true
   },
   "outputs": [],
   "source": [
    "#Let's first standardize our data - use X1\n",
    "def Standardize(X):\n",
    "    X_Max = X.max()\n",
    "    X_Min = X.min()\n",
    "    X_Standardized = (X-X_Min)/(X_Max - X_Min)\n",
    "    return X_Standardized\n",
    "\n",
    "standard_X1 = Standardize(X1)"
   ]
  },
  {
   "cell_type": "code",
   "execution_count": 15,
   "metadata": {
    "collapsed": false
   },
   "outputs": [
    {
     "data": {
      "text/plain": [
       "<matplotlib.axes._subplots.AxesSubplot at 0x10fb06dd0>"
      ]
     },
     "execution_count": 15,
     "metadata": {},
     "output_type": "execute_result"
    },
    {
     "data": {
      "image/png": "[encoded data removed]",
      "text/plain": [
       "<matplotlib.figure.Figure at 0x10fbae850>"
      ]
     },
     "metadata": {},
     "output_type": "display_data"
    }
   ],
   "source": [
    "# Try testing and plot using different C as input and l1 penalty\n",
    "c_list = np.logspace(-10,10,21) \n",
    "c_index = np.linspace(-10,10,21)\n",
    "cv_scores = []\n",
    "for c_score in c_list:\n",
    "    lm = LogisticRegression(C = c_score,penalty = \"l1\") #Setting penalty to l1 specifies ridge regression, l2 is ridge\n",
    "    cv_scores.append(cross_val_score(lm,standard_X1,y,cv=10).mean())\n",
    "    \n",
    "C_Choice_df = pd.DataFrame({'cv_scores': cv_scores ,'Log_C': c_index })\n",
    "C_Choice_df.plot(x ='Log_C',y = 'cv_scores' )"
   ]
  },
  {
   "cell_type": "code",
   "execution_count": 16,
   "metadata": {
    "collapsed": false
   },
   "outputs": [
    {
     "data": {
      "text/plain": [
       "<matplotlib.axes._subplots.AxesSubplot at 0x115610610>"
      ]
     },
     "execution_count": 16,
     "metadata": {},
     "output_type": "execute_result"
    },
    {
     "data": {
      "image/png": "[encoded data removed]",
      "text/plain": [
       "<matplotlib.figure.Figure at 0x11505b850>"
      ]
     },
     "metadata": {},
     "output_type": "display_data"
    }
   ],
   "source": [
    "# localize your search around the maximum value you found earlier\n",
    "c_list = np.logspace(-1,1,11)\n",
    "c_index = np.linspace(-1,1,11)\n",
    "cv_scores = []\n",
    "for c in c_list:\n",
    "    lm = LogisticRegression(C=c, penalty=\"l1\")\n",
    "    cv_scores.append(cross_val_score(lm,standard_X1,y,cv=10).mean())\n",
    "    \n",
    "c_df = pd.DataFrame({'cv_scores':cv_scores,'log_c':c_index})\n",
    "c_df.plot(x='log_c',y='cv_scores')"
   ]
  },
  {
   "cell_type": "code",
   "execution_count": 17,
   "metadata": {
    "collapsed": false
   },
   "outputs": [
    {
     "data": {
      "text/html": [
       "<div>\n",
       "<table border=\"1\" class=\"dataframe\">\n",
       "  <thead>\n",
       "    <tr style=\"text-align: right;\">\n",
       "      <th></th>\n",
       "      <th>coefficient value</th>\n",
       "      <th>variable</th>\n",
       "    </tr>\n",
       "  </thead>\n",
       "  <tbody>\n",
       "    <tr>\n",
       "      <th>0</th>\n",
       "      <td>-3.803809</td>\n",
       "      <td>SPHEQ</td>\n",
       "    </tr>\n",
       "    <tr>\n",
       "      <th>1</th>\n",
       "      <td>0.000000</td>\n",
       "      <td>AL</td>\n",
       "    </tr>\n",
       "    <tr>\n",
       "      <th>2</th>\n",
       "      <td>0.761558</td>\n",
       "      <td>ACD</td>\n",
       "    </tr>\n",
       "    <tr>\n",
       "      <th>3</th>\n",
       "      <td>0.000000</td>\n",
       "      <td>LT</td>\n",
       "    </tr>\n",
       "    <tr>\n",
       "      <th>4</th>\n",
       "      <td>-0.201753</td>\n",
       "      <td>VCD</td>\n",
       "    </tr>\n",
       "    <tr>\n",
       "      <th>5</th>\n",
       "      <td>0.000000</td>\n",
       "      <td>AGE</td>\n",
       "    </tr>\n",
       "    <tr>\n",
       "      <th>6</th>\n",
       "      <td>0.492612</td>\n",
       "      <td>GENDER</td>\n",
       "    </tr>\n",
       "    <tr>\n",
       "      <th>7</th>\n",
       "      <td>-0.048635</td>\n",
       "      <td>SPORTHR</td>\n",
       "    </tr>\n",
       "    <tr>\n",
       "      <th>8</th>\n",
       "      <td>0.070510</td>\n",
       "      <td>READHR</td>\n",
       "    </tr>\n",
       "    <tr>\n",
       "      <th>9</th>\n",
       "      <td>0.032730</td>\n",
       "      <td>COMPHR</td>\n",
       "    </tr>\n",
       "    <tr>\n",
       "      <th>10</th>\n",
       "      <td>-0.166967</td>\n",
       "      <td>STUDYHR</td>\n",
       "    </tr>\n",
       "    <tr>\n",
       "      <th>11</th>\n",
       "      <td>-0.015310</td>\n",
       "      <td>TVHR</td>\n",
       "    </tr>\n",
       "    <tr>\n",
       "      <th>12</th>\n",
       "      <td>0.000240</td>\n",
       "      <td>DIOPTERHR</td>\n",
       "    </tr>\n",
       "    <tr>\n",
       "      <th>13</th>\n",
       "      <td>0.610659</td>\n",
       "      <td>MOMMY</td>\n",
       "    </tr>\n",
       "    <tr>\n",
       "      <th>14</th>\n",
       "      <td>0.693019</td>\n",
       "      <td>DADMY</td>\n",
       "    </tr>\n",
       "  </tbody>\n",
       "</table>\n",
       "</div>"
      ],
      "text/plain": [
       "    coefficient value   variable\n",
       "0           -3.803809      SPHEQ\n",
       "1            0.000000         AL\n",
       "2            0.761558        ACD\n",
       "3            0.000000         LT\n",
       "4           -0.201753        VCD\n",
       "5            0.000000        AGE\n",
       "6            0.492612     GENDER\n",
       "7           -0.048635    SPORTHR\n",
       "8            0.070510     READHR\n",
       "9            0.032730     COMPHR\n",
       "10          -0.166967    STUDYHR\n",
       "11          -0.015310       TVHR\n",
       "12           0.000240  DIOPTERHR\n",
       "13           0.610659      MOMMY\n",
       "14           0.693019      DADMY"
      ]
     },
     "execution_count": 17,
     "metadata": {},
     "output_type": "execute_result"
    }
   ],
   "source": [
    "# List your variables from the smallest to the largest\n",
    "# Use value of c = 10**(0) = 1 based on the above analysis\n",
    "lm = LogisticRegression(C=1,penalty=\"l1\")\n",
    "lm.fit(X1,y)\n",
    "pd.DataFrame({'variable':X1.columns.values,'coefficient value':lm.coef_[0]}).sort_index()"
   ]
  },
  {
   "cell_type": "markdown",
   "metadata": {},
   "source": [
    "#### What is your conclusions about your Grandmothers' and some other Drs' claims?"
   ]
  },
  {
   "cell_type": "markdown",
   "metadata": {},
   "source": [
    "Answer: The greatest factors that influence the odds of myopia are SPHEQ and parent history, all of which are not based on behavior. Thus, the amount of time spent doing certain behaviors does not factor into the odds of Myopia"
   ]
  },
  {
   "cell_type": "markdown",
   "metadata": {},
   "source": [
    "#### Draw ROC curve for your best tuned model. "
   ]
  },
  {
   "cell_type": "code",
   "execution_count": 18,
   "metadata": {
    "collapsed": false
   },
   "outputs": [
    {
     "name": "stdout",
     "output_type": "stream",
     "text": [
      "0.895762926179\n"
     ]
    },
    {
     "data": {
      "text/plain": [
       "<matplotlib.axes._subplots.AxesSubplot at 0x115713250>"
      ]
     },
     "execution_count": 18,
     "metadata": {},
     "output_type": "execute_result"
    },
    {
     "data": {
      "image/png": "[encoded data removed]",
      "text/plain": [
       "<matplotlib.figure.Figure at 0x115135250>"
      ]
     },
     "metadata": {},
     "output_type": "display_data"
    }
   ],
   "source": [
    "y_hat_prob = lm.predict_proba(X1)[:,1]\n",
    "print roc_auc_score(y,y_hat_prob)\n",
    "vals = roc_curve(y,y_hat_prob)\n",
    "roc_df = pd.DataFrame({'false_pos_rate':vals[0],'true_pos_rate':vals[1]})\n",
    "roc_df.plot(x='false_pos_rate',y='true_pos_rate')"
   ]
  },
  {
   "cell_type": "code",
   "execution_count": null,
   "metadata": {
    "collapsed": true
   },
   "outputs": [],
   "source": []
  }
 ],
 "metadata": {
  "kernelspec": {
   "display_name": "Python 2",
   "language": "python",
   "name": "python2"
  },
  "language_info": {
   "codemirror_mode": {
    "name": "ipython",
    "version": 2
   },
   "file_extension": ".py",
   "mimetype": "text/x-python",
   "name": "python",
   "nbconvert_exporter": "python",
   "pygments_lexer": "ipython2",
   "version": "2.7.11"
  }
 },
 "nbformat": 4,
 "nbformat_minor": 0
}
